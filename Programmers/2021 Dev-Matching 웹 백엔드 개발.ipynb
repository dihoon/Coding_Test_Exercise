{
 "cells": [
  {
   "cell_type": "markdown",
   "id": "7bff1eec",
   "metadata": {},
   "source": [
    "2021 Dev-Matching: 웹 백엔드 개발 https://programmers.co.kr/learn/courses/30/lessons/77484#"
   ]
  },
  {
   "cell_type": "code",
   "execution_count": null,
   "id": "3da860ff",
   "metadata": {},
   "outputs": [],
   "source": [
    "def solution(lottos, win_nums):\n",
    "    rank = {6:1, 5:2, 4:3, 3:4, 2:5, 1:6, 0:6}\n",
    "    answer = []\n",
    "    zeros_num = lottos.count(0)\n",
    "    \n",
    "    share = len(set(lottos).intersection(set(win_nums)))\n",
    "    high_rank = share + zeros_num\n",
    "    low_rank = share\n",
    "    \n",
    "    answer = [rank[high_rank], rank[low_rank]]\n",
    "    \n",
    "    return answer"
   ]
  }
 ],
 "metadata": {
  "kernelspec": {
   "display_name": "Python 3 (ipykernel)",
   "language": "python",
   "name": "python3"
  },
  "language_info": {
   "codemirror_mode": {
    "name": "ipython",
    "version": 3
   },
   "file_extension": ".py",
   "mimetype": "text/x-python",
   "name": "python",
   "nbconvert_exporter": "python",
   "pygments_lexer": "ipython3",
   "version": "3.9.7"
  }
 },
 "nbformat": 4,
 "nbformat_minor": 5
}
