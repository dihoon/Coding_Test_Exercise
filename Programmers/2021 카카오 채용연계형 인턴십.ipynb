{
 "cells": [
  {
   "cell_type": "markdown",
   "id": "fe6e6355",
   "metadata": {},
   "source": [
    "2021 카카오 채용연계형 인턴십 https://programmers.co.kr/learn/courses/30/lessons/81301"
   ]
  },
  {
   "cell_type": "code",
   "execution_count": 13,
   "id": "c9780c03",
   "metadata": {},
   "outputs": [],
   "source": [
    "import re\n",
    "\n",
    "def solution(s):\n",
    "    d = {'zero':0,'one':1,'two':2,'three':3,'four':4,'five':5,'six':6, 'seven':7, 'eight':8, 'nine':9}\n",
    "    for key in d:\n",
    "        if re.search(key, s)!=None:\n",
    "            s = re.sub(key, str(d[key]), s)\n",
    "    result = int(s)\n",
    "    return result"
   ]
  },
  {
   "cell_type": "code",
   "execution_count": null,
   "id": "896f009e",
   "metadata": {},
   "outputs": [],
   "source": []
  }
 ],
 "metadata": {
  "kernelspec": {
   "display_name": "Python 3 (ipykernel)",
   "language": "python",
   "name": "python3"
  },
  "language_info": {
   "codemirror_mode": {
    "name": "ipython",
    "version": 3
   },
   "file_extension": ".py",
   "mimetype": "text/x-python",
   "name": "python",
   "nbconvert_exporter": "python",
   "pygments_lexer": "ipython3",
   "version": "3.9.7"
  }
 },
 "nbformat": 4,
 "nbformat_minor": 5
}
