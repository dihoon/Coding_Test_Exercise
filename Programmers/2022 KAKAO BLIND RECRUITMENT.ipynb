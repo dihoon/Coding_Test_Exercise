{
 "cells": [
  {
   "cell_type": "markdown",
   "id": "b64abd22",
   "metadata": {},
   "source": [
    "2022 KAKAO BLIND RECRUITMENT\n",
    "https://programmers.co.kr/learn/courses/30/lessons/92334?language=python3"
   ]
  },
  {
   "cell_type": "code",
   "execution_count": null,
   "id": "9761eb9b",
   "metadata": {},
   "outputs": [],
   "source": [
    "def solution(id_list, report, k):\n",
    "    \n",
    "    answer = []\n",
    "    report_count = {name : 0 for name in id_list} # 신고 당한 횟수 카운트\n",
    "    report_objects = {name : [] for name in id_list} # 신고한 사람 체크\n",
    "    report = set(report) # 한 사람이 같은 사람 신고해도 한 번으로 취급 (중복 제거)\n",
    "\n",
    "    for st in report:\n",
    "        report_objects[st.split()[0]] += [st.split()[1]] # 누가 누구를 신고했는지 \n",
    "        report_count[st.split()[1]] += 1 # 신고 당한 횟수 1 증가\n",
    "    \n",
    "    report_people = [name for name in report_count.keys() if report_count[name] >= k] # 최종 신고된 사람 리스트\n",
    "    \n",
    "    for name in id_list:\n",
    "        answer.append(len(set(report_objects[name]).intersection(set(report_people)))) \n",
    "        # 각 신고한 사람들 중 최종 신고된 사람 교집합 원소 개수 세기\n",
    "    \n",
    "    return answer"
   ]
  }
 ],
 "metadata": {
  "kernelspec": {
   "display_name": "Python 3 (ipykernel)",
   "language": "python",
   "name": "python3"
  },
  "language_info": {
   "codemirror_mode": {
    "name": "ipython",
    "version": 3
   },
   "file_extension": ".py",
   "mimetype": "text/x-python",
   "name": "python",
   "nbconvert_exporter": "python",
   "pygments_lexer": "ipython3",
   "version": "3.9.7"
  }
 },
 "nbformat": 4,
 "nbformat_minor": 5
}
