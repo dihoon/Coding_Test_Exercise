{
 "cells": [
  {
   "cell_type": "markdown",
   "id": "dc7e528c",
   "metadata": {},
   "source": [
    "Summer/Winter Coding(~2018) https://programmers.co.kr/learn/courses/30/lessons/12977"
   ]
  },
  {
   "cell_type": "code",
   "execution_count": null,
   "id": "0197a443",
   "metadata": {},
   "outputs": [],
   "source": [
    "def is_prime(num):\n",
    "        primes = [False] + [True if i!=0 else False for i in range(num)]\n",
    "        for i in range(2, num+1):\n",
    "            for j in range(2*i, num+1, i):\n",
    "                primes[j] = False\n",
    "        return primes[num]\n",
    "\n",
    "def combinations(iterable, r):\n",
    "    pool = tuple(iterable) \n",
    "    n = len(pool)\n",
    "    if r > n:\n",
    "        return \n",
    "    indices = list(range(r)) \n",
    "    yield [pool[i] for i in indices]\n",
    "    \n",
    "    while True:\n",
    "        for i in reversed(range(r)): \n",
    "            \n",
    "            if indices[i] != i + n - r: \n",
    "                break\n",
    "        else: \n",
    "            return \n",
    "        indices[i] += 1\n",
    "        for j in range(i+1, r):  \n",
    "            indices[j] = indices[j-1] + 1\n",
    "\n",
    "        yield [pool[i] for i in indices]\n",
    "    \n",
    "def solution(nums):\n",
    "    \n",
    "    count = 0\n",
    "    for lst in combinations(nums, 3):\n",
    "        if is_prime(sum(lst)):\n",
    "            count += 1\n",
    "            \n",
    "    return count"
   ]
  },
  {
   "cell_type": "markdown",
   "id": "6cc7349d",
   "metadata": {},
   "source": [
    "시간 초과 발생 -> 소수 판별하는 방식에서 O($n^2$)이므로 단일 for문으로 작성"
   ]
  },
  {
   "cell_type": "code",
   "execution_count": null,
   "id": "dfd93fc4",
   "metadata": {},
   "outputs": [],
   "source": [
    "import math\n",
    "\n",
    "def is_prime(num):\n",
    "    for i in range(2, int(math.sqrt(num))+1):\n",
    "        if num % i == 0:\n",
    "            return False\n",
    "    return True\n",
    "\n",
    "def combinations(iterable, r):\n",
    "    pool = tuple(iterable) \n",
    "    n = len(pool)\n",
    "    if r > n:\n",
    "        return \n",
    "    indices = list(range(r)) \n",
    "    yield [pool[i] for i in indices]\n",
    "    \n",
    "    while True:\n",
    "        for i in reversed(range(r)): \n",
    "            \n",
    "            if indices[i] != i + n - r: \n",
    "                break\n",
    "        else: \n",
    "            return \n",
    "        indices[i] += 1\n",
    "        for j in range(i+1, r):  \n",
    "            indices[j] = indices[j-1] + 1\n",
    "\n",
    "        yield [pool[i] for i in indices]\n",
    "    \n",
    "def solution(nums):\n",
    "    \n",
    "    count = 0\n",
    "    for lst in combinations(nums, 3):\n",
    "        if is_prime(sum(lst)):\n",
    "            count += 1\n",
    "            \n",
    "    return count"
   ]
  },
  {
   "cell_type": "markdown",
   "id": "4ac60234",
   "metadata": {},
   "source": [
    "itertools.combinations 라이브러리 사용하기"
   ]
  },
  {
   "cell_type": "code",
   "execution_count": null,
   "id": "71577968",
   "metadata": {},
   "outputs": [],
   "source": [
    "from itertools import combinations\n",
    "\n",
    "def solution(nums):\n",
    "    count = 0\n",
    "    for lst in combinations(nums, 3):\n",
    "        total = sum(lst)\n",
    "        for i in range(2, int(total**0.5)+1):\n",
    "            if total % i == 0:\n",
    "                break\n",
    "        else:\n",
    "            count+=1\n",
    "    return count"
   ]
  }
 ],
 "metadata": {
  "kernelspec": {
   "display_name": "Python 3 (ipykernel)",
   "language": "python",
   "name": "python3"
  },
  "language_info": {
   "codemirror_mode": {
    "name": "ipython",
    "version": 3
   },
   "file_extension": ".py",
   "mimetype": "text/x-python",
   "name": "python",
   "nbconvert_exporter": "python",
   "pygments_lexer": "ipython3",
   "version": "3.9.7"
  }
 },
 "nbformat": 4,
 "nbformat_minor": 5
}
