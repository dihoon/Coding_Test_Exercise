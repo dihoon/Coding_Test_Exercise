{
 "cells": [
  {
   "cell_type": "markdown",
   "id": "e2bf0489",
   "metadata": {},
   "source": [
    "2019 카카오 개발자 겨울 인턴 https://programmers.co.kr/learn/courses/30/lessons/64061"
   ]
  },
  {
   "cell_type": "code",
   "execution_count": 10,
   "id": "c01d0220",
   "metadata": {},
   "outputs": [],
   "source": [
    "def solution(board, moves):\n",
    "    basket = []\n",
    "    \n",
    "    def get_item(num):\n",
    "        result = None\n",
    "        for i in range(len(board)):\n",
    "            if board[i][num-1] != 0:\n",
    "                result = board[i][num-1]\n",
    "                board[i][num-1] = 0\n",
    "                break\n",
    "        return result\n",
    "    \n",
    "    count = 0\n",
    "    \n",
    "    for num in moves:\n",
    "        item = get_item(num)\n",
    "        if item != None:\n",
    "            if len(basket) != 0:\n",
    "                if basket[-1] == item:\n",
    "                    basket.pop()\n",
    "                    count += 2\n",
    "                    continue\n",
    "            basket.append(item)\n",
    "    \n",
    "    return count"
   ]
  },
  {
   "cell_type": "code",
   "execution_count": null,
   "id": "8fecfa13",
   "metadata": {},
   "outputs": [],
   "source": []
  }
 ],
 "metadata": {
  "kernelspec": {
   "display_name": "Python 3 (ipykernel)",
   "language": "python",
   "name": "python3"
  },
  "language_info": {
   "codemirror_mode": {
    "name": "ipython",
    "version": 3
   },
   "file_extension": ".py",
   "mimetype": "text/x-python",
   "name": "python",
   "nbconvert_exporter": "python",
   "pygments_lexer": "ipython3",
   "version": "3.9.7"
  }
 },
 "nbformat": 4,
 "nbformat_minor": 5
}
