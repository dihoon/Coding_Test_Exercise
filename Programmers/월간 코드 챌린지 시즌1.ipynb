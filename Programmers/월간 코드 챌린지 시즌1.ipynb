{
 "cells": [
  {
   "cell_type": "markdown",
   "id": "e5a3faf4",
   "metadata": {},
   "source": [
    "월간 코드 챌린지 시즌1 https://programmers.co.kr/learn/courses/30/lessons/70128/solution_groups?language=python3&type=all"
   ]
  },
  {
   "cell_type": "code",
   "execution_count": 1,
   "id": "d5e80829",
   "metadata": {},
   "outputs": [],
   "source": [
    "def solution(a, b):\n",
    "    return sum([i*j for i,j in zip(a, b)])"
   ]
  },
  {
   "cell_type": "code",
   "execution_count": null,
   "id": "019de928",
   "metadata": {},
   "outputs": [],
   "source": []
  }
 ],
 "metadata": {
  "kernelspec": {
   "display_name": "Python 3 (ipykernel)",
   "language": "python",
   "name": "python3"
  },
  "language_info": {
   "codemirror_mode": {
    "name": "ipython",
    "version": 3
   },
   "file_extension": ".py",
   "mimetype": "text/x-python",
   "name": "python",
   "nbconvert_exporter": "python",
   "pygments_lexer": "ipython3",
   "version": "3.9.7"
  }
 },
 "nbformat": 4,
 "nbformat_minor": 5
}
