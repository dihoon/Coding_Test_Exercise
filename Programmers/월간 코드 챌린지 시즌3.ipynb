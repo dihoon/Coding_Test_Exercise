{
 "cells": [
  {
   "cell_type": "markdown",
   "id": "39a30d02",
   "metadata": {},
   "source": [
    "월간 코드 챌린지 시즌3 https://programmers.co.kr/learn/courses/30/lessons/86051"
   ]
  },
  {
   "cell_type": "code",
   "execution_count": 1,
   "id": "e9c294ea",
   "metadata": {},
   "outputs": [],
   "source": [
    "def solution(numbers):\n",
    "    all_numbers=[i for i in range(10)]\n",
    "    lst=list(set(all_numbers)-set(numbers))\n",
    "    result=sum(lst)\n",
    "    return result"
   ]
  },
  {
   "cell_type": "code",
   "execution_count": null,
   "id": "58fc5da1",
   "metadata": {},
   "outputs": [],
   "source": []
  }
 ],
 "metadata": {
  "kernelspec": {
   "display_name": "Python 3 (ipykernel)",
   "language": "python",
   "name": "python3"
  },
  "language_info": {
   "codemirror_mode": {
    "name": "ipython",
    "version": 3
   },
   "file_extension": ".py",
   "mimetype": "text/x-python",
   "name": "python",
   "nbconvert_exporter": "python",
   "pygments_lexer": "ipython3",
   "version": "3.9.7"
  }
 },
 "nbformat": 4,
 "nbformat_minor": 5
}
