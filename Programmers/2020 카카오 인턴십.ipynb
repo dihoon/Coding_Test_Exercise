{
 "cells": [
  {
   "cell_type": "markdown",
   "id": "51e3fc2d",
   "metadata": {},
   "source": [
    "2020 카카오 인턴십 https://programmers.co.kr/learn/courses/30/lessons/67256"
   ]
  },
  {
   "cell_type": "code",
   "execution_count": 1,
   "id": "3b34d00d",
   "metadata": {},
   "outputs": [],
   "source": [
    "def solution(numbers, hand):\n",
    "    d = {'*':(0,0), 0:(1,0), '#':(2,0), 7:(0,1), 8:(1,1), 9:(2,1), 4:(0,2), 5:(1,2), 6:(2,2), 1:(0,3),2:(1,3), 3:(2,3)}\n",
    "    \n",
    "    def distance(t1, t2):\n",
    "        return abs(t1[0]-t2[0])+abs(t1[1]-t2[1])\n",
    "    \n",
    "    result = ''\n",
    "    left = d['*']\n",
    "    right = d['#']\n",
    "    \n",
    "    for num in numbers:\n",
    "        if num in [1,4,7]:\n",
    "            left = d[num]\n",
    "            result+='L'\n",
    "        elif num in [3,6,9]:\n",
    "            right = d[num]\n",
    "            result += 'R'\n",
    "        else:\n",
    "            if distance(left, d[num])>distance(right, d[num]):\n",
    "                right = d[num]\n",
    "                result+='R'\n",
    "            elif distance(left, d[num])<distance(right, d[num]):\n",
    "                left = d[num]\n",
    "                result+='L'\n",
    "            else:\n",
    "                if hand=='right':\n",
    "                    right = d[num]\n",
    "                    result+='R'\n",
    "                else:\n",
    "                    left = d[num]\n",
    "                    result+='L'\n",
    "    return result"
   ]
  },
  {
   "cell_type": "code",
   "execution_count": null,
   "id": "763684f1",
   "metadata": {},
   "outputs": [],
   "source": []
  }
 ],
 "metadata": {
  "kernelspec": {
   "display_name": "Python 3 (ipykernel)",
   "language": "python",
   "name": "python3"
  },
  "language_info": {
   "codemirror_mode": {
    "name": "ipython",
    "version": 3
   },
   "file_extension": ".py",
   "mimetype": "text/x-python",
   "name": "python",
   "nbconvert_exporter": "python",
   "pygments_lexer": "ipython3",
   "version": "3.9.7"
  }
 },
 "nbformat": 4,
 "nbformat_minor": 5
}
