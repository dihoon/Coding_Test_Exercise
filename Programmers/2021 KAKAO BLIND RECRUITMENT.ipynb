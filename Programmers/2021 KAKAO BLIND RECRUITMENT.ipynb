{
 "cells": [
  {
   "cell_type": "markdown",
   "id": "05f3f2d0",
   "metadata": {},
   "source": [
    "2021 KAKAO BLIND RECRUITMENT https://programmers.co.kr/learn/courses/30/lessons/72410"
   ]
  },
  {
   "cell_type": "code",
   "execution_count": 53,
   "id": "23bdeaae",
   "metadata": {},
   "outputs": [],
   "source": [
    "import re\n",
    "\n",
    "def solution(new_id):\n",
    "       \n",
    "    temp = new_id.lower() # 소문자로 치환\n",
    "    temp = re.sub(r\"[^a-z0-9-_.]\", '', temp) # 다른 문자 제거\n",
    "    temp = re.sub(r\"[.]{2,}\", '.', temp) # .. -> .\n",
    "    temp = re.sub(r\"^[.]|[.]$\", '', temp) # 처음이나 끝 위치 . 제거\n",
    "    if temp == '': \n",
    "        temp += 'a'\n",
    "    if len(temp)>=16:\n",
    "        temp = temp[:15]\n",
    "        if temp[-1] == '.':\n",
    "            temp = re.sub(r\".$\", '', temp)\n",
    "    if len(temp)<=2:\n",
    "        temp += temp[-1]*3\n",
    "        temp = temp[:3]\n",
    "    \n",
    "    return temp"
   ]
  },
  {
   "cell_type": "code",
   "execution_count": null,
   "id": "59d0c872",
   "metadata": {},
   "outputs": [],
   "source": []
  },
  {
   "cell_type": "code",
   "execution_count": null,
   "id": "d1f80714",
   "metadata": {},
   "outputs": [],
   "source": []
  }
 ],
 "metadata": {
  "kernelspec": {
   "display_name": "Python 3 (ipykernel)",
   "language": "python",
   "name": "python3"
  },
  "language_info": {
   "codemirror_mode": {
    "name": "ipython",
    "version": 3
   },
   "file_extension": ".py",
   "mimetype": "text/x-python",
   "name": "python",
   "nbconvert_exporter": "python",
   "pygments_lexer": "ipython3",
   "version": "3.9.7"
  }
 },
 "nbformat": 4,
 "nbformat_minor": 5
}
