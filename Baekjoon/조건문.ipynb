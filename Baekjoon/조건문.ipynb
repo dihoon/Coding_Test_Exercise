{
 "cells": [
  {
   "cell_type": "markdown",
   "id": "749f6108",
   "metadata": {},
   "source": [
    "두 수 비교하기 https://www.acmicpc.net/problem/1330"
   ]
  },
  {
   "cell_type": "code",
   "execution_count": 2,
   "id": "1219e02a",
   "metadata": {},
   "outputs": [
    {
     "name": "stdout",
     "output_type": "stream",
     "text": [
      "5 5\n",
      "==\n"
     ]
    }
   ],
   "source": [
    "a, b = map(int, input().split())\n",
    "if a<b:\n",
    "    result = '<'\n",
    "elif a>b:\n",
    "    result = '>'\n",
    "else: # a == b\n",
    "    result = '=='\n",
    "print(result)"
   ]
  },
  {
   "cell_type": "markdown",
   "id": "b10e7e62",
   "metadata": {},
   "source": [
    "시험 성적 https://www.acmicpc.net/problem/9498"
   ]
  },
  {
   "cell_type": "code",
   "execution_count": 3,
   "id": "71f1d590",
   "metadata": {},
   "outputs": [
    {
     "name": "stdout",
     "output_type": "stream",
     "text": [
      "100\n",
      "A\n"
     ]
    }
   ],
   "source": [
    "score = int(input())\n",
    "if 90<=score&score<=100:\n",
    "    print('A')\n",
    "elif 80<=score&score<=89:\n",
    "    print('B')\n",
    "elif 70<=score&score<=79:\n",
    "    print('C')\n",
    "elif 60<=score&score<=69:\n",
    "    print('D')\n",
    "else:\n",
    "    print('F')"
   ]
  },
  {
   "cell_type": "markdown",
   "id": "1f045d7b",
   "metadata": {},
   "source": [
    "윤년 https://www.acmicpc.net/problem/2753"
   ]
  },
  {
   "cell_type": "code",
   "execution_count": 9,
   "id": "97462ab6",
   "metadata": {},
   "outputs": [
    {
     "name": "stdout",
     "output_type": "stream",
     "text": [
      "2012\n",
      "1\n"
     ]
    }
   ],
   "source": [
    "year = int(input())\n",
    "if ((year%4==0)&(year%100!=0))|(year%400==0):\n",
    "    print(1)\n",
    "else:\n",
    "    print(0)"
   ]
  },
  {
   "cell_type": "markdown",
   "id": "5db61a2c",
   "metadata": {},
   "source": [
    "사분면 고르기 https://www.acmicpc.net/problem/14681"
   ]
  },
  {
   "cell_type": "code",
   "execution_count": null,
   "id": "ef1a4963",
   "metadata": {},
   "outputs": [],
   "source": []
  }
 ],
 "metadata": {
  "kernelspec": {
   "display_name": "Python 3 (ipykernel)",
   "language": "python",
   "name": "python3"
  },
  "language_info": {
   "codemirror_mode": {
    "name": "ipython",
    "version": 3
   },
   "file_extension": ".py",
   "mimetype": "text/x-python",
   "name": "python",
   "nbconvert_exporter": "python",
   "pygments_lexer": "ipython3",
   "version": "3.9.7"
  }
 },
 "nbformat": 4,
 "nbformat_minor": 5
}
