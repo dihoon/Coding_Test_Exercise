{
 "cells": [
  {
   "cell_type": "markdown",
   "id": "d8616d40",
   "metadata": {},
   "source": [
    "어디에 단어가 들어갈 수 있을까 https://swexpertacademy.com/main/solvingProblem/solvingProblem.do"
   ]
  },
  {
   "cell_type": "code",
   "execution_count": 6,
   "id": "9e334410",
   "metadata": {},
   "outputs": [
    {
     "name": "stdout",
     "output_type": "stream",
     "text": [
      "1\n",
      "5 3\n",
      "0 0 1 1 1\n",
      "1 1 1 1 0\n",
      "0 0 1 0 0\n",
      "0 1 1 1 1\n",
      "1 1 1 0 1\n",
      "#1 2\n"
     ]
    }
   ],
   "source": [
    "T = int(input())\n",
    "for test_case in range(1, T+1):\n",
    "    N, K = map(int, input().split())\n",
    "    matrix = []\n",
    "    for i in range(N):\n",
    "        matrix.append([i for i in input().split()])\n",
    "    count = 0\n",
    "    for i in range(N):\n",
    "        for j in [st for st in ''.join(matrix[i]).split('0')]:\n",
    "            if len(j) == K:\n",
    "                count+=1\n",
    "    for i in range(N):\n",
    "        lst = []\n",
    "        for j in range(N):\n",
    "            lst.append(matrix[j][i])\n",
    "        for i in ''.join(lst).split('0'):\n",
    "            if len(i) == K:\n",
    "                count+=1\n",
    "    print(f'#{test_case}', count)"
   ]
  },
  {
   "cell_type": "code",
   "execution_count": null,
   "id": "525fbd14",
   "metadata": {},
   "outputs": [],
   "source": []
  }
 ],
 "metadata": {
  "kernelspec": {
   "display_name": "Python 3 (ipykernel)",
   "language": "python",
   "name": "python3"
  },
  "language_info": {
   "codemirror_mode": {
    "name": "ipython",
    "version": 3
   },
   "file_extension": ".py",
   "mimetype": "text/x-python",
   "name": "python",
   "nbconvert_exporter": "python",
   "pygments_lexer": "ipython3",
   "version": "3.9.7"
  }
 },
 "nbformat": 4,
 "nbformat_minor": 5
}
