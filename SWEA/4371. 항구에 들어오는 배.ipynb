{
 "cells": [
  {
   "cell_type": "markdown",
   "id": "98b5161a",
   "metadata": {},
   "source": [
    "항구에 들어오는 배 https://swexpertacademy.com/main/code/problem/problemDetail.do?problemLevel=3&contestProbId=AWMedCxalW8DFAXd&categoryId=AWMedCxalW8DFAXd&categoryType=CODE&problemTitle=&orderBy=PASS_RATE&selectCodeLang=PYTHON&select-1=3&pageSize=10&pageIndex=8"
   ]
  },
  {
   "cell_type": "code",
   "execution_count": 6,
   "id": "7e8b6eec",
   "metadata": {},
   "outputs": [
    {
     "name": "stdout",
     "output_type": "stream",
     "text": [
      "3\n",
      "3\n",
      "1\n",
      "3\n",
      "4\n",
      "#1 2\n",
      "5\n",
      "1\n",
      "7\n",
      "10\n",
      "13\n",
      "19\n",
      "#2 2\n",
      "3\n",
      "1\n",
      "500000000\n",
      "999999999\n",
      "#3 1\n"
     ]
    }
   ],
   "source": [
    "for tc in range(1, int(input())+1):\n",
    "    N = int(input())\n",
    "    lst = []\n",
    "    cnt = 0\n",
    "    for i in range(N):\n",
    "        lst.append(int(input()))\n",
    "    for i in range(1,N):\n",
    "        if lst[i] != 0:\n",
    "            m = lst[i]-lst[0]\n",
    "            cnt += 1\n",
    "            for j in range(i,N):\n",
    "                if lst[j] % m == 1:\n",
    "                    lst[j] = 0\n",
    "    print(f'#{tc} {cnt}')"
   ]
  },
  {
   "cell_type": "code",
   "execution_count": null,
   "id": "8b5b58ac",
   "metadata": {},
   "outputs": [],
   "source": []
  }
 ],
 "metadata": {
  "kernelspec": {
   "display_name": "Python 3 (ipykernel)",
   "language": "python",
   "name": "python3"
  },
  "language_info": {
   "codemirror_mode": {
    "name": "ipython",
    "version": 3
   },
   "file_extension": ".py",
   "mimetype": "text/x-python",
   "name": "python",
   "nbconvert_exporter": "python",
   "pygments_lexer": "ipython3",
   "version": "3.9.12"
  }
 },
 "nbformat": 4,
 "nbformat_minor": 5
}
