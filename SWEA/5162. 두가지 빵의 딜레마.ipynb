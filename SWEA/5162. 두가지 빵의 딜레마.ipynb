{
 "cells": [
  {
   "cell_type": "markdown",
   "id": "d7423e4b",
   "metadata": {},
   "source": [
    "두가지 빵의 딜레마 https://swexpertacademy.com/main/code/problem/problemDetail.do?problemLevel=3&contestProbId=AWTaTDua3OoDFAVT&categoryId=AWTaTDua3OoDFAVT&categoryType=CODE&problemTitle=&orderBy=PASS_RATE&selectCodeLang=PYTHON&select-1=3&pageSize=10&pageIndex=4"
   ]
  },
  {
   "cell_type": "code",
   "execution_count": 1,
   "id": "41a751f4",
   "metadata": {},
   "outputs": [
    {
     "name": "stdout",
     "output_type": "stream",
     "text": [
      "2\n",
      "3 5 6\n",
      "#1 2\n",
      "6 8 20\n",
      "#2 3\n"
     ]
    }
   ],
   "source": [
    "for tc in range(1, int(input())+1):\n",
    "    A, B, C = map(int,input().split())\n",
    "    min_value = min(A, B)\n",
    "    num = C // min_value\n",
    "    print(f'#{tc}', num)"
   ]
  },
  {
   "cell_type": "code",
   "execution_count": null,
   "id": "bd86f420",
   "metadata": {},
   "outputs": [],
   "source": []
  }
 ],
 "metadata": {
  "kernelspec": {
   "display_name": "Python 3 (ipykernel)",
   "language": "python",
   "name": "python3"
  },
  "language_info": {
   "codemirror_mode": {
    "name": "ipython",
    "version": 3
   },
   "file_extension": ".py",
   "mimetype": "text/x-python",
   "name": "python",
   "nbconvert_exporter": "python",
   "pygments_lexer": "ipython3",
   "version": "3.9.12"
  }
 },
 "nbformat": 4,
 "nbformat_minor": 5
}
