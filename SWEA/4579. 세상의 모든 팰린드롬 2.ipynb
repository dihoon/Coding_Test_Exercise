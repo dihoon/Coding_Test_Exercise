{
 "cells": [
  {
   "cell_type": "markdown",
   "id": "ad850d84",
   "metadata": {},
   "source": [
    "세상의 모든 팰린드롬 2 https://swexpertacademy.com/main/code/problem/problemDetail.do?problemLevel=3&contestProbId=AWQAz7IqAH8DFAWh&categoryId=AWQAz7IqAH8DFAWh&categoryType=CODE&problemTitle=&orderBy=PASS_RATE&selectCodeLang=PYTHON&select-1=3&pageSize=10&pageIndex=10"
   ]
  },
  {
   "cell_type": "code",
   "execution_count": 110,
   "id": "3e104c91",
   "metadata": {},
   "outputs": [
    {
     "name": "stdout",
     "output_type": "stream",
     "text": [
      "2\n",
      "hi\n",
      "#1 Not exist\n",
      "a*a\n",
      "#2 Exist\n"
     ]
    }
   ],
   "source": [
    "for tc in range(int(input())):\n",
    "    st = input()\n",
    "    result = 'Exist'\n",
    "    for i in range(len(st)//2):\n",
    "        if st[i] == '*' or st[-1-i] == '*':\n",
    "            break\n",
    "        elif st[i] != st[-1-i]:\n",
    "            result = 'Not exist'\n",
    "            break\n",
    "    print('#{} {}'.format(tc+1, result))"
   ]
  },
  {
   "cell_type": "code",
   "execution_count": null,
   "id": "01a537ec",
   "metadata": {},
   "outputs": [],
   "source": []
  }
 ],
 "metadata": {
  "kernelspec": {
   "display_name": "Python 3 (ipykernel)",
   "language": "python",
   "name": "python3"
  },
  "language_info": {
   "codemirror_mode": {
    "name": "ipython",
    "version": 3
   },
   "file_extension": ".py",
   "mimetype": "text/x-python",
   "name": "python",
   "nbconvert_exporter": "python",
   "pygments_lexer": "ipython3",
   "version": "3.9.12"
  }
 },
 "nbformat": 4,
 "nbformat_minor": 5
}
