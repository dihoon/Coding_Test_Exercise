{
 "cells": [
  {
   "cell_type": "markdown",
   "id": "716df538",
   "metadata": {},
   "source": [
    "[S/W 문제해결 기본] 7일차 - 암호생성기 https://swexpertacademy.com/main/code/problem/problemDetail.do?problemLevel=3&contestProbId=AV14uWl6AF0CFAYD&categoryId=AV14uWl6AF0CFAYD&categoryType=CODE&problemTitle=&orderBy=RECOMMEND_COUNT&selectCodeLang=ALL&select-1=3&pageSize=10&pageIndex=2"
   ]
  },
  {
   "cell_type": "code",
   "execution_count": null,
   "id": "630d176c",
   "metadata": {},
   "outputs": [],
   "source": [
    "for test_case in range(1, 11):\n",
    "    test_case = int(input())\n",
    "    numbers = list(map(int, input().split()))\n",
    "    flag = True\n",
    "    while flag:\n",
    "        for i in range(1, 6):\n",
    "            v = numbers.pop(0)\n",
    "            if v-i <= 0:\n",
    "                v = 0\n",
    "            else:\n",
    "                v -= i\n",
    "            numbers.append(v)\n",
    "            if v==0:\n",
    "                flag = False\n",
    "                break\n",
    "    print(f'#{test_case}', *numbers)"
   ]
  }
 ],
 "metadata": {
  "kernelspec": {
   "display_name": "Python 3 (ipykernel)",
   "language": "python",
   "name": "python3"
  },
  "language_info": {
   "codemirror_mode": {
    "name": "ipython",
    "version": 3
   },
   "file_extension": ".py",
   "mimetype": "text/x-python",
   "name": "python",
   "nbconvert_exporter": "python",
   "pygments_lexer": "ipython3",
   "version": "3.9.7"
  }
 },
 "nbformat": 4,
 "nbformat_minor": 5
}
