{
 "cells": [
  {
   "cell_type": "markdown",
   "id": "81a4c02e",
   "metadata": {},
   "source": [
    "삼성시의 버스 노선 https://swexpertacademy.com/main/code/problem/problemDetail.do?problemLevel=3&contestProbId=AWczm7QaACgDFAWn&categoryId=AWczm7QaACgDFAWn&categoryType=CODE&problemTitle=&orderBy=RECOMMEND_COUNT&selectCodeLang=PYTHON&select-1=3&pageSize=10&pageIndex=5"
   ]
  },
  {
   "cell_type": "code",
   "execution_count": 2,
   "id": "b7e42fd2",
   "metadata": {},
   "outputs": [
    {
     "name": "stdout",
     "output_type": "stream",
     "text": [
      "1\n",
      "2\n",
      "1 3\n",
      "2 5\n",
      "5\n",
      "1\n",
      "2\n",
      "3\n",
      "4\n",
      "5\n",
      "#1 1 2 2 1 1\n"
     ]
    }
   ],
   "source": [
    "# 버스 정류장은 1번부터 5000번까지 존재\n",
    "for tc in range(1, int(input())+1):\n",
    "    N = int(input()) # 버스 노선 개수\n",
    "    bus_lines = []\n",
    "    answer = []\n",
    "    for i in range(N): # 각 버스 노선별 지나는 버스 정류장 번호\n",
    "        a, b = map(int, input().split())\n",
    "        bus_lines.append((a,b))\n",
    "    P = int(input()) # 버스 정류장 개수\n",
    "    for i in range(P):\n",
    "        number = int(input()) # 해당 번호의 버스 정류장 지나는 버스 노선 개수\n",
    "        total = 0\n",
    "        for t in bus_lines:\n",
    "            if t[0]<= number and t[1]>= number:\n",
    "                total+= 1\n",
    "        answer.append(total)\n",
    "    print(f'#{tc}', *answer)"
   ]
  },
  {
   "cell_type": "code",
   "execution_count": null,
   "id": "5ead45db",
   "metadata": {},
   "outputs": [],
   "source": []
  }
 ],
 "metadata": {
  "kernelspec": {
   "display_name": "Python 3 (ipykernel)",
   "language": "python",
   "name": "python3"
  },
  "language_info": {
   "codemirror_mode": {
    "name": "ipython",
    "version": 3
   },
   "file_extension": ".py",
   "mimetype": "text/x-python",
   "name": "python",
   "nbconvert_exporter": "python",
   "pygments_lexer": "ipython3",
   "version": "3.9.12"
  }
 },
 "nbformat": 4,
 "nbformat_minor": 5
}
