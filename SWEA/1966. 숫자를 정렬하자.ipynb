{
 "cells": [
  {
   "cell_type": "markdown",
   "id": "1260b6af",
   "metadata": {},
   "source": [
    "숫자를 정렬하자 https://swexpertacademy.com/main/solvingProblem/solvingProblem.do"
   ]
  },
  {
   "cell_type": "code",
   "execution_count": 1,
   "id": "81f43b84",
   "metadata": {},
   "outputs": [
    {
     "name": "stdout",
     "output_type": "stream",
     "text": [
      "1\n",
      "5\n",
      "1 4 7 8 0\n",
      "#1 0 1 4 7 8\n"
     ]
    }
   ],
   "source": [
    "for test_case in range(1, int(input())+1):\n",
    "    N = int(input())\n",
    "    lst = list(map(int, input().split()))\n",
    "    lst.sort()\n",
    "    print(f'#{test_case}', *lst)"
   ]
  },
  {
   "cell_type": "code",
   "execution_count": null,
   "id": "10f5eed5",
   "metadata": {},
   "outputs": [],
   "source": []
  }
 ],
 "metadata": {
  "kernelspec": {
   "display_name": "Python 3 (ipykernel)",
   "language": "python",
   "name": "python3"
  },
  "language_info": {
   "codemirror_mode": {
    "name": "ipython",
    "version": 3
   },
   "file_extension": ".py",
   "mimetype": "text/x-python",
   "name": "python",
   "nbconvert_exporter": "python",
   "pygments_lexer": "ipython3",
   "version": "3.9.7"
  }
 },
 "nbformat": 4,
 "nbformat_minor": 5
}
