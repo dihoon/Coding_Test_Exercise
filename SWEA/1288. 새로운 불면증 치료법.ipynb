{
 "cells": [
  {
   "cell_type": "markdown",
   "id": "a754ec0c",
   "metadata": {},
   "source": [
    "새로운 불면증 치료법 https://swexpertacademy.com/main/solvingProblem/solvingProblem.do"
   ]
  },
  {
   "cell_type": "code",
   "execution_count": null,
   "id": "3a157846",
   "metadata": {},
   "outputs": [],
   "source": [
    "list(map(int,'123'))"
   ]
  },
  {
   "cell_type": "code",
   "execution_count": 11,
   "id": "ba9d8098",
   "metadata": {},
   "outputs": [
    {
     "name": "stdout",
     "output_type": "stream",
     "text": [
      "5\n",
      "1\n",
      "#1 10\n",
      "2\n",
      "#2 90\n",
      "11\n",
      "#3 110\n",
      "1295\n",
      "#4 6475\n",
      "1692\n",
      "#5 5076\n"
     ]
    }
   ],
   "source": [
    "for test_case in range(1, int(input())+1):\n",
    "    numbers = {0,1,2,3,4,5,6,7,8,9}\n",
    "    N = int(input())\n",
    "    cnt = 0 \n",
    "    while len(numbers)!=0:\n",
    "        cnt+=1\n",
    "        subset = set(list(map(int, str(N*cnt))))\n",
    "        numbers = numbers - subset\n",
    "    print(f'#{test_case}', N*cnt)"
   ]
  },
  {
   "cell_type": "code",
   "execution_count": null,
   "id": "42ef38aa",
   "metadata": {},
   "outputs": [],
   "source": []
  }
 ],
 "metadata": {
  "kernelspec": {
   "display_name": "Python 3 (ipykernel)",
   "language": "python",
   "name": "python3"
  },
  "language_info": {
   "codemirror_mode": {
    "name": "ipython",
    "version": 3
   },
   "file_extension": ".py",
   "mimetype": "text/x-python",
   "name": "python",
   "nbconvert_exporter": "python",
   "pygments_lexer": "ipython3",
   "version": "3.9.7"
  }
 },
 "nbformat": 4,
 "nbformat_minor": 5
}
