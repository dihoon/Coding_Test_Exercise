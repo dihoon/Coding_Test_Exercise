{
 "cells": [
  {
   "cell_type": "markdown",
   "id": "33e2a618",
   "metadata": {},
   "source": [
    "다트 게임 https://swexpertacademy.com/main/code/problem/problemDetail.do?problemLevel=3&contestProbId=AXZuaLsqz9wDFAST&categoryId=AXZuaLsqz9wDFAST&categoryType=CODE&problemTitle=&orderBy=RECOMMEND_COUNT&selectCodeLang=ALL&select-1=3&pageSize=10&pageIndex=3"
   ]
  },
  {
   "cell_type": "code",
   "execution_count": 1,
   "id": "bd902158",
   "metadata": {},
   "outputs": [
    {
     "name": "stdout",
     "output_type": "stream",
     "text": [
      "1\n",
      "5\n",
      "80 -14\n",
      "117 12\n",
      "98 -69\n",
      "-86 21\n",
      "-121 99\n",
      "#1 25\n"
     ]
    }
   ],
   "source": [
    "import math\n",
    "answers = []\n",
    "for test_case in range(1, int(input()) + 1):\n",
    "    N = int(input())\n",
    "    score = 0\n",
    "    for _ in range(N):\n",
    "        x, y = map(int, input().split())\n",
    "        num = math.ceil(math.sqrt(x**2 + y**2) / 20)\n",
    "        if num <= 1:\n",
    "            score += 10\n",
    "        elif num <= 10:\n",
    "            score += 11 - num\n",
    "    answers.append('#{} {}'.format(test_case, score))\n",
    "for i in answers:\n",
    "    print(i)"
   ]
  },
  {
   "cell_type": "code",
   "execution_count": null,
   "id": "f8fdb4e5",
   "metadata": {},
   "outputs": [],
   "source": []
  }
 ],
 "metadata": {
  "kernelspec": {
   "display_name": "Python 3 (ipykernel)",
   "language": "python",
   "name": "python3"
  },
  "language_info": {
   "codemirror_mode": {
    "name": "ipython",
    "version": 3
   },
   "file_extension": ".py",
   "mimetype": "text/x-python",
   "name": "python",
   "nbconvert_exporter": "python",
   "pygments_lexer": "ipython3",
   "version": "3.9.7"
  }
 },
 "nbformat": 4,
 "nbformat_minor": 5
}
