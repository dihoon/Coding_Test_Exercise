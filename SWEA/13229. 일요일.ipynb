{
 "cells": [
  {
   "cell_type": "markdown",
   "id": "09d4dc94",
   "metadata": {},
   "source": [
    "일요일 https://swexpertacademy.com/main/solvingProblem/solvingProblem.do"
   ]
  },
  {
   "cell_type": "code",
   "execution_count": 1,
   "id": "ddbe9656",
   "metadata": {},
   "outputs": [
    {
     "name": "stdout",
     "output_type": "stream",
     "text": [
      "3\n",
      "SUN\n",
      "#1 7\n",
      "SAT\n",
      "#2 1\n",
      "MON\n",
      "#3 6\n"
     ]
    }
   ],
   "source": [
    "day = {'SUN' : 7, 'MON' : 6, 'TUE' : 5, 'WED' : 4, 'THU' : 3, 'FRI' : 2, 'SAT' : 1}\n",
    "\n",
    "for test_case in range(1, int(input())+1):\n",
    "    S = input()\n",
    "    print(f'#{test_case}', day[S])"
   ]
  },
  {
   "cell_type": "code",
   "execution_count": null,
   "id": "9dedb471",
   "metadata": {},
   "outputs": [],
   "source": []
  }
 ],
 "metadata": {
  "kernelspec": {
   "display_name": "Python 3 (ipykernel)",
   "language": "python",
   "name": "python3"
  },
  "language_info": {
   "codemirror_mode": {
    "name": "ipython",
    "version": 3
   },
   "file_extension": ".py",
   "mimetype": "text/x-python",
   "name": "python",
   "nbconvert_exporter": "python",
   "pygments_lexer": "ipython3",
   "version": "3.9.7"
  }
 },
 "nbformat": 4,
 "nbformat_minor": 5
}
