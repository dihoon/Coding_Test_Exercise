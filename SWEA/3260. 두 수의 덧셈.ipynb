{
 "cells": [
  {
   "cell_type": "markdown",
   "id": "ae80056c",
   "metadata": {},
   "source": [
    "두 수의 덧셈 https://swexpertacademy.com/main/code/problem/problemDetail.do?problemLevel=3&contestProbId=AWBC1lOad9IDFAWr&categoryId=AWBC1lOad9IDFAWr&categoryType=CODE&problemTitle=&orderBy=PASS_RATE&selectCodeLang=PYTHON&select-1=3&pageSize=10&pageIndex=6"
   ]
  },
  {
   "cell_type": "code",
   "execution_count": 2,
   "id": "c24e83e3",
   "metadata": {
    "scrolled": true
   },
   "outputs": [
    {
     "name": "stdout",
     "output_type": "stream",
     "text": [
      "2\n",
      "1 2\n",
      "#1 3\n",
      "100000000000000000000000001 9\n",
      "#2 100000000000000000000000010\n"
     ]
    }
   ],
   "source": [
    "for tc in range(1, int(input())+1):\n",
    "    A, B = map(int, input().split())\n",
    "    print(f'#{tc} {A+B}')"
   ]
  },
  {
   "cell_type": "code",
   "execution_count": null,
   "id": "909d7a8e",
   "metadata": {},
   "outputs": [],
   "source": []
  }
 ],
 "metadata": {
  "kernelspec": {
   "display_name": "Python 3 (ipykernel)",
   "language": "python",
   "name": "python3"
  },
  "language_info": {
   "codemirror_mode": {
    "name": "ipython",
    "version": 3
   },
   "file_extension": ".py",
   "mimetype": "text/x-python",
   "name": "python",
   "nbconvert_exporter": "python",
   "pygments_lexer": "ipython3",
   "version": "3.9.12"
  }
 },
 "nbformat": 4,
 "nbformat_minor": 5
}
