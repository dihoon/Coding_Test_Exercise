{
 "cells": [
  {
   "cell_type": "markdown",
   "id": "daa06fb8",
   "metadata": {},
   "source": [
    "프리셀 통계 https://swexpertacademy.com/main/code/problem/problemDetail.do?problemLevel=3&contestProbId=AXmwMidaSLIDFARX&categoryId=AXmwMidaSLIDFARX&categoryType=CODE&problemTitle=&orderBy=PASS_RATE&selectCodeLang=PYTHON&select-1=3&pageSize=10&pageIndex=11"
   ]
  },
  {
   "cell_type": "code",
   "execution_count": 2,
   "id": "82be17f1",
   "metadata": {},
   "outputs": [
    {
     "name": "stdout",
     "output_type": "stream",
     "text": [
      "3\n",
      "100 1 50\n",
      "1000 81 83\n",
      "10 10 100\n",
      "#1 Possible\n",
      "#2 Possible\n",
      "#3 Broken\n"
     ]
    }
   ],
   "source": [
    "answer = []\n",
    "for tc in range(1, int(input())+1):\n",
    "    N, Pd, Pg = map(int, input().split())\n",
    "    result = 'Possible'\n",
    "    \n",
    "    if Pd != 100 and Pg == 100:\n",
    "        result = 'Broken'\n",
    "    elif Pd != 0 and Pg == 0:\n",
    "        result = 'Broken'\n",
    "    else:\n",
    "        for i in range(1, N+1):\n",
    "            if i*Pd/100 == i*Pd//100: # 이긴 횟수 정수\n",
    "                break\n",
    "        else:\n",
    "            result = 'Broken'\n",
    "    answer.append('#{} {}'.format(tc, result))\n",
    "print('\\n'.join(answer))"
   ]
  },
  {
   "cell_type": "code",
   "execution_count": null,
   "id": "69f5583c",
   "metadata": {},
   "outputs": [],
   "source": []
  }
 ],
 "metadata": {
  "kernelspec": {
   "display_name": "Python 3 (ipykernel)",
   "language": "python",
   "name": "python3"
  },
  "language_info": {
   "codemirror_mode": {
    "name": "ipython",
    "version": 3
   },
   "file_extension": ".py",
   "mimetype": "text/x-python",
   "name": "python",
   "nbconvert_exporter": "python",
   "pygments_lexer": "ipython3",
   "version": "3.9.12"
  }
 },
 "nbformat": 4,
 "nbformat_minor": 5
}
