{
 "cells": [
  {
   "cell_type": "markdown",
   "id": "c301828c",
   "metadata": {},
   "source": [
    "교환학생 https://swexpertacademy.com/main/solvingProblem/solvingProblem.do"
   ]
  },
  {
   "cell_type": "code",
   "execution_count": 12,
   "id": "1eccd56f",
   "metadata": {},
   "outputs": [
    {
     "name": "stdout",
     "output_type": "stream",
     "text": [
      "1\n",
      "2\n",
      "0 1 0 0 0 1 1\n",
      "#1 2\n"
     ]
    }
   ],
   "source": [
    "for test_case in range(1, int(input())+1):\n",
    "    n = int(input())\n",
    "    schedule = list(map(int, input().split()))\n",
    "    stay_list = []\n",
    "    for i in list(filter(lambda x : schedule[x] == 1, range(len(schedule)))):\n",
    "        rest = n\n",
    "        stay = 0\n",
    "        cycle = False\n",
    "        while rest!=0:\n",
    "            if not cycle:\n",
    "                cycle = True\n",
    "                for i in schedule[i:]:\n",
    "                    rest-=i\n",
    "                    stay+=1\n",
    "                    if rest == 0:\n",
    "                        break\n",
    "            else:\n",
    "                for i in schedule:\n",
    "                    rest-=i\n",
    "                    stay+=1\n",
    "                    if rest == 0:\n",
    "                        break\n",
    "        stay_list.append(stay)\n",
    "    print(f'#{test_case}', min(stay_list))"
   ]
  },
  {
   "cell_type": "markdown",
   "id": "653c2fbd",
   "metadata": {},
   "source": [
    "while문을 일일이 돌려 최소값을 찾는 것이 런타임 에러 없이 답을 구할 수 있었다.\n",
    "아래 식들은 런타임 에러가 발생한다"
   ]
  },
  {
   "cell_type": "code",
   "execution_count": 3,
   "id": "657aaa85",
   "metadata": {},
   "outputs": [
    {
     "name": "stdout",
     "output_type": "stream",
     "text": [
      "1\n",
      "4\n",
      "0 0 1 0 0 1 0\n",
      "#1 12\n"
     ]
    }
   ],
   "source": [
    "for test_case in range(1, int(input())+1):\n",
    "    n = int(input()) # 필요한 수업 수\n",
    "    schedule = list(map(int, input().split()))\n",
    "    long = schedule * 2\n",
    "\n",
    "    check = [] # 시작일에 따라 체류 일 계산\n",
    "    for i in range(len(schedule)):  # 7번 돌아감\n",
    "        join = 0\n",
    "        day = 0\n",
    "        flag = False\n",
    "        if schedule[i] == 1:  # 1일 때 계산 시작\n",
    "            for j in range(i, len(long)):\n",
    "                if long[j] == 1:\n",
    "                    join += 1\n",
    "                    flag = True\n",
    "                if flag:\n",
    "                    day+=1\n",
    "                if n == join:\n",
    "                    check.append(day)\n",
    "                    break\n",
    "            if n != join:\n",
    "                check.append(day)\n",
    "        else: # 1이 아니면 15 표시\n",
    "            check.append(15)\n",
    "    start_index = check.index(min(check))\n",
    "    \n",
    "    rest = n\n",
    "    rest -= schedule[start_index:].count(1)\n",
    "    sub = (rest - schedule.count(1)) // schedule.count(1)\n",
    "    rest -= sub * schedule.count(1)\n",
    "\n",
    "    stay = len(schedule[start_index:]) + sub * 7\n",
    "    while rest!=0:\n",
    "        for i in schedule:\n",
    "            rest-= i\n",
    "            stay+= 1\n",
    "            if rest == 0:\n",
    "                break\n",
    "    print(f'#{test_case}', stay)"
   ]
  },
  {
   "cell_type": "code",
   "execution_count": 10,
   "id": "d3983af8",
   "metadata": {},
   "outputs": [
    {
     "name": "stdout",
     "output_type": "stream",
     "text": [
      "1\n",
      "2\n",
      "0 1 0 0 0 1 1\n",
      "#1 2\n"
     ]
    }
   ],
   "source": [
    "for test_case in range(1, int(input())+1):\n",
    "    n = int(input())\n",
    "    schedule = list(map(int, input().split()))\n",
    "    long = schedule * 2\n",
    "\n",
    "    check = []\n",
    "    for i in range(len(schedule)):\n",
    "        join = 0\n",
    "        day = 0\n",
    "        flag = False\n",
    "        if schedule[i] == 1: \n",
    "            for j in range(i, len(long)):\n",
    "                if long[j] == 1:\n",
    "                    join += 1\n",
    "                    flag = True\n",
    "                if flag:\n",
    "                    day+=1\n",
    "                if n == join:\n",
    "                    check.append(day)\n",
    "                    break\n",
    "            if n != join:\n",
    "                check.append(day)\n",
    "        else: \n",
    "            check.append(15)\n",
    "    start_index = check.index(min(check))\n",
    "    \n",
    "    rest = n\n",
    "    stay =0\n",
    "    circle = False\n",
    "    while rest!=0:\n",
    "        if not circle:\n",
    "            circle = True\n",
    "            for i in schedule[start_index:]:\n",
    "                rest-=i\n",
    "                stay+=1\n",
    "                if rest == 0:\n",
    "                    break\n",
    "        else:\n",
    "            for i in schedule:\n",
    "                rest-= i\n",
    "                stay+= 1\n",
    "                if rest == 0:\n",
    "                    break\n",
    "    print(f'#{test_case}', stay)"
   ]
  },
  {
   "cell_type": "code",
   "execution_count": null,
   "id": "44e6d656",
   "metadata": {},
   "outputs": [],
   "source": []
  }
 ],
 "metadata": {
  "kernelspec": {
   "display_name": "Python 3 (ipykernel)",
   "language": "python",
   "name": "python3"
  },
  "language_info": {
   "codemirror_mode": {
    "name": "ipython",
    "version": 3
   },
   "file_extension": ".py",
   "mimetype": "text/x-python",
   "name": "python",
   "nbconvert_exporter": "python",
   "pygments_lexer": "ipython3",
   "version": "3.9.7"
  }
 },
 "nbformat": 4,
 "nbformat_minor": 5
}
