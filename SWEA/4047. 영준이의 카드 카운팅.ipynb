{
 "cells": [
  {
   "cell_type": "markdown",
   "id": "969bd1c2",
   "metadata": {},
   "source": [
    "영준이의 카드 카운팅 https://swexpertacademy.com/main/code/problem/problemDetail.do?problemLevel=3&contestProbId=AWIsY84KEPMDFAWN&categoryId=AWIsY84KEPMDFAWN&categoryType=CODE&problemTitle=&orderBy=PASS_RATE&selectCodeLang=PYTHON&select-1=3&pageSize=10&pageIndex=6"
   ]
  },
  {
   "cell_type": "code",
   "execution_count": 2,
   "id": "dfac81e3",
   "metadata": {},
   "outputs": [
    {
     "name": "stdout",
     "output_type": "stream",
     "text": [
      "3\n",
      "S01D02H03H04\n",
      "#1 12 12 11 13\n",
      "H02H10S11H02\n",
      "#2 ERROR\n",
      "S10D10H10C01 \n",
      "#3 12 12 12 12\n"
     ]
    }
   ],
   "source": [
    "for tc in range(1, int(input())+1):\n",
    "    S, D, H, C = [], [], [], []\n",
    "    st = input()\n",
    "    error = False\n",
    "    \n",
    "    for i in range(0,len(st),3):\n",
    "        if st[i] == 'S':\n",
    "            if st[i+1:i+3] not in S:\n",
    "                S.append(st[i+1:i+3])\n",
    "            else:\n",
    "                error = True\n",
    "                break\n",
    "        elif st[i] == 'D':\n",
    "            if st[i+1:i+3] not in D:\n",
    "                D.append(st[i+1:i+3])\n",
    "            else:\n",
    "                error = True\n",
    "                break    \n",
    "        elif st[i] == 'H':\n",
    "            if st[i+1:i+3] not in H:\n",
    "                H.append(st[i+1:i+3])\n",
    "            else:\n",
    "                error = True\n",
    "                break\n",
    "        elif st[i] == 'C':\n",
    "            if st[i+1:i+3] not in C:\n",
    "                C.append(st[i+1:i+3])\n",
    "            else:\n",
    "                error = True\n",
    "                break\n",
    "    if error:\n",
    "        print(f\"#{tc} ERROR\")\n",
    "    else:\n",
    "        print(f'#{tc} {13-len(S)} {13-len(D)} {13-len(H)} {13-len(C)}')"
   ]
  },
  {
   "cell_type": "code",
   "execution_count": null,
   "id": "9ede1c32",
   "metadata": {},
   "outputs": [],
   "source": []
  }
 ],
 "metadata": {
  "kernelspec": {
   "display_name": "Python 3 (ipykernel)",
   "language": "python",
   "name": "python3"
  },
  "language_info": {
   "codemirror_mode": {
    "name": "ipython",
    "version": 3
   },
   "file_extension": ".py",
   "mimetype": "text/x-python",
   "name": "python",
   "nbconvert_exporter": "python",
   "pygments_lexer": "ipython3",
   "version": "3.9.12"
  }
 },
 "nbformat": 4,
 "nbformat_minor": 5
}
