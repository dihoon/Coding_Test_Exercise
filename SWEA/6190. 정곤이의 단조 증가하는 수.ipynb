{
 "cells": [
  {
   "cell_type": "markdown",
   "id": "2e6c3718",
   "metadata": {},
   "source": [
    "정곤이의 단조 증가하는 수 https://swexpertacademy.com/main/code/problem/problemDetail.do?problemLevel=3&contestProbId=AWcPjEuKAFgDFAU4&categoryId=AWcPjEuKAFgDFAU4&categoryType=CODE&problemTitle=&orderBy=RECOMMEND_COUNT&selectCodeLang=PYTHON&select-1=3&pageSize=10&pageIndex=4"
   ]
  },
  {
   "cell_type": "code",
   "execution_count": 6,
   "id": "edb3b4c8",
   "metadata": {},
   "outputs": [
    {
     "name": "stdout",
     "output_type": "stream",
     "text": [
      "1\n",
      "4\n",
      "2 4 7 10\n",
      "#1 28\n"
     ]
    }
   ],
   "source": [
    "def is_true(num):\n",
    "    if len(num) == 1:\n",
    "        return False\n",
    "\n",
    "    for i in range(1,len(num)):\n",
    "        if num[i-1]>num[i]:\n",
    "            return False\n",
    "    return True\n",
    "\n",
    "for tc in range(1, int(input())+1):\n",
    "    N = int(input())\n",
    "    lst = list(map(int, input().split()))\n",
    "\n",
    "    max_value = -1\n",
    "    for i in range(N):\n",
    "        for j in range(i+1,N):\n",
    "            s = lst[i]*lst[j]\n",
    "            if is_true(str(s)) == True:\n",
    "                if max_value < s:\n",
    "                    max_value = s\n",
    "    print(f'#{tc}', max_value)"
   ]
  },
  {
   "cell_type": "code",
   "execution_count": null,
   "id": "c0182e91",
   "metadata": {},
   "outputs": [],
   "source": []
  }
 ],
 "metadata": {
  "kernelspec": {
   "display_name": "Python 3 (ipykernel)",
   "language": "python",
   "name": "python3"
  },
  "language_info": {
   "codemirror_mode": {
    "name": "ipython",
    "version": 3
   },
   "file_extension": ".py",
   "mimetype": "text/x-python",
   "name": "python",
   "nbconvert_exporter": "python",
   "pygments_lexer": "ipython3",
   "version": "3.9.12"
  }
 },
 "nbformat": 4,
 "nbformat_minor": 5
}
