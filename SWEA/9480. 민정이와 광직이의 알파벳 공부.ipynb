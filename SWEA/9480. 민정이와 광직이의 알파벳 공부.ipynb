{
 "cells": [
  {
   "cell_type": "markdown",
   "id": "4106c949",
   "metadata": {},
   "source": [
    "민정이와 광직이의 알파벳 공부 https://swexpertacademy.com/main/code/problem/problemDetail.do?problemLevel=3&contestProbId=AXAdrmW61ssDFAXq&categoryId=AXAdrmW61ssDFAXq&categoryType=CODE&problemTitle=&orderBy=PASS_RATE&selectCodeLang=PYTHON&select-1=3&pageSize=10&pageIndex=5"
   ]
  },
  {
   "cell_type": "code",
   "execution_count": 49,
   "id": "4a44bbbe",
   "metadata": {},
   "outputs": [
    {
     "name": "stdout",
     "output_type": "stream",
     "text": [
      "1\n",
      "6\n",
      "abcedfghi\n",
      "jklmnopqr\n",
      "stuvwxyz\n",
      "zyxwvuts\n",
      "rqponmlkj\n",
      "ihgfedcba\n",
      "#1 27\n"
     ]
    }
   ],
   "source": [
    "alphabets = \"abcdefghijklmnopqrstuvwxyz\"\n",
    "def check(lst):\n",
    "    global cnt\n",
    "    total = 0\n",
    "    alphabet = set([])\n",
    "    for s in lst:\n",
    "        alphabet.update(set(s))\n",
    "    for i in alphabets:\n",
    "        if i in alphabet:\n",
    "            total +=1\n",
    "    if total == 26:\n",
    "        cnt += 1\n",
    "        \n",
    "def subList(idx, step, lst):\n",
    "    \n",
    "    if step == N+1:\n",
    "        check(lst)\n",
    "        return\n",
    "    \n",
    "    tmp = lst[:]\n",
    "    \n",
    "    lst.append(words[idx])\n",
    "    \n",
    "    subList(idx+1, step+1, tmp)\n",
    "    subList(idx+1, step+1, lst)\n",
    "    \n",
    "for tc in range(1, int(input())+1):\n",
    "    N = int(input())\n",
    "    words = []\n",
    "    cnt = 0\n",
    "    lst = []\n",
    "    \n",
    "    for i in range(N):\n",
    "        words.append(input())\n",
    "    \n",
    "    subList(0, 1, lst)\n",
    "    print('#{} {}'.format(tc, cnt))"
   ]
  },
  {
   "cell_type": "code",
   "execution_count": 50,
   "id": "3e6e773d",
   "metadata": {},
   "outputs": [
    {
     "name": "stdout",
     "output_type": "stream",
     "text": [
      "1\n",
      "6\n",
      "abcdefghi\n",
      "jklmnopqr\n",
      "stuvwxyz\n",
      "zyxwvuts\n",
      "rqponmlkj\n",
      "ihgfedcba\n",
      "#1 27\n"
     ]
    }
   ],
   "source": [
    "alphabet = \"abcdefghijklmnopqrstuvwxyz\"\n",
    "answer = []\n",
    "for tc in range(1, int(input())+1):\n",
    "    N = int(input())\n",
    "    words = [input() for _ in range(N)]\n",
    "    cnt = 0\n",
    "    for i in range(1<<N):\n",
    "        tmp = ''\n",
    "        for j in range(N):\n",
    "            if i & (1<<j):\n",
    "                for c in words[N-1-j]:\n",
    "                    if c not in tmp:\n",
    "                        tmp += c\n",
    "        total = 0\n",
    "        for i in alphabet:\n",
    "            if i in tmp:\n",
    "                total += 1\n",
    "        if total == 26:\n",
    "            cnt += 1\n",
    "    answer.append('#{} {}'.format(tc, cnt))\n",
    "print('\\n'.join(answer))"
   ]
  }
 ],
 "metadata": {
  "kernelspec": {
   "display_name": "Python 3 (ipykernel)",
   "language": "python",
   "name": "python3"
  },
  "language_info": {
   "codemirror_mode": {
    "name": "ipython",
    "version": 3
   },
   "file_extension": ".py",
   "mimetype": "text/x-python",
   "name": "python",
   "nbconvert_exporter": "python",
   "pygments_lexer": "ipython3",
   "version": "3.9.12"
  }
 },
 "nbformat": 4,
 "nbformat_minor": 5
}
