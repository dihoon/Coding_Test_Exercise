{
 "cells": [
  {
   "cell_type": "markdown",
   "id": "c56743ca",
   "metadata": {},
   "source": [
    "제곱수 만들기 https://swexpertacademy.com/main/code/problem/problemDetail.do?problemLevel=3&contestProbId=AXWXH_h695kDFAST&categoryId=AXWXH_h695kDFAST&categoryType=CODE&problemTitle=&orderBy=PASS_RATE&selectCodeLang=PYTHON&select-1=3&pageSize=10&pageIndex=11"
   ]
  },
  {
   "cell_type": "code",
   "execution_count": 63,
   "id": "4723bba6",
   "metadata": {},
   "outputs": [],
   "source": [
    "# 10000000 까지 소수 구하기\n",
    "N = 10**(7)\n",
    "\n",
    "primes = [0,0]+[1]*(N-1)\n",
    "\n",
    "for i in range(2, N+1):\n",
    "    if primes[i]:\n",
    "        for j in range(i*i, N+1, i):\n",
    "            primes[j] = 0"
   ]
  },
  {
   "cell_type": "code",
   "execution_count": 64,
   "id": "10bab3b6",
   "metadata": {},
   "outputs": [
    {
     "name": "stdout",
     "output_type": "stream",
     "text": [
      "3137\n"
     ]
    }
   ],
   "source": [
    "# 10000000 까지 나올 수 있는 최대 소인수 구하기\n",
    "for i in range(2, N+1):\n",
    "    if N >= i**2:\n",
    "        if primes[i] == 1:\n",
    "            max_value = i\n",
    "    else:\n",
    "        break\n",
    "print(max_value)"
   ]
  },
  {
   "cell_type": "code",
   "execution_count": 80,
   "id": "46f4e6db",
   "metadata": {},
   "outputs": [
    {
     "name": "stdout",
     "output_type": "stream",
     "text": [
      "8\n",
      "1\n",
      "2\n",
      "3\n",
      "4\n",
      "5\n",
      "6\n",
      "60\n",
      "1000\n",
      "#1 1\n",
      "#2 2\n",
      "#3 3\n",
      "#4 1\n",
      "#5 5\n",
      "#6 6\n",
      "#7 15\n",
      "#8 10\n"
     ]
    }
   ],
   "source": [
    "N = 3137\n",
    "answer = []\n",
    "primes = [0,0]+[1]*(N-1)\n",
    "for i in range(2, N+1):\n",
    "    if primes[i]:\n",
    "        for j in range(i*i, N+1, i):\n",
    "            primes[j] = 0\n",
    "\n",
    "primes = [i for i in range(len(primes)) if primes[i] == 1]\n",
    "\n",
    "for tc in range(1, int(input())+1):\n",
    "    A = int(input())\n",
    "    idx = 0\n",
    "    while idx < len(primes) and A >= primes[idx]**2:\n",
    "        if A % primes[idx]**2 == 0:\n",
    "            A //= primes[idx]**2\n",
    "        else:\n",
    "            idx+=1\n",
    "    answer.append('#{} {}'.format(tc, A))\n",
    "print('\\n'.join(answer))"
   ]
  },
  {
   "cell_type": "code",
   "execution_count": null,
   "id": "1ca25990",
   "metadata": {},
   "outputs": [],
   "source": []
  }
 ],
 "metadata": {
  "kernelspec": {
   "display_name": "Python 3 (ipykernel)",
   "language": "python",
   "name": "python3"
  },
  "language_info": {
   "codemirror_mode": {
    "name": "ipython",
    "version": 3
   },
   "file_extension": ".py",
   "mimetype": "text/x-python",
   "name": "python",
   "nbconvert_exporter": "python",
   "pygments_lexer": "ipython3",
   "version": "3.9.12"
  }
 },
 "nbformat": 4,
 "nbformat_minor": 5
}
