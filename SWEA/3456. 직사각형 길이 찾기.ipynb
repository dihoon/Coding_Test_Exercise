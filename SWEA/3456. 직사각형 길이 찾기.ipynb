{
 "cells": [
  {
   "cell_type": "markdown",
   "id": "b3599512",
   "metadata": {},
   "source": [
    "직사각형 길이 찾기 https://swexpertacademy.com/main/code/problem/problemDetail.do?problemLevel=3&contestProbId=AWFPmsqqALwDFAV0&categoryId=AWFPmsqqALwDFAV0&categoryType=CODE&problemTitle=&orderBy=RECOMMEND_COUNT&selectCodeLang=PYTHON&select-1=3&pageSize=10&pageIndex=4"
   ]
  },
  {
   "cell_type": "code",
   "execution_count": 1,
   "id": "effb3a46",
   "metadata": {},
   "outputs": [
    {
     "name": "stdout",
     "output_type": "stream",
     "text": [
      "3\n",
      "1 1 2\n",
      "#1 2\n",
      "4 3 4\n",
      "#2 3\n",
      "5 5 5\n",
      "#3 5\n"
     ]
    }
   ],
   "source": [
    "for tc in range(1, int(input())+1):\n",
    "    a, b, c = map(int, input().split())\n",
    "    lst = [a,b,c]\n",
    "    last = [num for num in lst if lst.count(num) == 1 or lst.count(num) == 3][0]\n",
    "    print(f'#{tc}', last)"
   ]
  },
  {
   "cell_type": "code",
   "execution_count": 2,
   "id": "f727eb6b",
   "metadata": {},
   "outputs": [
    {
     "name": "stdout",
     "output_type": "stream",
     "text": [
      "3\n",
      "1 1 2\n",
      "#1 2\n",
      "4 3 4\n",
      "#2 3\n",
      "5 5 5\n",
      "#3 5\n"
     ]
    }
   ],
   "source": [
    "for tc in range(1, int(input())+1):\n",
    "    a, b, c = map(int, input().split())\n",
    "    if a == b:\n",
    "        last = c\n",
    "    elif a == c:\n",
    "        last = b\n",
    "    else:\n",
    "        last = a\n",
    "    print(f'#{tc}', last)"
   ]
  },
  {
   "cell_type": "code",
   "execution_count": 5,
   "id": "76a0130f",
   "metadata": {},
   "outputs": [
    {
     "name": "stdout",
     "output_type": "stream",
     "text": [
      "3\n",
      "1 1 2\n",
      "4 3 4\n",
      "5 5 5\n",
      "#1 2\n",
      "#2 3\n",
      "#3 5\n"
     ]
    }
   ],
   "source": [
    "result = []\n",
    "for tc in range(1, int(input())+1):\n",
    "    a, b, c = map(int, input().split())\n",
    "    if a == b:\n",
    "        last = c\n",
    "    elif a == c:\n",
    "        last = b\n",
    "    else:\n",
    "        last = a\n",
    "    result.append(f'#{tc} {last}')\n",
    "print(*result, sep='\\n')"
   ]
  },
  {
   "cell_type": "code",
   "execution_count": null,
   "id": "2ac6938b",
   "metadata": {},
   "outputs": [],
   "source": []
  }
 ],
 "metadata": {
  "kernelspec": {
   "display_name": "Python 3 (ipykernel)",
   "language": "python",
   "name": "python3"
  },
  "language_info": {
   "codemirror_mode": {
    "name": "ipython",
    "version": 3
   },
   "file_extension": ".py",
   "mimetype": "text/x-python",
   "name": "python",
   "nbconvert_exporter": "python",
   "pygments_lexer": "ipython3",
   "version": "3.9.12"
  }
 },
 "nbformat": 4,
 "nbformat_minor": 5
}
