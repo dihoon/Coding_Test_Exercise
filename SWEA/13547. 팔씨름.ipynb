{
 "cells": [
  {
   "cell_type": "markdown",
   "id": "e892bf36",
   "metadata": {},
   "source": [
    "팔씨름 https://swexpertacademy.com/main/solvingProblem/solvingProblem.do"
   ]
  },
  {
   "cell_type": "code",
   "execution_count": 1,
   "id": "5e319218",
   "metadata": {},
   "outputs": [
    {
     "name": "stdout",
     "output_type": "stream",
     "text": [
      "3\n",
      "oxoxoxoxoxoxoxo\n",
      "#1 YES\n",
      "x\n",
      "#2 YES\n",
      "xxxxxxxxxxxx\n",
      "#3 NO\n"
     ]
    }
   ],
   "source": [
    "for test_case in range(1, int(input())+1):\n",
    "    s = input() # 1~15 , o이 8까지 나올 가능성 있으면 yes\n",
    "    result = 'YES'\n",
    "    if len(s)>7: # 8개부터 경우의 수를 생각\n",
    "        w = s.count('o')\n",
    "        rest = 15 - len(s)\n",
    "        if rest + w < 8:\n",
    "            result = 'NO'\n",
    "    print(f'#{test_case}', result)"
   ]
  },
  {
   "cell_type": "code",
   "execution_count": null,
   "id": "0c3dda63",
   "metadata": {},
   "outputs": [],
   "source": []
  }
 ],
 "metadata": {
  "kernelspec": {
   "display_name": "Python 3 (ipykernel)",
   "language": "python",
   "name": "python3"
  },
  "language_info": {
   "codemirror_mode": {
    "name": "ipython",
    "version": 3
   },
   "file_extension": ".py",
   "mimetype": "text/x-python",
   "name": "python",
   "nbconvert_exporter": "python",
   "pygments_lexer": "ipython3",
   "version": "3.9.7"
  }
 },
 "nbformat": 4,
 "nbformat_minor": 5
}
