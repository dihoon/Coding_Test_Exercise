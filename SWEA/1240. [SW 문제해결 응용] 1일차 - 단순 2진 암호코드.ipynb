{
 "cells": [
  {
   "cell_type": "markdown",
   "id": "85ef32b9",
   "metadata": {},
   "source": [
    "[S/W 문제해결 응용] 1일차 - 단순 2진 암호코드 https://swexpertacademy.com/main/code/problem/problemDetail.do?problemLevel=3&contestProbId=AV15FZuqAL4CFAYD&categoryId=AV15FZuqAL4CFAYD&categoryType=CODE&problemTitle=&orderBy=RECOMMEND_COUNT&selectCodeLang=ALL&select-1=3&pageSize=10&pageIndex=2"
   ]
  },
  {
   "cell_type": "code",
   "execution_count": 2,
   "id": "e358a21b",
   "metadata": {},
   "outputs": [
    {
     "name": "stdout",
     "output_type": "stream",
     "text": [
      "1\n",
      "1 80\n",
      "00000000000000011101101100010111011011000101100010001101001001101110110000000000\n",
      "#1 38\n"
     ]
    }
   ],
   "source": [
    "code = {'0001101':0, '0011001':1, '0010011':2,\n",
    "        '0111101':3, '0100011':4, '0110001':5,\n",
    "        '0101111':6, '0111011':7, '0110111':8,\n",
    "        '0001011':9}\n",
    "\n",
    "for test_case in range(1, int(input())+1):\n",
    "    N, M = map(int, input().split()) # 배열 세로, 가로 크기\n",
    "    array = [input() for _ in range(N)]\n",
    "\n",
    "    detected = ''\n",
    "    for row in array:\n",
    "        if '1' in set(row):\n",
    "            detected = row\n",
    "            break\n",
    "\n",
    "    last_idx = detected.rfind('1')\n",
    "    result = ''\n",
    "    for i in range(last_idx-55, last_idx+1):\n",
    "        result += detected[i]\n",
    "\n",
    "    detected_code = []\n",
    "    for i in range(8):\n",
    "        detected_code.append(result[7*i:7*(i+1)])\n",
    "\n",
    "    # 홀수 합 (0,2,4,6) 인덱스\n",
    "    # 짝수 합 (1,3,5)\n",
    "    # 검증코드 7\n",
    "    total = 0\n",
    "    if (3*(code[detected_code[0]] + code[detected_code[2]] + code[detected_code[4]] + code[detected_code[6]])+\n",
    "        code[detected_code[1]]+code[detected_code[3]]+code[detected_code[5]]+code[detected_code[7]])%10 == 0:\n",
    "        total = sum([code[i] for i in detected_code])\n",
    "\n",
    "    print(f'#{test_case}', total)"
   ]
  },
  {
   "cell_type": "code",
   "execution_count": null,
   "id": "463fce26",
   "metadata": {},
   "outputs": [],
   "source": []
  }
 ],
 "metadata": {
  "kernelspec": {
   "display_name": "Python 3 (ipykernel)",
   "language": "python",
   "name": "python3"
  },
  "language_info": {
   "codemirror_mode": {
    "name": "ipython",
    "version": 3
   },
   "file_extension": ".py",
   "mimetype": "text/x-python",
   "name": "python",
   "nbconvert_exporter": "python",
   "pygments_lexer": "ipython3",
   "version": "3.9.7"
  }
 },
 "nbformat": 4,
 "nbformat_minor": 5
}
