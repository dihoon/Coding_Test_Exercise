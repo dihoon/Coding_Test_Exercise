{
 "cells": [
  {
   "cell_type": "markdown",
   "id": "ce094ac3",
   "metadata": {},
   "source": [
    "[S/W 문제해결 기본] 1일차 - 최빈수 구하기 https://swexpertacademy.com/main/solvingProblem/solvingProblem.do"
   ]
  },
  {
   "cell_type": "code",
   "execution_count": 1,
   "id": "ba0adf01",
   "metadata": {},
   "outputs": [
    {
     "name": "stdout",
     "output_type": "stream",
     "text": [
      "1\n",
      "1\n",
      "10 20 1 3 20 10 3 10 20\n",
      "#1 20\n"
     ]
    }
   ],
   "source": [
    "for test_case in range(1, int(input())+1):\n",
    "    test_case = int(input())\n",
    "    grades = list(map(int, input().split()))\n",
    "    g_class = set(grades)\n",
    "    max = 0\n",
    "    for grade in set(grades):\n",
    "        if grades.count(grade) > max:\n",
    "            max_freq = []\n",
    "            max = grades.count(grade)\n",
    "            max_freq.append(grade)\n",
    "        elif grades.count(grade) == max:\n",
    "            max_freq.append(grade)\n",
    "    max_freq.sort(reverse = True)\n",
    "    print(f'#{test_case}', max_freq[0])"
   ]
  },
  {
   "cell_type": "code",
   "execution_count": null,
   "id": "3d57b4ca",
   "metadata": {},
   "outputs": [],
   "source": []
  }
 ],
 "metadata": {
  "kernelspec": {
   "display_name": "Python 3 (ipykernel)",
   "language": "python",
   "name": "python3"
  },
  "language_info": {
   "codemirror_mode": {
    "name": "ipython",
    "version": 3
   },
   "file_extension": ".py",
   "mimetype": "text/x-python",
   "name": "python",
   "nbconvert_exporter": "python",
   "pygments_lexer": "ipython3",
   "version": "3.9.7"
  }
 },
 "nbformat": 4,
 "nbformat_minor": 5
}
