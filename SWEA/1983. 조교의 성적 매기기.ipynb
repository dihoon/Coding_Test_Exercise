{
 "cells": [
  {
   "cell_type": "markdown",
   "id": "12f89e43",
   "metadata": {},
   "source": [
    "조교의 성적 매기기 https://swexpertacademy.com/main/code/problem/problemDetail.do?problemLevel=2&contestProbId=AV5PwGK6AcIDFAUq&categoryId=AV5PwGK6AcIDFAUq&categoryType=CODE&problemTitle=&orderBy=FIRST_REG_DATETIME&selectCodeLang=ALL&select-1=2&pageSize=10&pageIndex=1"
   ]
  },
  {
   "cell_type": "code",
   "execution_count": 8,
   "id": "c8916e47",
   "metadata": {},
   "outputs": [
    {
     "name": "stdout",
     "output_type": "stream",
     "text": [
      "1\n",
      "10 2\n",
      "87 59 88\n",
      "99 94 78\n",
      "94 86 86\n",
      "99 100 99\n",
      "69 76 70\n",
      "76 89 96\n",
      "98 95 96\n",
      "74 69 60\n",
      "98 84 67\n",
      "85 84 91\n",
      "#1 A-\n"
     ]
    }
   ],
   "source": [
    "T = int(input())\n",
    "grade = ['A+', 'A0', 'A-','B+', 'B0', 'B-','C+', 'C0', 'C-','D0']\n",
    "for test_case in range(1, T+1):\n",
    "    N, k = map(int, input().split())\n",
    "    grade_list = []\n",
    "    for i in range(1, N+1):\n",
    "        mid, final, hw = map(int, input().split())\n",
    "        grade_list.append(mid*0.35 + final*0.45 + hw*0.2)\n",
    "    obj = grade_list[k-1]\n",
    "    grade_list.sort(reverse=True)\n",
    "    k = grade_list.index(obj)\n",
    "    same = N//10\n",
    "    print(f'#{test_case}', grade[(k//same)])"
   ]
  },
  {
   "cell_type": "code",
   "execution_count": null,
   "id": "8fd402b5",
   "metadata": {},
   "outputs": [],
   "source": []
  }
 ],
 "metadata": {
  "kernelspec": {
   "display_name": "Python 3 (ipykernel)",
   "language": "python",
   "name": "python3"
  },
  "language_info": {
   "codemirror_mode": {
    "name": "ipython",
    "version": 3
   },
   "file_extension": ".py",
   "mimetype": "text/x-python",
   "name": "python",
   "nbconvert_exporter": "python",
   "pygments_lexer": "ipython3",
   "version": "3.9.7"
  }
 },
 "nbformat": 4,
 "nbformat_minor": 5
}
