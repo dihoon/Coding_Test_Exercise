{
 "cells": [
  {
   "cell_type": "markdown",
   "id": "02774479",
   "metadata": {},
   "source": [
    "2016년 요일 맞추기 https://swexpertacademy.com/main/code/problem/problemDetail.do?problemLevel=3&contestProbId=AWWOwecaFrIDFAV4&categoryId=AWWOwecaFrIDFAV4&categoryType=CODE&problemTitle=&orderBy=PASS_RATE&selectCodeLang=PYTHON&select-1=3&pageSize=10&pageIndex=4"
   ]
  },
  {
   "cell_type": "code",
   "execution_count": 6,
   "id": "6c443b0a",
   "metadata": {},
   "outputs": [
    {
     "name": "stdout",
     "output_type": "stream",
     "text": [
      "2\n",
      "1 1\n",
      "#1 4\n",
      "12 31\n",
      "#2 5\n"
     ]
    }
   ],
   "source": [
    "# 1월 1일 금요일\n",
    "m_dict = {1:31, 2:29, 3:31, 4:30, 5:31, 6:30, 7:31, 8:31, 9:30, 10:31, 11:30, 12:31}\n",
    "\n",
    "for tc in range(1, int(input())+1):\n",
    "    m, d = map(int, input().split())\n",
    "    \n",
    "    num = 0\n",
    "    for i in range(1, m):\n",
    "        num += m_dict[i]\n",
    "    num += d + 3\n",
    "    print(f'#{tc}',num%7)"
   ]
  }
 ],
 "metadata": {
  "kernelspec": {
   "display_name": "Python 3 (ipykernel)",
   "language": "python",
   "name": "python3"
  },
  "language_info": {
   "codemirror_mode": {
    "name": "ipython",
    "version": 3
   },
   "file_extension": ".py",
   "mimetype": "text/x-python",
   "name": "python",
   "nbconvert_exporter": "python",
   "pygments_lexer": "ipython3",
   "version": "3.9.12"
  }
 },
 "nbformat": 4,
 "nbformat_minor": 5
}
