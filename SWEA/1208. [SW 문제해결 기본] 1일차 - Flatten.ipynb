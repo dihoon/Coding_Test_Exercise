{
 "cells": [
  {
   "cell_type": "markdown",
   "id": "1e469590",
   "metadata": {},
   "source": [
    "[S/W 문제해결 기본] 1일차 - Flatten https://swexpertacademy.com/main/code/problem/problemDetail.do?problemLevel=3&contestProbId=AV139KOaABgCFAYh&categoryId=AV139KOaABgCFAYh&categoryType=CODE&problemTitle=&orderBy=RECOMMEND_COUNT&selectCodeLang=ALL&select-1=3&pageSize=10&pageIndex=1"
   ]
  },
  {
   "cell_type": "code",
   "execution_count": null,
   "id": "472dfd0a",
   "metadata": {},
   "outputs": [],
   "source": [
    "for test_case in range(1, 11):\n",
    "    dump = int(input())\n",
    "    heights = list(map(int, input().split()))\n",
    "    cnt = 0\n",
    "    while dump!=0:\n",
    "        if max(heights) - min(heights) <= 1:\n",
    "            break\n",
    "        else:\n",
    "            heights[heights.index(max(heights))] -= 1\n",
    "            heights[heights.index(min(heights))] += 1\n",
    "        \n",
    "        dump-=1\n",
    "    print(f'#{test_case} {max(heights)-min(heights)}')"
   ]
  },
  {
   "cell_type": "markdown",
   "id": "1fc7a617",
   "metadata": {},
   "source": [
    "입력값이 많기 때문에 실행은 생략"
   ]
  }
 ],
 "metadata": {
  "kernelspec": {
   "display_name": "Python 3 (ipykernel)",
   "language": "python",
   "name": "python3"
  },
  "language_info": {
   "codemirror_mode": {
    "name": "ipython",
    "version": 3
   },
   "file_extension": ".py",
   "mimetype": "text/x-python",
   "name": "python",
   "nbconvert_exporter": "python",
   "pygments_lexer": "ipython3",
   "version": "3.9.7"
  }
 },
 "nbformat": 4,
 "nbformat_minor": 5
}
