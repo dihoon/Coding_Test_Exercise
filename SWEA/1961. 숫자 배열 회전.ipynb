{
 "cells": [
  {
   "cell_type": "markdown",
   "id": "ea2e6698",
   "metadata": {},
   "source": [
    "숫자 배열 회전 https://swexpertacademy.com/main/solvingProblem/solvingProblem.do?contestProbId=AV5Pq-OKAVYDFAUq&categoryId=AV5Pq-OKAVYDFAUq&categoryType=CODE&&&"
   ]
  },
  {
   "cell_type": "code",
   "execution_count": 8,
   "id": "fdd87014",
   "metadata": {},
   "outputs": [
    {
     "name": "stdout",
     "output_type": "stream",
     "text": [
      "1\n",
      "3\n",
      "1 2 3\n",
      "4 5 6\n",
      "7 8 9\n",
      "#1\n",
      "741 987 369\n",
      "852 654 258\n",
      "963 321 147\n"
     ]
    }
   ],
   "source": [
    "def _rotation90(m):\n",
    "    length = len(m[0])\n",
    "    tm = []\n",
    "    for i in range(length):\n",
    "        tm.append([0]*length)\n",
    "        \n",
    "    for i in range(length-1, -1, -1):\n",
    "        for j in range(length):\n",
    "            tm[j][i] = m[length-1-i][j]\n",
    "    return tm\n",
    "\n",
    "for test_case in range(1, int(input())+1):\n",
    "    N = int(input())\n",
    "    matrix = []\n",
    "    for i in range(N):\n",
    "        matrix.append(input().split())\n",
    "    _rotation90(matrix)\n",
    "    _90 = _rotation90(matrix)\n",
    "    _180 = _rotation90(_90)\n",
    "    _270 = _rotation90(_180)\n",
    "    \n",
    "    print(f'#{test_case}')\n",
    "    for i in range(N):\n",
    "          print(''.join(_90[i][:]), ''.join(_180[i][:]), ''.join(_270[i][:]))"
   ]
  },
  {
   "cell_type": "code",
   "execution_count": null,
   "id": "dbfab2a9",
   "metadata": {},
   "outputs": [],
   "source": []
  }
 ],
 "metadata": {
  "kernelspec": {
   "display_name": "Python 3 (ipykernel)",
   "language": "python",
   "name": "python3"
  },
  "language_info": {
   "codemirror_mode": {
    "name": "ipython",
    "version": 3
   },
   "file_extension": ".py",
   "mimetype": "text/x-python",
   "name": "python",
   "nbconvert_exporter": "python",
   "pygments_lexer": "ipython3",
   "version": "3.9.7"
  }
 },
 "nbformat": 4,
 "nbformat_minor": 5
}
