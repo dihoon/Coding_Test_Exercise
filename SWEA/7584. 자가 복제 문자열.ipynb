{
 "cells": [
  {
   "cell_type": "markdown",
   "id": "04598646",
   "metadata": {},
   "source": [
    "자가 복제 문자열 https://swexpertacademy.com/main/code/problem/problemDetail.do?problemLevel=3&contestProbId=AWpMsQfaCPMDFAQi&categoryId=AWpMsQfaCPMDFAQi&categoryType=CODE&problemTitle=&orderBy=PASS_RATE&selectCodeLang=PYTHON&select-1=3&pageSize=10&pageIndex=10"
   ]
  },
  {
   "cell_type": "markdown",
   "id": "2f6bb1a2",
   "metadata": {},
   "source": [
    "규칙 찾기\n",
    "\n",
    "0 : 0,1,3,4,7,8,9,12,15,16,17,19,20,24,25\n",
    "\n",
    "1 : 2,5,6,10,11,13,14,18,21,22,23,26,27"
   ]
  },
  {
   "cell_type": "code",
   "execution_count": 37,
   "id": "84723666",
   "metadata": {},
   "outputs": [
    {
     "name": "stdout",
     "output_type": "stream",
     "text": [
      "4\n",
      "3\n",
      "7\n",
      "10\n",
      "100000\n",
      "#1 1\n",
      "#2 1\n",
      "#3 0\n",
      "#4 0\n"
     ]
    }
   ],
   "source": [
    "answer = []\n",
    "for tc in range(1, int(input())+1):\n",
    "    K = int(input())-1\n",
    "    result = 0\n",
    "    while K>0:\n",
    "        if K % 2 == 1:\n",
    "            K = (K-1)//2\n",
    "        else:\n",
    "            if K % 2 == 0 and K % 4 != 0:\n",
    "                result = 1\n",
    "                break\n",
    "            elif K % 4 == 0:\n",
    "                break\n",
    "    answer.append('#{} {}'.format(tc, result))\n",
    "print('\\n'.join(answer))"
   ]
  }
 ],
 "metadata": {
  "kernelspec": {
   "display_name": "Python 3 (ipykernel)",
   "language": "python",
   "name": "python3"
  },
  "language_info": {
   "codemirror_mode": {
    "name": "ipython",
    "version": 3
   },
   "file_extension": ".py",
   "mimetype": "text/x-python",
   "name": "python",
   "nbconvert_exporter": "python",
   "pygments_lexer": "ipython3",
   "version": "3.9.12"
  }
 },
 "nbformat": 4,
 "nbformat_minor": 5
}
