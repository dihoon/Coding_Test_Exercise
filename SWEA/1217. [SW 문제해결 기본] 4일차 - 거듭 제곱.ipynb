{
 "cells": [
  {
   "cell_type": "markdown",
   "id": "e5d29c27",
   "metadata": {},
   "source": [
    "[S/W 문제해결 기본] 4일차 - 거듭 제곱 https://swexpertacademy.com/main/code/problem/problemDetail.do?problemLevel=3&contestProbId=AV14dUIaAAUCFAYD&categoryId=AV14dUIaAAUCFAYD&categoryType=CODE&problemTitle=&orderBy=RECOMMEND_COUNT&selectCodeLang=ALL&select-1=3&pageSize=10&pageIndex=2"
   ]
  },
  {
   "cell_type": "code",
   "execution_count": null,
   "id": "0a5c1205",
   "metadata": {},
   "outputs": [],
   "source": [
    "for _ in range(10):\n",
    "    test_case = int(input())\n",
    "    N, M = map(int, input().split())\n",
    "\n",
    "    print('#{} {}'.format(test_case, N**M))"
   ]
  },
  {
   "cell_type": "code",
   "execution_count": null,
   "id": "30fbacb3",
   "metadata": {},
   "outputs": [],
   "source": [
    "# 재귀 호출로 구현하는 경우\n",
    "def recursive(result, cnt):\n",
    "    result *= N\n",
    "    if cnt<=M:\n",
    "        return result\n",
    "    result = recursive(result, cnt+1)\n",
    "    return result\n",
    "\n",
    "for _ in range(10):\n",
    "    test_case = int(input())\n",
    "    N, M = map(int, input().split())\n",
    "    result = 1\n",
    "    cnt = 1\n",
    "\n",
    "    result = recursive(result, cnt)\n",
    "\n",
    "    print('#{} {}'.format(test_case, N**M))"
   ]
  }
 ],
 "metadata": {
  "kernelspec": {
   "display_name": "Python 3 (ipykernel)",
   "language": "python",
   "name": "python3"
  },
  "language_info": {
   "codemirror_mode": {
    "name": "ipython",
    "version": 3
   },
   "file_extension": ".py",
   "mimetype": "text/x-python",
   "name": "python",
   "nbconvert_exporter": "python",
   "pygments_lexer": "ipython3",
   "version": "3.9.7"
  }
 },
 "nbformat": 4,
 "nbformat_minor": 5
}
