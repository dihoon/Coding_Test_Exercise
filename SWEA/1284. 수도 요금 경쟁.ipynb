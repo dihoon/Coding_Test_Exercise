{
 "cells": [
  {
   "cell_type": "markdown",
   "id": "9b7345d3",
   "metadata": {},
   "source": [
    "수도 요금 경쟁 https://swexpertacademy.com/main/solvingProblem/solvingProblem.do"
   ]
  },
  {
   "cell_type": "code",
   "execution_count": 1,
   "id": "6a720f54",
   "metadata": {},
   "outputs": [
    {
     "name": "stdout",
     "output_type": "stream",
     "text": [
      "2\n",
      "9 100 20 3 10\n",
      "#1 90\n",
      "8 300 100 10 250\n",
      "#2 1800\n"
     ]
    }
   ],
   "source": [
    "for test_case in range(1, int(input())+1):\n",
    "    P, Q, R, S, W = map(int, input().split())\n",
    "    a_price = W*P\n",
    "    if W <= R:\n",
    "        b_price = Q\n",
    "    else:\n",
    "        b_price = Q + S*(W-R)\n",
    "        \n",
    "    if a_price > b_price:\n",
    "        min_price = b_price\n",
    "    else:\n",
    "        min_price = a_price\n",
    "    print(f'#{test_case}', min_price)"
   ]
  },
  {
   "cell_type": "code",
   "execution_count": null,
   "id": "4e2b6850",
   "metadata": {},
   "outputs": [],
   "source": []
  }
 ],
 "metadata": {
  "kernelspec": {
   "display_name": "Python 3 (ipykernel)",
   "language": "python",
   "name": "python3"
  },
  "language_info": {
   "codemirror_mode": {
    "name": "ipython",
    "version": 3
   },
   "file_extension": ".py",
   "mimetype": "text/x-python",
   "name": "python",
   "nbconvert_exporter": "python",
   "pygments_lexer": "ipython3",
   "version": "3.9.7"
  }
 },
 "nbformat": 4,
 "nbformat_minor": 5
}
