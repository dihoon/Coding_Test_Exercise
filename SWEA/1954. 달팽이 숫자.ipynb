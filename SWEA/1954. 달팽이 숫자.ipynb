{
 "cells": [
  {
   "cell_type": "markdown",
   "id": "275e71b1",
   "metadata": {},
   "source": [
    "달팽이 숫자 https://swexpertacademy.com/main/solvingProblem/solvingProblem.do?contestProbId=AV5PobmqAPoDFAUq&categoryId=AV5PobmqAPoDFAUq&categoryType=CODE"
   ]
  },
  {
   "cell_type": "code",
   "execution_count": 5,
   "id": "fb88eac0",
   "metadata": {},
   "outputs": [
    {
     "name": "stdout",
     "output_type": "stream",
     "text": [
      "1\n",
      "4\n",
      "#1\n",
      "1 2 3 4 \n",
      "12 13 14 5 \n",
      "11 16 15 6 \n",
      "10 9 8 7 \n"
     ]
    }
   ],
   "source": [
    "for test_case in range(1, int(input())+1):\n",
    "    N = int(input())\n",
    "    matrix = [[0]*N for _ in range(N)]\n",
    "    \n",
    "    count = N**2\n",
    "    num = 1\n",
    "    cir = 0\n",
    "    i = 0\n",
    "    j = 0\n",
    "    while count!=0:\n",
    "        for j in range(cir, N-cir):\n",
    "            matrix[i][j] = num\n",
    "            count -= 1\n",
    "            num += 1\n",
    "        \n",
    "        for i in range(cir+1, N-cir):\n",
    "            matrix[i][j] = num\n",
    "            count -=1\n",
    "            num += 1\n",
    "        \n",
    "        for j in range(N-1-1-cir, -1+cir, -1):\n",
    "            matrix[i][j] = num\n",
    "            count -=1\n",
    "            num += 1\n",
    "            \n",
    "        for i in range(N-1-1-cir, cir, -1):\n",
    "            matrix[i][j] = num\n",
    "            count -=1\n",
    "            num += 1\n",
    "        cir += 1\n",
    "    print(f'#{test_case}')\n",
    "    for i in range(N):\n",
    "        for j in range(N):\n",
    "            print(matrix[i][j], end = ' ')\n",
    "        print('')\n",
    "        "
   ]
  },
  {
   "cell_type": "code",
   "execution_count": 7,
   "id": "8ea86546",
   "metadata": {},
   "outputs": [
    {
     "name": "stdout",
     "output_type": "stream",
     "text": [
      "1\n",
      "3\n",
      "#1\n",
      "1 2 3\n",
      "8 9 4\n",
      "7 6 5\n"
     ]
    }
   ],
   "source": [
    "for test_case in range(1, int(input())+1):\n",
    "    N = int(input())\n",
    "    matrix = [[0]*N for _ in range(N)]\n",
    "    \n",
    "    i = 0\n",
    "    j = -1\n",
    "    num = 0\n",
    "    count = N\n",
    "    delta = 1\n",
    "    while count!=0:\n",
    "        for _ in range(count):\n",
    "            num+=1\n",
    "            j += delta\n",
    "            matrix[i][j] = num\n",
    "        \n",
    "        count -= 1\n",
    "        \n",
    "        for _ in range(count):\n",
    "            num+=1\n",
    "            i += delta\n",
    "            matrix[i][j] = num\n",
    "        \n",
    "        delta = -delta\n",
    "    print(f'#{test_case}')\n",
    "    for row in matrix:\n",
    "        print(*row, sep=' ')"
   ]
  },
  {
   "cell_type": "code",
   "execution_count": null,
   "id": "6013d80b",
   "metadata": {},
   "outputs": [],
   "source": []
  }
 ],
 "metadata": {
  "kernelspec": {
   "display_name": "Python 3 (ipykernel)",
   "language": "python",
   "name": "python3"
  },
  "language_info": {
   "codemirror_mode": {
    "name": "ipython",
    "version": 3
   },
   "file_extension": ".py",
   "mimetype": "text/x-python",
   "name": "python",
   "nbconvert_exporter": "python",
   "pygments_lexer": "ipython3",
   "version": "3.9.7"
  }
 },
 "nbformat": 4,
 "nbformat_minor": 5
}
