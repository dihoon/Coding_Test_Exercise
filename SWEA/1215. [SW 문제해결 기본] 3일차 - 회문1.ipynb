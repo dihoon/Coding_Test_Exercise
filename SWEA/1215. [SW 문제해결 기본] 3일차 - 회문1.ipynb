{
 "cells": [
  {
   "cell_type": "markdown",
   "id": "5e35d767",
   "metadata": {},
   "source": [
    "[S/W 문제해결 기본] 3일차 - 회문1 https://swexpertacademy.com/main/code/problem/problemDetail.do?problemLevel=3&contestProbId=AV14QpAaAAwCFAYi&categoryId=AV14QpAaAAwCFAYi&categoryType=CODE&problemTitle=&orderBy=RECOMMEND_COUNT&selectCodeLang=ALL&select-1=3&pageSize=10&pageIndex=1"
   ]
  },
  {
   "cell_type": "code",
   "execution_count": 66,
   "id": "27f8f5c9",
   "metadata": {},
   "outputs": [
    {
     "name": "stdout",
     "output_type": "stream",
     "text": [
      "4\n",
      "CBBCBAAB\n",
      "CCCBABCB\n",
      "CAAAACAB\n",
      "BACCCCAC\n",
      "AABCBBAC\n",
      "ACAACABC\n",
      "BCCBAABC\n",
      "ABBBCCAA\n",
      "#1 12\n"
     ]
    }
   ],
   "source": [
    "def is_it_right(lst):\n",
    "    global cnt\n",
    "    length = len(lst)\n",
    "    if length % 2 == 1:\n",
    "        center_idx = int(length/2)\n",
    "        if length >= 3:\n",
    "            left_idx = center_idx -1\n",
    "            right_idx = center_idx +1\n",
    "        else:\n",
    "            cnt+=1\n",
    "            return True\n",
    "    else:\n",
    "        right_idx = int(length/2)\n",
    "        left_idx= right_idx - 1\n",
    "    while left_idx != -1:\n",
    "        if lst[left_idx] != lst[right_idx]:\n",
    "            return False\n",
    "        left_idx-=1\n",
    "        right_idx+=1\n",
    "    cnt += 1\n",
    "    return True\n",
    "\n",
    "def make_lst(x,y):\n",
    "    if x+L-1<=7: # 아래\n",
    "        is_it_right([graph[i][y] for i in range(x, x+L)])\n",
    "    if y+L-1<=7: # 우\n",
    "        is_it_right([graph[x][i] for i in range(y, y+L)])\n",
    "        \n",
    "for test_case in range(1,11):\n",
    "    L = int(input())\n",
    "    graph = [list(input()) for _ in range(8)]\n",
    "    cnt = 0\n",
    "    \n",
    "    for i in range(8):\n",
    "        for j in range(8):\n",
    "            make_lst(i,j)\n",
    "    print(f'#{test_case}', cnt)"
   ]
  },
  {
   "cell_type": "code",
   "execution_count": null,
   "id": "60ebf707",
   "metadata": {},
   "outputs": [],
   "source": []
  }
 ],
 "metadata": {
  "kernelspec": {
   "display_name": "Python 3 (ipykernel)",
   "language": "python",
   "name": "python3"
  },
  "language_info": {
   "codemirror_mode": {
    "name": "ipython",
    "version": 3
   },
   "file_extension": ".py",
   "mimetype": "text/x-python",
   "name": "python",
   "nbconvert_exporter": "python",
   "pygments_lexer": "ipython3",
   "version": "3.9.7"
  }
 },
 "nbformat": 4,
 "nbformat_minor": 5
}
