{
 "cells": [
  {
   "cell_type": "markdown",
   "id": "7323e1f3",
   "metadata": {},
   "source": [
    "힙 https://swexpertacademy.com/main/code/problem/problemDetail.do?problemLevel=3&contestProbId=AV-Tj7ya3jYDFAXr&categoryId=AV-Tj7ya3jYDFAXr&categoryType=CODE&problemTitle=&orderBy=RECOMMEND_COUNT&selectCodeLang=PYTHON&select-1=3&pageSize=10&pageIndex=5"
   ]
  },
  {
   "cell_type": "code",
   "execution_count": 34,
   "id": "fe23b52e",
   "metadata": {},
   "outputs": [],
   "source": [
    "class MaxHeap():\n",
    "    def __init__(self):\n",
    "        self.heap = []\n",
    "        self.heap.append(None) # index 0 는 None 설정\n",
    "        \n",
    "    def upCheck(self, idx): # 부모 노드보다 값이 크면 True\n",
    "        if idx<=1:\n",
    "            return False\n",
    "        \n",
    "        parent_idx = idx // 2\n",
    "        \n",
    "        if self.heap[idx] > self.heap[parent_idx]:\n",
    "            return True\n",
    "        else:\n",
    "            return False\n",
    "    \n",
    "    def insert(self, data):\n",
    "        self.heap.append(data)\n",
    "        idx = len(self.heap) - 1\n",
    "        \n",
    "        while self.upCheck(idx):\n",
    "            parent_idx = idx // 2\n",
    "            self.heap[idx], self.heap[parent_idx] = self.heap[parent_idx], self.heap[idx]\n",
    "            idx = parent_idx\n",
    "    \n",
    "    def downCheck(self, idx):\n",
    "        left_idx = 2 * idx\n",
    "        right_idx = 2 * idx + 1\n",
    "        \n",
    "        if left_idx >= len(self.heap): # 자식 노드 없을 때\n",
    "            return False\n",
    "        elif right_idx >= len(self.heap): # 왼쪽 자식 노드만 있을 때\n",
    "            if self.heap[left_idx] > self.heap[idx]:\n",
    "                self.flag = 1\n",
    "                return True\n",
    "            else:\n",
    "                return False\n",
    "        else: # 왼쪽, 오른쪽 노드 모두 있을 때\n",
    "            if self.heap[left_idx] > self.heap[right_idx]:\n",
    "                if self.heap[idx] < self.heap[left_idx]:\n",
    "                    self.flag = 1\n",
    "                    return True\n",
    "                else:\n",
    "                    return False\n",
    "            else:\n",
    "                if self.heap[idx] < self.heap[right_idx]:\n",
    "                    self.flag = 2\n",
    "                    return True\n",
    "                else:\n",
    "                    return False\n",
    "            \n",
    "    def pop(self):\n",
    "        if len(self.heap) <= 1:\n",
    "            return -1\n",
    "        \n",
    "        root = self.heap[1]\n",
    "        self.heap[1] = self.heap[-1]\n",
    "        del self.heap[-1]\n",
    "        idx = 1\n",
    "        \n",
    "        self.flag = 0\n",
    "        \n",
    "        while self.downCheck(idx):\n",
    "            left_idx = idx * 2\n",
    "            right_idx = idx * 2 + 1\n",
    "            \n",
    "            if self.flag == 1:\n",
    "                self.heap[idx], self.heap[left_idx] = self.heap[left_idx], self.heap[idx]\n",
    "                idx = left_idx\n",
    "            elif self.flag == 2:\n",
    "                self.heap[idx], self.heap[right_idx] = self.heap[right_idx], self.heap[idx]\n",
    "                idx = right_idx\n",
    "        return root"
   ]
  },
  {
   "cell_type": "code",
   "execution_count": 40,
   "id": "bb5fae89",
   "metadata": {},
   "outputs": [
    {
     "name": "stdout",
     "output_type": "stream",
     "text": [
      "2\n",
      "3\n",
      "1 1\n",
      "2\n",
      "2\n",
      "5\n",
      "1 3\n",
      "1 5\n",
      "2\n",
      "1 1\n",
      "2\n",
      "#1 1 -1\n",
      "#2 5 3\n"
     ]
    }
   ],
   "source": [
    "answer = []\n",
    "for tc in range(1, int(input())+1):\n",
    "    N = int(input())\n",
    "    heap = MaxHeap()\n",
    "    outputs = []\n",
    "    for i in range(N):\n",
    "        c = input().split()\n",
    "        if len(c) == 2:\n",
    "            heap.insert(int(c[1]))\n",
    "        else:\n",
    "            outputs.append(heap.pop())\n",
    "    answer.append('#{} '.format(tc) + ' '.join(map(str, outputs)))\n",
    "print('\\n'.join(answer))"
   ]
  }
 ],
 "metadata": {
  "kernelspec": {
   "display_name": "Python 3 (ipykernel)",
   "language": "python",
   "name": "python3"
  },
  "language_info": {
   "codemirror_mode": {
    "name": "ipython",
    "version": 3
   },
   "file_extension": ".py",
   "mimetype": "text/x-python",
   "name": "python",
   "nbconvert_exporter": "python",
   "pygments_lexer": "ipython3",
   "version": "3.9.12"
  }
 },
 "nbformat": 4,
 "nbformat_minor": 5
}
