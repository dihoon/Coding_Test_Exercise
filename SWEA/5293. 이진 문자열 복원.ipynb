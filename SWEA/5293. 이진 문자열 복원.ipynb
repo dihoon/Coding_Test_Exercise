{
 "cells": [
  {
   "cell_type": "markdown",
   "id": "5daac7b0",
   "metadata": {},
   "source": [
    "이진 문자열 복원 https://swexpertacademy.com/main/code/problem/problemDetail.do?problemLevel=3&contestProbId=AWUiwoe6o00DFAVT&categoryId=AWUiwoe6o00DFAVT&categoryType=CODE&problemTitle=&orderBy=PASS_RATE&selectCodeLang=PYTHON&select-1=3&pageSize=10&pageIndex=11"
   ]
  },
  {
   "cell_type": "code",
   "execution_count": 8,
   "id": "92efea86",
   "metadata": {},
   "outputs": [
    {
     "name": "stdout",
     "output_type": "stream",
     "text": [
      "6\n",
      "2 2 2 1\n",
      "0 1 0 0\n",
      "1 0 0 1\n",
      "1 1 1 1\n",
      "2 1 1 2\n",
      "1 2 3 4\n",
      "#1 10001011\n",
      "#2 01\n",
      "#3 impossible\n",
      "#4 10011\n",
      "#5 1000111\n",
      "#6 11111010100\n"
     ]
    }
   ],
   "source": [
    "answer = []\n",
    "for tc in range(1, int(input())+1):\n",
    "    A, B, C, D = map(int, input().split())\n",
    "    if A and not B and not C and not D:\n",
    "        st = '0'*(A+1)\n",
    "    elif D and not A and not B and not C:\n",
    "        st = '1'*(D+1)\n",
    "    elif B==C and B:\n",
    "        st = '10' + '0'*A + '10'*(B-1) + '1'*(D+1)\n",
    "    elif (B-C) == 1:\n",
    "        st = '0'*A +'01'*B +'1'*D\n",
    "    elif C-B == 1:\n",
    "        st = '1'*D + '10'*C + '0'*A\n",
    "    else:\n",
    "        st = 'impossible'\n",
    "    answer.append('#{} {}'.format(tc, st))\n",
    "print('\\n'.join(answer))"
   ]
  },
  {
   "cell_type": "code",
   "execution_count": null,
   "id": "355883c8",
   "metadata": {},
   "outputs": [],
   "source": []
  }
 ],
 "metadata": {
  "kernelspec": {
   "display_name": "Python 3 (ipykernel)",
   "language": "python",
   "name": "python3"
  },
  "language_info": {
   "codemirror_mode": {
    "name": "ipython",
    "version": 3
   },
   "file_extension": ".py",
   "mimetype": "text/x-python",
   "name": "python",
   "nbconvert_exporter": "python",
   "pygments_lexer": "ipython3",
   "version": "3.9.12"
  }
 },
 "nbformat": 4,
 "nbformat_minor": 5
}
