{
 "cells": [
  {
   "cell_type": "markdown",
   "id": "a9c9818a",
   "metadata": {},
   "source": [
    "구구단 1 https://swexpertacademy.com/main/code/problem/problemDetail.do?problemLevel=1&problemLevel=2&problemLevel=3&contestProbId=AXkcWgFa8sADFAS8&categoryId=AXkcWgFa8sADFAS8&categoryType=CODE&problemTitle=&orderBy=PASS_RATE&selectCodeLang=PYTHON&select-1=3&pageSize=10&pageIndex=10"
   ]
  },
  {
   "cell_type": "code",
   "execution_count": 1,
   "id": "1dc49784",
   "metadata": {},
   "outputs": [
    {
     "name": "stdout",
     "output_type": "stream",
     "text": [
      "4\n",
      "10\n",
      "#1 Yes\n",
      "11\n",
      "#2 No\n",
      "50\n",
      "#3 No\n",
      "81\n",
      "#4 Yes\n"
     ]
    }
   ],
   "source": [
    "for tc in range(1, int(input())+1):\n",
    "    N = int(input())\n",
    "    result = 'No'\n",
    "    flag = True\n",
    "    \n",
    "    for a in range(1, 10):\n",
    "        if flag:\n",
    "            for b in range(1, 10):\n",
    "                if a*b == N:\n",
    "                    flag = False\n",
    "                    result = 'Yes'\n",
    "                    break\n",
    "        else:\n",
    "            break\n",
    "    print(f'#{tc} {result}')"
   ]
  },
  {
   "cell_type": "code",
   "execution_count": null,
   "id": "e9e87508",
   "metadata": {},
   "outputs": [],
   "source": []
  }
 ],
 "metadata": {
  "kernelspec": {
   "display_name": "Python 3 (ipykernel)",
   "language": "python",
   "name": "python3"
  },
  "language_info": {
   "codemirror_mode": {
    "name": "ipython",
    "version": 3
   },
   "file_extension": ".py",
   "mimetype": "text/x-python",
   "name": "python",
   "nbconvert_exporter": "python",
   "pygments_lexer": "ipython3",
   "version": "3.9.12"
  }
 },
 "nbformat": 4,
 "nbformat_minor": 5
}
