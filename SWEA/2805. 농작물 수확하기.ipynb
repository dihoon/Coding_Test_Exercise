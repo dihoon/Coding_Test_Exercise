{
 "cells": [
  {
   "cell_type": "markdown",
   "id": "eebb75b3",
   "metadata": {},
   "source": [
    "농작물 수확하기 https://swexpertacademy.com/main/code/problem/problemDetail.do?problemLevel=3&contestProbId=AV7GLXqKAWYDFAXB&categoryId=AV7GLXqKAWYDFAXB&categoryType=CODE&problemTitle=&orderBy=RECOMMEND_COUNT&selectCodeLang=PYTHON&select-1=3&pageSize=10&pageIndex=1"
   ]
  },
  {
   "cell_type": "code",
   "execution_count": 34,
   "id": "5d2b2a4c",
   "metadata": {},
   "outputs": [
    {
     "name": "stdout",
     "output_type": "stream",
     "text": [
      "1\n",
      "5\n",
      "14054\n",
      "44250\n",
      "02032\n",
      "51204\n",
      "52212\n",
      "#1 23\n"
     ]
    }
   ],
   "source": [
    "for test_case in range(1, int(input())+1):\n",
    "    N = int(input())\n",
    "    result = 0\n",
    "    matrix = [list(map(int, input())) for _ in range(N)]\n",
    "    if N == 1:\n",
    "        result = matrix[0][0]\n",
    "    else:\n",
    "        c_index = int(N/2)\n",
    "        values = []\n",
    "        start = c_index + 1\n",
    "        last = c_index - 1\n",
    "        for i in range(N):\n",
    "            if i <= c_index:\n",
    "                start -= 1\n",
    "                last += 1\n",
    "            else:\n",
    "                start += 1\n",
    "                last -= 1\n",
    "            for j in range(start, last+1):\n",
    "                values.append(matrix[i][j])\n",
    "            result = sum(values)\n",
    "    print(f'#{test_case}', result)"
   ]
  },
  {
   "cell_type": "markdown",
   "id": "1a9e317b",
   "metadata": {},
   "source": [
    "round 함수를 사용할 때 주의!\n",
    "round 함수는 반올림 값을 반환하는데 짝수가 되는 방향으로 반올림을 한다. (소수점 5일 때)"
   ]
  }
 ],
 "metadata": {
  "kernelspec": {
   "display_name": "Python 3 (ipykernel)",
   "language": "python",
   "name": "python3"
  },
  "language_info": {
   "codemirror_mode": {
    "name": "ipython",
    "version": 3
   },
   "file_extension": ".py",
   "mimetype": "text/x-python",
   "name": "python",
   "nbconvert_exporter": "python",
   "pygments_lexer": "ipython3",
   "version": "3.9.7"
  }
 },
 "nbformat": 4,
 "nbformat_minor": 5
}
