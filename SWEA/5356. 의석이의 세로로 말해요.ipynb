{
 "cells": [
  {
   "cell_type": "markdown",
   "id": "60f1cde8",
   "metadata": {},
   "source": [
    "의석이의 세로로 말해요 https://swexpertacademy.com/main/code/problem/problemDetail.do?problemLevel=3&contestProbId=AWVWgkP6sQ0DFAUO&categoryId=AWVWgkP6sQ0DFAUO&categoryType=CODE&problemTitle=&orderBy=PASS_RATE&selectCodeLang=PYTHON&select-1=3&pageSize=10&pageIndex=5"
   ]
  },
  {
   "cell_type": "code",
   "execution_count": 7,
   "id": "48877bd4",
   "metadata": {},
   "outputs": [
    {
     "name": "stdout",
     "output_type": "stream",
     "text": [
      "1\n",
      "AABCDD\n",
      "afzz\n",
      "09121\n",
      "a8EWg6\n",
      "P5h3kx\n",
      "#1 Aa0aPAf985Bz1EhCz2W3D1gkD6x\n"
     ]
    }
   ],
   "source": [
    "for tc in range(1, int(input())+1):\n",
    "    graph = [input() for _ in range(5)]\n",
    "    n = 0\n",
    "    \n",
    "    for s in graph:\n",
    "        if n < len(s):\n",
    "            n = len(s)\n",
    "    \n",
    "    result = ''\n",
    "    for j in range(n):\n",
    "        for i in range(5):\n",
    "            if len(graph[i]) < j+1:\n",
    "                continue\n",
    "            result += graph[i][j]\n",
    "    print(f'#{tc}', result)"
   ]
  },
  {
   "cell_type": "code",
   "execution_count": null,
   "id": "ef710a3d",
   "metadata": {},
   "outputs": [],
   "source": []
  }
 ],
 "metadata": {
  "kernelspec": {
   "display_name": "Python 3 (ipykernel)",
   "language": "python",
   "name": "python3"
  },
  "language_info": {
   "codemirror_mode": {
    "name": "ipython",
    "version": 3
   },
   "file_extension": ".py",
   "mimetype": "text/x-python",
   "name": "python",
   "nbconvert_exporter": "python",
   "pygments_lexer": "ipython3",
   "version": "3.9.12"
  }
 },
 "nbformat": 4,
 "nbformat_minor": 5
}
