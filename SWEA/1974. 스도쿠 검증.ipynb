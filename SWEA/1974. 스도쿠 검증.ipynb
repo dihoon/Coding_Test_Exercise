{
 "cells": [
  {
   "cell_type": "markdown",
   "id": "ba96caaf",
   "metadata": {},
   "source": [
    "스도쿠 검증 https://swexpertacademy.com/main/solvingProblem/solvingProblem.do"
   ]
  },
  {
   "cell_type": "code",
   "execution_count": 6,
   "id": "51baeb61",
   "metadata": {},
   "outputs": [
    {
     "name": "stdout",
     "output_type": "stream",
     "text": [
      "1\n",
      "7 3 6 4 2 9 5 8 1\n",
      "5 8 9 1 6 7 3 2 4\n",
      "2 1 4 5 8 3 6 9 7\n",
      "8 4 7 9 3 6 1 5 2\n",
      "1 5 3 8 4 2 9 7 6\n",
      "9 6 2 7 5 1 8 4 3\n",
      "4 2 1 3 9 8 7 6 5\n",
      "3 9 5 6 7 4 2 1 8\n",
      "6 7 8 2 1 5 4 3 9\n",
      "#1 1\n"
     ]
    }
   ],
   "source": [
    "T = int(input())\n",
    "def _1to9(coordinates):\n",
    "    lst = [1,2,3,4,5,6,7,8,9]\n",
    "    for i in range(0+coordinates[1], 3+coordinates[1]):\n",
    "        for j in range(0+coordinates[0], 3+coordinates[0]):\n",
    "            if not matrix[i][j] in lst:\n",
    "                return 0\n",
    "            else:\n",
    "                lst.remove(matrix[i][j])\n",
    "    return 1\n",
    "\n",
    "def _row():\n",
    "    for i in range(9):\n",
    "        lst =[1,2,3,4,5,6,7,8,9]\n",
    "        for j in range(9):\n",
    "            if not matrix[i][j] in lst:\n",
    "                return 0\n",
    "            lst.remove(matrix[i][j])\n",
    "        if len(lst)!=0:\n",
    "            return 0\n",
    "    return 1\n",
    "\n",
    "def _col():\n",
    "    for i in range(9):\n",
    "        lst =[1,2,3,4,5,6,7,8,9]\n",
    "        for j in range(9):\n",
    "            if not matrix[j][i] in lst:\n",
    "                return 0\n",
    "            lst.remove(matrix[j][i])\n",
    "        if len(lst)!=0:\n",
    "            return 0\n",
    "    return 1\n",
    "\n",
    "for test_case in range(1, T+1):\n",
    "    matrix = []\n",
    "    check = 1\n",
    "    for i in range(9):\n",
    "        matrix.append([i for i in list(map(int, input().split()))])\n",
    "    for t in [(i*3,j*3) for i in range(3) for j in range(3)]:\n",
    "        if _1to9(t) == 0:\n",
    "            check = 0\n",
    "        check = _col()*_row()*check\n",
    "    print(f'#{test_case}', check) \n"
   ]
  },
  {
   "cell_type": "code",
   "execution_count": null,
   "id": "1fe7ed75",
   "metadata": {},
   "outputs": [],
   "source": []
  }
 ],
 "metadata": {
  "kernelspec": {
   "display_name": "Python 3 (ipykernel)",
   "language": "python",
   "name": "python3"
  },
  "language_info": {
   "codemirror_mode": {
    "name": "ipython",
    "version": 3
   },
   "file_extension": ".py",
   "mimetype": "text/x-python",
   "name": "python",
   "nbconvert_exporter": "python",
   "pygments_lexer": "ipython3",
   "version": "3.9.7"
  }
 },
 "nbformat": 4,
 "nbformat_minor": 5
}
