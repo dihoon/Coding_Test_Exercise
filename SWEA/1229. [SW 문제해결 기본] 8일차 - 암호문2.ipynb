{
 "cells": [
  {
   "cell_type": "markdown",
   "id": "7f204354",
   "metadata": {},
   "source": [
    "[S/W 문제해결 기본] 8일차 - 암호문2 https://swexpertacademy.com/main/code/problem/problemDetail.do?problemLevel=3&contestProbId=AV14yIsqAHYCFAYD&categoryId=AV14yIsqAHYCFAYD&categoryType=CODE&problemTitle=&orderBy=PASS_RATE&selectCodeLang=PYTHON&select-1=3&pageSize=10&pageIndex=4"
   ]
  },
  {
   "cell_type": "code",
   "execution_count": 24,
   "id": "8dd58fdb",
   "metadata": {
    "scrolled": true
   },
   "outputs": [
    {
     "name": "stdout",
     "output_type": "stream",
     "text": [
      "4\n",
      "1 2 3 4\n",
      "2\n",
      "I 2 2 10 20 I 2 2 100 200\n",
      "['1', '2', '10', '20', '3', '4']\n",
      "['1', '2', '100', '200', '10', '20', '3', '4']\n",
      "#1 1 2 100 200 10 20 3 4\n"
     ]
    }
   ],
   "source": [
    "for tc in range(1, 11):\n",
    "    N = int(input())\n",
    "    code = input().split()\n",
    "    numbers = int(input())\n",
    "    command = input().split()\n",
    "    \n",
    "    idx = 0\n",
    "    for i in range(numbers):\n",
    "        if command[idx] == 'I':\n",
    "            n = int(command[idx+2])\n",
    "            additional = command[idx+3:idx+3+n]\n",
    "            for i in range(len(additional)):\n",
    "                code.insert(int(command[idx+1])+i, additional[i])\n",
    "            idx += 2 + n +1\n",
    "        elif command[idx] == 'D':\n",
    "            n = int(command[idx+2])\n",
    "            del code[int(command[idx+1]):int(command[idx+1])+n]\n",
    "            idx += 3\n",
    "            \n",
    "    print(f'#{tc}', *code[:10])"
   ]
  },
  {
   "cell_type": "code",
   "execution_count": null,
   "id": "66d8636b",
   "metadata": {},
   "outputs": [],
   "source": []
  }
 ],
 "metadata": {
  "kernelspec": {
   "display_name": "Python 3 (ipykernel)",
   "language": "python",
   "name": "python3"
  },
  "language_info": {
   "codemirror_mode": {
    "name": "ipython",
    "version": 3
   },
   "file_extension": ".py",
   "mimetype": "text/x-python",
   "name": "python",
   "nbconvert_exporter": "python",
   "pygments_lexer": "ipython3",
   "version": "3.9.12"
  }
 },
 "nbformat": 4,
 "nbformat_minor": 5
}
