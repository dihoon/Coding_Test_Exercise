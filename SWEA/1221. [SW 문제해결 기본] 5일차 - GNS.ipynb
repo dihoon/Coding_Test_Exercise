{
 "cells": [
  {
   "cell_type": "markdown",
   "id": "96288ac1",
   "metadata": {},
   "source": [
    "[S/W 문제해결 기본] 5일차 - GNS https://swexpertacademy.com/main/code/problem/problemDetail.do?problemLevel=3&contestProbId=AV14jJh6ACYCFAYD&categoryId=AV14jJh6ACYCFAYD&categoryType=CODE&problemTitle=&orderBy=RECOMMEND_COUNT&selectCodeLang=PYTHON&select-1=3&pageSize=10&pageIndex=4"
   ]
  },
  {
   "cell_type": "code",
   "execution_count": null,
   "id": "61c6b1ac",
   "metadata": {},
   "outputs": [],
   "source": [
    "d = {'ZRO':0, 'ONE':1, 'TWO':2, 'THR':3, 'FOR':4,\n",
    "     'FIV':5, 'SIX':6, 'SVN':7, 'EGT':8, 'NIN':9}\n",
    "\n",
    "for tc in range(1, int(input())+1):\n",
    "    N, L = input().split()\n",
    "    L = int(L)\n",
    "    lst = input().split()\n",
    "    lst.sort(key = lambda x : d[x])\n",
    "    print(f'{N}')\n",
    "    print(*lst)"
   ]
  }
 ],
 "metadata": {
  "kernelspec": {
   "display_name": "Python 3 (ipykernel)",
   "language": "python",
   "name": "python3"
  },
  "language_info": {
   "codemirror_mode": {
    "name": "ipython",
    "version": 3
   },
   "file_extension": ".py",
   "mimetype": "text/x-python",
   "name": "python",
   "nbconvert_exporter": "python",
   "pygments_lexer": "ipython3",
   "version": "3.9.12"
  }
 },
 "nbformat": 4,
 "nbformat_minor": 5
}
