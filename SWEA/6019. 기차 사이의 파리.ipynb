{
 "cells": [
  {
   "cell_type": "markdown",
   "id": "71d0414f",
   "metadata": {},
   "source": [
    "기차 사이의 파리 https://swexpertacademy.com/main/code/problem/problemDetail.do?problemLevel=3&contestProbId=AWajaTmaZw4DFAWM&categoryId=AWajaTmaZw4DFAWM&categoryType=CODE&problemTitle=&orderBy=PASS_RATE&selectCodeLang=PYTHON&select-1=3&pageSize=10&pageIndex=7&&&&&&&&&&"
   ]
  },
  {
   "cell_type": "code",
   "execution_count": 3,
   "id": "b790b706",
   "metadata": {},
   "outputs": [
    {
     "name": "stdout",
     "output_type": "stream",
     "text": [
      "1\n",
      "250 10 15 20\n",
      "#1 200.0000000000\n"
     ]
    }
   ],
   "source": [
    "for tc in range(1, int(input())+1):\n",
    "    D, A, B, F = map(int, input().split())\n",
    "    s = D / (A+B)\n",
    "    d = F*s\n",
    "    print(f'#{tc} {d:.10f}')"
   ]
  }
 ],
 "metadata": {
  "kernelspec": {
   "display_name": "Python 3 (ipykernel)",
   "language": "python",
   "name": "python3"
  },
  "language_info": {
   "codemirror_mode": {
    "name": "ipython",
    "version": 3
   },
   "file_extension": ".py",
   "mimetype": "text/x-python",
   "name": "python",
   "nbconvert_exporter": "python",
   "pygments_lexer": "ipython3",
   "version": "3.9.12"
  }
 },
 "nbformat": 4,
 "nbformat_minor": 5
}
