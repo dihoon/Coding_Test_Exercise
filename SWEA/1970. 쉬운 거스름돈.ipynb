{
 "cells": [
  {
   "cell_type": "markdown",
   "id": "6313cffd",
   "metadata": {},
   "source": [
    "쉬운 거스름돈 https://swexpertacademy.com/main/solvingProblem/solvingProblem.do"
   ]
  },
  {
   "cell_type": "code",
   "execution_count": 4,
   "id": "6f222653",
   "metadata": {},
   "outputs": [
    {
     "name": "stdout",
     "output_type": "stream",
     "text": [
      "2\n",
      "32850\n",
      "#1\n",
      "0 3 0 2 1 3 1 0 \n",
      "160\n",
      "#2\n",
      "0 0 0 0 0 1 1 1 \n"
     ]
    }
   ],
   "source": [
    "for test_case in range(1, int(input())+1):\n",
    "    N = int(input())\n",
    "    bill = {50000 : 0, 10000 : 0, 5000 : 0, 1000 : 0, 500 : 0, 100 : 0, 50 : 0, 10 : 0}\n",
    "    for key in bill.keys():\n",
    "        bill[key] = N//key\n",
    "        N -= key * (N//key)\n",
    "    print(f'#{test_case}')\n",
    "    for value in bill.values():\n",
    "          print(value, end=' ')\n",
    "    print('')"
   ]
  },
  {
   "cell_type": "code",
   "execution_count": null,
   "id": "feee1eff",
   "metadata": {},
   "outputs": [],
   "source": []
  }
 ],
 "metadata": {
  "kernelspec": {
   "display_name": "Python 3 (ipykernel)",
   "language": "python",
   "name": "python3"
  },
  "language_info": {
   "codemirror_mode": {
    "name": "ipython",
    "version": 3
   },
   "file_extension": ".py",
   "mimetype": "text/x-python",
   "name": "python",
   "nbconvert_exporter": "python",
   "pygments_lexer": "ipython3",
   "version": "3.9.7"
  }
 },
 "nbformat": 4,
 "nbformat_minor": 5
}
