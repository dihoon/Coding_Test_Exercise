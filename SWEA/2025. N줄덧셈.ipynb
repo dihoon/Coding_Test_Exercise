{
 "cells": [
  {
   "cell_type": "markdown",
   "id": "54d45ea7",
   "metadata": {},
   "source": [
    "N줄덧셈 https://swexpertacademy.com/main/code/problem/problemDetail.do?problemLevel=1&contestProbId=AV5QFZtaAscDFAUq&categoryId=AV5QFZtaAscDFAUq&categoryType=CODE&problemTitle=&orderBy=FIRST_REG_DATETIME&selectCodeLang=ALL&select-1=1&pageSize=10&pageIndex=2"
   ]
  },
  {
   "cell_type": "code",
   "execution_count": 6,
   "id": "3b35aa5d",
   "metadata": {},
   "outputs": [
    {
     "name": "stdout",
     "output_type": "stream",
     "text": [
      "10\n",
      "55\n"
     ]
    }
   ],
   "source": [
    "N = int(input())\n",
    "print(int(N*(N+1)/2))"
   ]
  },
  {
   "cell_type": "code",
   "execution_count": null,
   "id": "900873b0",
   "metadata": {},
   "outputs": [],
   "source": []
  }
 ],
 "metadata": {
  "kernelspec": {
   "display_name": "Python 3 (ipykernel)",
   "language": "python",
   "name": "python3"
  },
  "language_info": {
   "codemirror_mode": {
    "name": "ipython",
    "version": 3
   },
   "file_extension": ".py",
   "mimetype": "text/x-python",
   "name": "python",
   "nbconvert_exporter": "python",
   "pygments_lexer": "ipython3",
   "version": "3.9.7"
  }
 },
 "nbformat": 4,
 "nbformat_minor": 5
}
