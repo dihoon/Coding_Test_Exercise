{
 "cells": [
  {
   "cell_type": "markdown",
   "id": "c61ecf73",
   "metadata": {},
   "source": [
    "N-Queen https://swexpertacademy.com/main/code/problem/problemDetail.do?problemLevel=3&contestProbId=AV7GKs06AU0DFAXB&categoryId=AV7GKs06AU0DFAXB&categoryType=CODE&problemTitle=&orderBy=RECOMMEND_COUNT&selectCodeLang=ALL&select-1=3&pageSize=10&pageIndex=1"
   ]
  },
  {
   "cell_type": "code",
   "execution_count": 41,
   "id": "0b1880ec",
   "metadata": {},
   "outputs": [
    {
     "name": "stdout",
     "output_type": "stream",
     "text": [
      "2\n",
      "1\n",
      "#1 1\n",
      "2\n",
      "#2 0\n"
     ]
    }
   ],
   "source": [
    "# 백트래킹 문제\n",
    "\n",
    "def is_possible(x): # \n",
    "    for i in range(x): # 이전 행을 보고 퀸이 해당 열에 퀸이 존재 할 수 있는지 조사\n",
    "        if row[x] == row[i] or x-i == abs(row[x]-row[i]): # 해당 열 or 대각선상에 퀸이 존재할 경우\n",
    "            return False\n",
    "\n",
    "    return True # 그 외 True\n",
    "\n",
    "def make_row(x):\n",
    "    global cnt\n",
    "    if x == N: # x == N까지 호출이 되었다는 건 체스판 완성했다는 의미\n",
    "        cnt += 1 # 카운트 추가\n",
    "    else: # 체스판 미완성\n",
    "        for i in range(N): # 0 행 각 열에 퀸이 존재하는 경우부터 시작\n",
    "            row[x] = i \n",
    "            if is_possible(x): # 해당 열에서 가능하다면 다음 행에 대해 퀸을 놓는다.\n",
    "                make_row(x+1)\n",
    "\n",
    "for test_case in range(1, int(input())+1):\n",
    "    N = int(input())\n",
    "    cnt = 0\n",
    "    \n",
    "    row = [0]*N # 각 행에 대해 퀸이 존재하는 열의 인덱스\n",
    "                \n",
    "    make_row(0)\n",
    "    print(f'#{test_case}', cnt)"
   ]
  },
  {
   "cell_type": "markdown",
   "id": "7b4ac00e",
   "metadata": {},
   "source": [
    "한 행에 퀸이 하나만 존재 할 수 있다.\n",
    "\n",
    "퀸을 놓지 못하는 경우\n",
    "\n",
    "같은 열에 다른 퀸이 있는 경우,\n",
    "\n",
    "왼쪽 대각선, 오른쪽 대각선에 다른 퀸이 있는 경우\n",
    "\n",
    "퀸을 0행부터 채운다.\n",
    "\n",
    "왼쪽 오른쪽 대각선상에 있는 경우 x, y 좌표의 관계\n",
    "\n",
    "(3,3) 기준에서 왼쪽 대각선상에 있는 좌표는 (2,2), (1,1), (0,0) -> 차이 : (1,1), (2,2), (3,3)\n",
    "\n",
    "(3,3) 기준에서 오른쪽 대각선상에 있는 좌표는 (2,4), (1,5), (0,6) -> 차이 : (1,-1), (2,-2), (3,-3)\n",
    "\n",
    "--> x좌표 차이 = abs(y좌표 차이) 와 같다.\n",
    "\n"
   ]
  },
  {
   "cell_type": "code",
   "execution_count": null,
   "id": "9b778102",
   "metadata": {},
   "outputs": [],
   "source": []
  }
 ],
 "metadata": {
  "kernelspec": {
   "display_name": "Python 3 (ipykernel)",
   "language": "python",
   "name": "python3"
  },
  "language_info": {
   "codemirror_mode": {
    "name": "ipython",
    "version": 3
   },
   "file_extension": ".py",
   "mimetype": "text/x-python",
   "name": "python",
   "nbconvert_exporter": "python",
   "pygments_lexer": "ipython3",
   "version": "3.9.7"
  }
 },
 "nbformat": 4,
 "nbformat_minor": 5
}
