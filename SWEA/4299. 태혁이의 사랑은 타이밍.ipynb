{
 "cells": [
  {
   "cell_type": "markdown",
   "id": "91477a9d",
   "metadata": {},
   "source": [
    "태혁이의 사랑은 타이밍 https://swexpertacademy.com/main/code/problem/problemDetail.do?problemLevel=3&contestProbId=AWLv6mx6htoDFAVV&categoryId=AWLv6mx6htoDFAVV&categoryType=CODE&problemTitle=&orderBy=RECOMMEND_COUNT&selectCodeLang=PYTHON&select-1=3&pageSize=10&pageIndex=4"
   ]
  },
  {
   "cell_type": "code",
   "execution_count": 5,
   "id": "be136e93",
   "metadata": {},
   "outputs": [
    {
     "name": "stdout",
     "output_type": "stream",
     "text": [
      "3\n",
      "14 23 59\n",
      "#1 5088\n",
      "11 11 11\n",
      "#2 0\n",
      "11 3 7\n",
      "#3 -1\n"
     ]
    }
   ],
   "source": [
    "for tc in range(1, int(input())+1):\n",
    "    D, H, M = map(int, input().split())\n",
    "    result = -1\n",
    "    if M < 11:\n",
    "        M = 60 + M - 11\n",
    "        H -= 1\n",
    "    else:\n",
    "        M -= 11\n",
    "    if H < 11:\n",
    "        H = 24 + H - 11\n",
    "        D -= 1\n",
    "    else:\n",
    "        H -= 11\n",
    "    if D >= 11:\n",
    "        D -= 11\n",
    "        result = M + H*60 + D*24*60\n",
    "    print(f'#{tc}', result)"
   ]
  },
  {
   "cell_type": "code",
   "execution_count": null,
   "id": "383858c5",
   "metadata": {},
   "outputs": [],
   "source": []
  }
 ],
 "metadata": {
  "kernelspec": {
   "display_name": "Python 3",
   "language": "python",
   "name": "python3"
  },
  "language_info": {
   "codemirror_mode": {
    "name": "ipython",
    "version": 3
   },
   "file_extension": ".py",
   "mimetype": "text/x-python",
   "name": "python",
   "nbconvert_exporter": "python",
   "pygments_lexer": "ipython3",
   "version": "3.8.8"
  }
 },
 "nbformat": 4,
 "nbformat_minor": 5
}
