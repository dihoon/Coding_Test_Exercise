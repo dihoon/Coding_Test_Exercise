{
 "cells": [
  {
   "cell_type": "markdown",
   "id": "6efaec41",
   "metadata": {},
   "source": [
    "중간 평균값 구하기 https://swexpertacademy.com/main/solvingProblem/solvingProblem.do"
   ]
  },
  {
   "cell_type": "code",
   "execution_count": 5,
   "id": "34a5ebd8",
   "metadata": {},
   "outputs": [
    {
     "name": "stdout",
     "output_type": "stream",
     "text": [
      "3\n",
      "3 17 1 39 8 41 2 32 99 2 \n",
      "#1 18\n",
      "22 8 5 123 7 2 63 7 3 46 \n",
      "#2 20\n",
      "6 63 2 3 58 76 21 33 8 1 \n",
      "#3 24\n"
     ]
    }
   ],
   "source": [
    "T = int(input())\n",
    "for test_case in range(1, T+1):\n",
    "    lst = list(map(int, input().split()))\n",
    "    mx, mn = max(lst), min(lst)\n",
    "    lst = [num for num in lst if not num in [mx, mn]]\n",
    "    mean = round(sum(lst)/len(lst))\n",
    "    print(f'#{test_case}', mean)"
   ]
  },
  {
   "cell_type": "code",
   "execution_count": null,
   "id": "f5962be4",
   "metadata": {},
   "outputs": [],
   "source": [
    "\n",
    "\n"
   ]
  }
 ],
 "metadata": {
  "kernelspec": {
   "display_name": "Python 3 (ipykernel)",
   "language": "python",
   "name": "python3"
  },
  "language_info": {
   "codemirror_mode": {
    "name": "ipython",
    "version": 3
   },
   "file_extension": ".py",
   "mimetype": "text/x-python",
   "name": "python",
   "nbconvert_exporter": "python",
   "pygments_lexer": "ipython3",
   "version": "3.9.7"
  }
 },
 "nbformat": 4,
 "nbformat_minor": 5
}
