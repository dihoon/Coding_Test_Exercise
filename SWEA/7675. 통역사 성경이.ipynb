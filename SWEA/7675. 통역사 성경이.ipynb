{
 "cells": [
  {
   "cell_type": "markdown",
   "id": "94d102bb",
   "metadata": {},
   "source": [
    "통역사 성경이 https://swexpertacademy.com/main/code/problem/problemDetail.do?problemLevel=3&contestProbId=AWqPvqoqSLQDFAT_&categoryId=AWqPvqoqSLQDFAT_&categoryType=CODE&problemTitle=&orderBy=PASS_RATE&selectCodeLang=PYTHON&select-1=3&pageSize=10&pageIndex=9"
   ]
  },
  {
   "cell_type": "markdown",
   "id": "fe34f162",
   "metadata": {},
   "source": [
    "split 안하고 인덱스 하나씩 보면서 문제를 풀어보고 싶었다."
   ]
  },
  {
   "cell_type": "code",
   "execution_count": 34,
   "id": "61cabf1e",
   "metadata": {},
   "outputs": [
    {
     "name": "stdout",
     "output_type": "stream",
     "text": [
      "2\n",
      "2\n",
      "Annyung Hasae Yo! LoL!\n",
      "3\n",
      "my name is Hye Soo. my id is Rhs0266. what your id Bro?\n",
      "#1 3 0\n",
      "#2 2 0 1\n"
     ]
    }
   ],
   "source": [
    "answer = []\n",
    "for tc in range(1, int(input())+1):\n",
    "    N = int(input()) # 문장 개수\n",
    "    st = input() # 문장 입력\n",
    "    lst = []\n",
    "    cnt = 0\n",
    "    next_word = True # 한 단어인지 판단\n",
    "    possible = False # 관심 대상\n",
    "    for i in range(len(st)):\n",
    "        if next_word:\n",
    "            if not possible:\n",
    "                if st[i].isupper():\n",
    "                    possible = True\n",
    "                else:\n",
    "                    next_word = False\n",
    "            else:\n",
    "                if st[i] == ' ' and possible:\n",
    "                    cnt+=1\n",
    "                    possible = False                \n",
    "                elif st[i].isupper() or st[i].isdigit():\n",
    "                    possible = False\n",
    "                    next_word = False\n",
    "                \n",
    "        if not next_word and st[i] == ' ':\n",
    "            next_word = True\n",
    "        \n",
    "        if st[i] == '.' or st[i] == '?' or st[i] == '!':\n",
    "            if possible:\n",
    "                cnt+=1\n",
    "            lst.append(str(cnt))\n",
    "            cnt = 0\n",
    "            next_word = True\n",
    "            possible = False\n",
    "    answer.append('#{} '.format(tc) + ' '.join(lst))\n",
    "print('\\n'.join(answer))"
   ]
  },
  {
   "cell_type": "markdown",
   "id": "526e4d52",
   "metadata": {},
   "source": [
    "split 이용한 경우"
   ]
  },
  {
   "cell_type": "code",
   "execution_count": 51,
   "id": "ef32faf6",
   "metadata": {
    "scrolled": true
   },
   "outputs": [
    {
     "name": "stdout",
     "output_type": "stream",
     "text": [
      "2\n",
      "2\n",
      "Annyung Hasae Yo! LoL!\n",
      "3\n",
      "my name is Hye Soo. my id is Rhs0266. what your id Bro?\n",
      "#1 3 0\n",
      "#2 2 0 1\n"
     ]
    }
   ],
   "source": [
    "answer = []\n",
    "for tc in range(1, int(input())+1):\n",
    "    N = int(input())\n",
    "    word_list = input().split()\n",
    "    lst = []\n",
    "    cnt = 0\n",
    "    for s in word_list:\n",
    "        if s.rstrip('.?!').isalpha() and s.strip('.?!').istitle():\n",
    "            cnt += 1\n",
    "        if s[-1] in ['.','?','!']:\n",
    "            lst.append(str(cnt))\n",
    "            cnt = 0\n",
    "    answer.append('#{} '.format(tc) + ' '.join(lst))\n",
    "print('\\n'.join(answer))"
   ]
  },
  {
   "cell_type": "code",
   "execution_count": 54,
   "id": "fe85954b",
   "metadata": {},
   "outputs": [
    {
     "name": "stdout",
     "output_type": "stream",
     "text": [
      "2\n",
      "2\n",
      "Annyung Hasae Yo! LoL!\n",
      "#1  3 0\n",
      "3\n",
      "my name is Hye Soo. my id is Rhs0266. what your id Bro?\n",
      "#2  2 0 1\n"
     ]
    }
   ],
   "source": [
    "answer = []\n",
    "for tc in range(1, int(input())+1):\n",
    "    N = int(input())\n",
    "    counts = []\n",
    "    word_list = input().split()\n",
    "    cnt = 0\n",
    "    for s in word_list:\n",
    "        if s.rstrip('.?!').isalpha() and s.rstrip('.?!').istitle():\n",
    "            cnt+=1\n",
    "        if s[-1] in '.?!':\n",
    "            counts.append(str(cnt))\n",
    "            cnt = 0\n",
    "    answer.append(f\"#{tc} \" + ' '.join(counts))\n",
    "print('\\n'.join(answer))"
   ]
  },
  {
   "cell_type": "code",
   "execution_count": 90,
   "id": "d0a6946f",
   "metadata": {},
   "outputs": [
    {
     "name": "stdout",
     "output_type": "stream",
     "text": [
      "2\n",
      "2\n",
      "Annyung Hasae Yo! LoL!\n",
      "#1 3 0\n",
      "3\n",
      "my name is Hye Soo. my id is Rhs0266. what your id Bro?\n",
      "#2 2 0 1\n"
     ]
    }
   ],
   "source": [
    "for tc in range(1, int(input())+1):\n",
    "    N = int(input())\n",
    "    counts = [0]*N\n",
    "    word_list = input().split()\n",
    "    idx = 0\n",
    "    for s in word_list:\n",
    "        tmp = s.rstrip('.?!')\n",
    "        if tmp.isalpha() and tmp.istitle():\n",
    "            counts[idx]+=1\n",
    "        if s[-1] in '.?!':\n",
    "            idx +=1\n",
    "    print('#{}'.format(tc),*counts)"
   ]
  },
  {
   "cell_type": "code",
   "execution_count": null,
   "id": "35926fcb",
   "metadata": {},
   "outputs": [],
   "source": []
  }
 ],
 "metadata": {
  "kernelspec": {
   "display_name": "Python 3 (ipykernel)",
   "language": "python",
   "name": "python3"
  },
  "language_info": {
   "codemirror_mode": {
    "name": "ipython",
    "version": 3
   },
   "file_extension": ".py",
   "mimetype": "text/x-python",
   "name": "python",
   "nbconvert_exporter": "python",
   "pygments_lexer": "ipython3",
   "version": "3.9.12"
  }
 },
 "nbformat": 4,
 "nbformat_minor": 5
}
