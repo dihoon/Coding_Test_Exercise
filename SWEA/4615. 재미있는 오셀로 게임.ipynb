{
 "cells": [
  {
   "cell_type": "markdown",
   "id": "37775f5b",
   "metadata": {},
   "source": [
    "재미있는 오셀로 게임 https://swexpertacademy.com/main/code/problem/problemDetail.do?problemLevel=3&contestProbId=AWQmA4uK8ygDFAXj&categoryId=AWQmA4uK8ygDFAXj&categoryType=CODE&problemTitle=&orderBy=RECOMMEND_COUNT&selectCodeLang=ALL&select-1=3&pageSize=10&pageIndex=3"
   ]
  },
  {
   "cell_type": "code",
   "execution_count": 3,
   "id": "95b38cc6",
   "metadata": {},
   "outputs": [
    {
     "name": "stdout",
     "output_type": "stream",
     "text": [
      "1\n",
      "4 12\n",
      "1 2 1\n",
      "1 1 2\n",
      "4 3 1\n",
      "4 4 2\n",
      "2 1 1\n",
      "4 2 2\n",
      "3 4 1\n",
      "1 3 2\n",
      "2 4 1\n",
      "1 4 2\n",
      "4 1 2\n",
      "3 1 2\n",
      "#1 0 16\n"
     ]
    }
   ],
   "source": [
    "def dfs(x, y, idx, color):\n",
    "    matrix[x][y] = color # 돌 놓기\n",
    "\n",
    "    next_x = x + dx[idx]\n",
    "    next_y = y + dy[idx]\n",
    "\n",
    "    lst = []\n",
    "    while True:\n",
    "        if next_x < 0 or next_x >= N or next_y < 0 or next_y >= N or matrix[next_x][next_y] == 0:\n",
    "            break\n",
    "        if matrix[next_x][next_y] == color: # 같은 경로에 비어있거나 같은 색이라면\n",
    "            for t in lst:\n",
    "                matrix[t[0]][t[1]] = color #\n",
    "            break\n",
    "        else: # 같은 경로에 다른 색이라면\n",
    "            lst.append((next_x, next_y))\n",
    "        next_x += dx[idx]\n",
    "        next_y += dy[idx]\n",
    "\n",
    "for test_case in range(1, int(input())+1):\n",
    "    N, M = map(int, input().split()) # N 보드 길이, M : 돌 놓는 횟수\n",
    "    # 1 : 흑돌, 2 : 백돌\n",
    "    b = 0\n",
    "    w = 0\n",
    "\n",
    "    matrix = []\n",
    "    for i in range(N):\n",
    "        matrix.append([0]*N)\n",
    "\n",
    "    dx = [-1, 1, 0, 0, -1, 1, 1, -1]  # 상 하 좌 우 대각선\n",
    "    dy = [0, 0, -1, 1, 1, 1, -1, -1]\n",
    "\n",
    "    matrix[N//2-1][N//2] = 1 # 흑돌\n",
    "    matrix[N//2][N//2-1] = 1\n",
    "    matrix[N//2-1][N//2-1] = 2 # 백돌\n",
    "    matrix[N//2][N//2] = 2\n",
    "\n",
    "    for i in range(M):\n",
    "        x, y, color = map(int, input().split())\n",
    "        # 상 하 좌 우 대각선으로 해당 컬러가 나올 때까지 탐색한다.\n",
    "        for idx in range(len(dx)):\n",
    "            dfs(x-1, y-1, idx ,color)\n",
    "\n",
    "    for i in range(N):\n",
    "        b += matrix[i].count(1)\n",
    "        w += matrix[i].count(2)\n",
    "\n",
    "    print(f'#{test_case}', b, w)"
   ]
  },
  {
   "cell_type": "code",
   "execution_count": null,
   "id": "33b15e3a",
   "metadata": {},
   "outputs": [],
   "source": []
  }
 ],
 "metadata": {
  "kernelspec": {
   "display_name": "Python 3 (ipykernel)",
   "language": "python",
   "name": "python3"
  },
  "language_info": {
   "codemirror_mode": {
    "name": "ipython",
    "version": 3
   },
   "file_extension": ".py",
   "mimetype": "text/x-python",
   "name": "python",
   "nbconvert_exporter": "python",
   "pygments_lexer": "ipython3",
   "version": "3.9.7"
  }
 },
 "nbformat": 4,
 "nbformat_minor": 5
}
