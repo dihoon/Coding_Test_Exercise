{
 "cells": [
  {
   "cell_type": "markdown",
   "id": "d1dbf0b1",
   "metadata": {},
   "source": [
    "1대1 가위바위보 https://swexpertacademy.com/main/solvingProblem/solvingProblem.do"
   ]
  },
  {
   "cell_type": "code",
   "execution_count": 1,
   "id": "e327bc84",
   "metadata": {},
   "outputs": [
    {
     "name": "stdout",
     "output_type": "stream",
     "text": [
      "3 2\n",
      "A\n"
     ]
    }
   ],
   "source": [
    "a, b = map(int, input().split())\n",
    "flag = 0\n",
    "if a == 1:\n",
    "    if b == 2:\n",
    "        flag = 1\n",
    "elif a == 2:\n",
    "    if b == 3:\n",
    "        flag = 1\n",
    "else:\n",
    "    if b == 1:\n",
    "        flag = 1\n",
    "if flag == 0:\n",
    "    print('A')\n",
    "else:\n",
    "    print('B')"
   ]
  },
  {
   "cell_type": "code",
   "execution_count": 10,
   "id": "f8c0f04d",
   "metadata": {},
   "outputs": [
    {
     "name": "stdout",
     "output_type": "stream",
     "text": [
      "3 2\n",
      "A\n"
     ]
    }
   ],
   "source": [
    "a, b = map(int, input().split())\n",
    "if (a < b) & (b-a!=2):\n",
    "    print('B')\n",
    "else:\n",
    "    print('A')"
   ]
  },
  {
   "cell_type": "code",
   "execution_count": null,
   "id": "04949864",
   "metadata": {},
   "outputs": [],
   "source": []
  }
 ],
 "metadata": {
  "kernelspec": {
   "display_name": "Python 3 (ipykernel)",
   "language": "python",
   "name": "python3"
  },
  "language_info": {
   "codemirror_mode": {
    "name": "ipython",
    "version": 3
   },
   "file_extension": ".py",
   "mimetype": "text/x-python",
   "name": "python",
   "nbconvert_exporter": "python",
   "pygments_lexer": "ipython3",
   "version": "3.9.7"
  }
 },
 "nbformat": 4,
 "nbformat_minor": 5
}
