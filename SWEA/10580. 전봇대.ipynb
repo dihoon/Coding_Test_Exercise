{
 "cells": [
  {
   "cell_type": "markdown",
   "id": "46ad3cb6",
   "metadata": {},
   "source": [
    "전봇대 https://swexpertacademy.com/main/code/problem/problemDetail.do?problemLevel=1&problemLevel=2&problemLevel=3&contestProbId=AXO8QBw6Qu4DFAXS&categoryId=AXO8QBw6Qu4DFAXS&categoryType=CODE&problemTitle=&orderBy=PASS_RATE&selectCodeLang=PYTHON&select-1=3&pageSize=10&pageIndex=11"
   ]
  },
  {
   "cell_type": "code",
   "execution_count": 9,
   "id": "40731dbf",
   "metadata": {},
   "outputs": [
    {
     "name": "stdout",
     "output_type": "stream",
     "text": [
      "2\n",
      "3\n",
      "1 10\n",
      "5 5\n",
      "7 7\n",
      "#1 2\n",
      "2\n",
      "1 1\n",
      "2 2\n",
      "#2 0\n"
     ]
    }
   ],
   "source": [
    "for tc in range(1, int(input())+1):\n",
    "    N = int(input())\n",
    "    point = []\n",
    "    cnt = 0\n",
    "    for i in range(N):\n",
    "        a, b = map(int, input().split())\n",
    "        point.append((a, b))\n",
    "    point.sort(key = lambda x : x[0], reverse = True )\n",
    "    \n",
    "    for i in range(N-1):\n",
    "        for j in range(i+1, N):\n",
    "            if point[i][1] < point[j][1]:\n",
    "                cnt += 1\n",
    "    print(f'#{tc}', cnt)"
   ]
  },
  {
   "cell_type": "code",
   "execution_count": null,
   "id": "92b247e0",
   "metadata": {},
   "outputs": [],
   "source": []
  }
 ],
 "metadata": {
  "kernelspec": {
   "display_name": "Python 3 (ipykernel)",
   "language": "python",
   "name": "python3"
  },
  "language_info": {
   "codemirror_mode": {
    "name": "ipython",
    "version": 3
   },
   "file_extension": ".py",
   "mimetype": "text/x-python",
   "name": "python",
   "nbconvert_exporter": "python",
   "pygments_lexer": "ipython3",
   "version": "3.9.12"
  }
 },
 "nbformat": 4,
 "nbformat_minor": 5
}
