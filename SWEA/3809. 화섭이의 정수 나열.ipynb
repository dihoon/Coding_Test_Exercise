{
 "cells": [
  {
   "cell_type": "markdown",
   "id": "95bab14a",
   "metadata": {},
   "source": [
    "화섭이의 정수 나열 https://swexpertacademy.com/main/code/problem/problemDetail.do?problemLevel=3&contestProbId=AWHz7xD6A20DFAVB&categoryId=AWHz7xD6A20DFAVB&categoryType=CODE&problemTitle=&orderBy=PASS_RATE&selectCodeLang=PYTHON&select-1=3&pageSize=10&pageIndex=7"
   ]
  },
  {
   "cell_type": "code",
   "execution_count": 20,
   "id": "7d040625",
   "metadata": {},
   "outputs": [
    {
     "name": "stdout",
     "output_type": "stream",
     "text": [
      "1\n",
      "100\n",
      "3 6 7 5 3 5 6 2 9 1 2 7 0 9 3 6 0 6 2 6 1 8 7 9 2 0 2 3 7 5 9 2 2 8 9 7 3 6 1 2 9 3 1 9 4 7 8 4 5 0 3 6 1 0 6 3 2 0 6 1 5 5 4 7 6 5 6 9 3 7 4 5 2 5 4 7 4 4 3 0 7 8 6 8 8 4 3 1 4 9 2 0 6 8 9 2 6 6 4 9\n",
      "#1 11\n"
     ]
    }
   ],
   "source": [
    "for tc in range(1, int(input())+1):\n",
    "    N = int(input())\n",
    "    lst = []\n",
    "    while (len(lst) != N):\n",
    "        lst += list(map(int, input().split()))    \n",
    "    # 한 자리 수 체크\n",
    "    result = sorted(list(set([i for i in range(10)]) - set(lst)))\n",
    "    if result:\n",
    "        print(f'#{tc} {result[0]}')\n",
    "        continue\n",
    "    # 두 자리 수 체크\n",
    "    result = sorted(list(set([i for i in range(10, 100)]) - set([int(str(lst[i])+str(lst[i+1]))for i in range(len(lst)-1)])))\n",
    "    if result:\n",
    "        print(f'#{tc} {result[0]}')\n",
    "        continue\n",
    "    # 세 자리 수 체크\n",
    "    result = sorted(list(set([i for i in range(100, 1000)]) - set([int(str(lst[i])+str(lst[i+1])+str(lst[i+2])) for i in range(len(lst)-2)])))\n",
    "    if result:\n",
    "        print(f'#{tc} {result[0]}')\n",
    "        continue\n",
    "    else:\n",
    "        print(f'#{tc} 1000')"
   ]
  },
  {
   "cell_type": "code",
   "execution_count": null,
   "id": "ed6c2ff1",
   "metadata": {},
   "outputs": [],
   "source": []
  }
 ],
 "metadata": {
  "kernelspec": {
   "display_name": "Python 3 (ipykernel)",
   "language": "python",
   "name": "python3"
  },
  "language_info": {
   "codemirror_mode": {
    "name": "ipython",
    "version": 3
   },
   "file_extension": ".py",
   "mimetype": "text/x-python",
   "name": "python",
   "nbconvert_exporter": "python",
   "pygments_lexer": "ipython3",
   "version": "3.9.12"
  }
 },
 "nbformat": 4,
 "nbformat_minor": 5
}
