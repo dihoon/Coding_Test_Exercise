{
 "cells": [
  {
   "cell_type": "markdown",
   "id": "fb8982a5",
   "metadata": {},
   "source": [
    "진기의 최고급 붕어빵 https://swexpertacademy.com/main/code/problem/problemDetail.do?problemLevel=3&contestProbId=AV5LsaaqDzYDFAXc&categoryId=AV5LsaaqDzYDFAXc&categoryType=CODE&problemTitle=&orderBy=RECOMMEND_COUNT&selectCodeLang=ALL&select-1=3&pageSize=10&pageIndex=2"
   ]
  },
  {
   "cell_type": "code",
   "execution_count": 2,
   "id": "02fb4f17",
   "metadata": {},
   "outputs": [
    {
     "name": "stdout",
     "output_type": "stream",
     "text": [
      "4\n",
      "2 2 2\n",
      "3 4\n",
      "#1 Possible\n",
      "2 2 2\n",
      "1 2\n",
      "#2 Impossible\n",
      "2 2 1\n",
      "4 2\n",
      "#3 Possible\n",
      "2 2 1\n",
      "3 2\n",
      "#4 Impossible\n"
     ]
    }
   ],
   "source": [
    "for test_case in range(1, int(input())+1):\n",
    "    N, M, K = map(int, input().split())# N : 손님 수, M : 붕어빵 작업시간, K : 작업시간 당 붕어빵 생산 개수\n",
    "    arrivals = sorted(list(map(int, input().split()))) # arrivals : 손님 도착 시간\n",
    "    total = 0 # 붕어빵 전체 생산 수\n",
    "    current = 0 # 붕어빵 현재 보유 수\n",
    "    times = 0 # 손님 온 이후 리셋 시간\n",
    "    result = 'Possible'\n",
    "    for i in range(N):\n",
    "        total = (arrivals[i] // M) * K\n",
    "        current = total - (i+1)\n",
    "        if current < 0:\n",
    "            result = 'Impossible'\n",
    "            break\n",
    "    print(f'#{test_case}', result)"
   ]
  },
  {
   "cell_type": "code",
   "execution_count": null,
   "id": "2f27b3f2",
   "metadata": {},
   "outputs": [],
   "source": []
  }
 ],
 "metadata": {
  "kernelspec": {
   "display_name": "Python 3 (ipykernel)",
   "language": "python",
   "name": "python3"
  },
  "language_info": {
   "codemirror_mode": {
    "name": "ipython",
    "version": 3
   },
   "file_extension": ".py",
   "mimetype": "text/x-python",
   "name": "python",
   "nbconvert_exporter": "python",
   "pygments_lexer": "ipython3",
   "version": "3.9.7"
  }
 },
 "nbformat": 4,
 "nbformat_minor": 5
}
