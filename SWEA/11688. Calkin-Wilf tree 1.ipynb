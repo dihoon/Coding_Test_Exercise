{
 "cells": [
  {
   "cell_type": "markdown",
   "id": "e3bf7225",
   "metadata": {},
   "source": [
    "Calkin-Wilf tree 1 https://swexpertacademy.com/main/code/problem/problemDetail.do?problemLevel=3&contestProbId=AXgZSOn6ApIDFASW&categoryId=AXgZSOn6ApIDFASW&categoryType=CODE&problemTitle=&orderBy=PASS_RATE&selectCodeLang=PYTHON&select-1=3&pageSize=10&pageIndex=2"
   ]
  },
  {
   "cell_type": "code",
   "execution_count": 2,
   "id": "3108ae30",
   "metadata": {},
   "outputs": [
    {
     "name": "stdout",
     "output_type": "stream",
     "text": [
      "3\n",
      "L\n",
      "#1 1 2\n",
      "R\n",
      "#2 2 1\n",
      "LL\n",
      "#3 1 3\n"
     ]
    }
   ],
   "source": [
    "for tc in range(1, int(input())+1):\n",
    "    nodes = input()\n",
    "    a, b = 1, 1\n",
    "    for i in range(len(nodes)):\n",
    "        if nodes[i] == 'L':\n",
    "            a, b = a, a+b\n",
    "        else:\n",
    "            a, b = a+b, b\n",
    "    print(f'#{tc} {a} {b}')"
   ]
  },
  {
   "cell_type": "code",
   "execution_count": null,
   "id": "f35ffad5",
   "metadata": {},
   "outputs": [],
   "source": []
  }
 ],
 "metadata": {
  "kernelspec": {
   "display_name": "Python 3 (ipykernel)",
   "language": "python",
   "name": "python3"
  },
  "language_info": {
   "codemirror_mode": {
    "name": "ipython",
    "version": 3
   },
   "file_extension": ".py",
   "mimetype": "text/x-python",
   "name": "python",
   "nbconvert_exporter": "python",
   "pygments_lexer": "ipython3",
   "version": "3.9.12"
  }
 },
 "nbformat": 4,
 "nbformat_minor": 5
}
