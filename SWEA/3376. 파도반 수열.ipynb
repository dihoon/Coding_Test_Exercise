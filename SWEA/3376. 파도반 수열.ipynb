{
 "cells": [
  {
   "cell_type": "markdown",
   "id": "d6f80019",
   "metadata": {},
   "source": [
    "파도반 수열 https://swexpertacademy.com/main/code/problem/problemDetail.do?problemLevel=3&contestProbId=AWD3Y27q3QIDFAUZ&categoryId=AWD3Y27q3QIDFAUZ&categoryType=CODE&problemTitle=&orderBy=PASS_RATE&selectCodeLang=PYTHON&select-1=3&pageSize=10&pageIndex=7&&&&&&&&&&"
   ]
  },
  {
   "cell_type": "code",
   "execution_count": 8,
   "id": "c533a534",
   "metadata": {},
   "outputs": [
    {
     "name": "stdout",
     "output_type": "stream",
     "text": [
      "2\n",
      "6\n",
      "#1 3\n",
      "12\n",
      "#2 16\n"
     ]
    }
   ],
   "source": [
    "def principle(n):\n",
    "    if n <= 3:\n",
    "        lst.append(1)\n",
    "    else:\n",
    "        lst.append(lst[n-4] + lst[n-3])\n",
    "    return lst[-1]\n",
    "\n",
    "for tc in range(1, int(input())+1):\n",
    "    N = int(input()) # N번째로 추가한 나선의 길이\n",
    "    lst = []\n",
    "    for i in range(1,N+1):\n",
    "        result = principle(i)\n",
    "    print(f'#{tc} {result}')"
   ]
  },
  {
   "cell_type": "code",
   "execution_count": null,
   "id": "6f29cb53",
   "metadata": {},
   "outputs": [],
   "source": []
  }
 ],
 "metadata": {
  "kernelspec": {
   "display_name": "Python 3 (ipykernel)",
   "language": "python",
   "name": "python3"
  },
  "language_info": {
   "codemirror_mode": {
    "name": "ipython",
    "version": 3
   },
   "file_extension": ".py",
   "mimetype": "text/x-python",
   "name": "python",
   "nbconvert_exporter": "python",
   "pygments_lexer": "ipython3",
   "version": "3.9.12"
  }
 },
 "nbformat": 4,
 "nbformat_minor": 5
}
