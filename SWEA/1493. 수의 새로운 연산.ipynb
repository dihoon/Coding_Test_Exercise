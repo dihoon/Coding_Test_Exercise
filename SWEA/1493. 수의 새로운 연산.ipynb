{
 "cells": [
  {
   "cell_type": "markdown",
   "id": "30f3dcc2",
   "metadata": {},
   "source": [
    "수의 새로운 연산 https://swexpertacademy.com/main/code/problem/problemDetail.do?problemLevel=3&contestProbId=AV2b-QGqADMBBASw&categoryId=AV2b-QGqADMBBASw&categoryType=CODE&problemTitle=&orderBy=RECOMMEND_COUNT&selectCodeLang=ALL&select-1=3&pageSize=10&pageIndex=2"
   ]
  },
  {
   "cell_type": "code",
   "execution_count": 1,
   "id": "efcfac80",
   "metadata": {},
   "outputs": [
    {
     "name": "stdout",
     "output_type": "stream",
     "text": [
      "2\n",
      "1 5\n",
      "#1 13\n",
      "3 9\n",
      "#2 26\n"
     ]
    }
   ],
   "source": [
    "def coordinate(num):\n",
    "    rest = num\n",
    "    cnt = 0\n",
    "    while rest>0:\n",
    "        cnt += 1\n",
    "        rest -= cnt\n",
    "    x = cnt # 합 = cnt+1\n",
    "    y = 1\n",
    "    x += rest\n",
    "    y -= rest\n",
    "    return x, y\n",
    "\n",
    "def number(x,y):\n",
    "    x + y - 1 # 개수\n",
    "    num = 0\n",
    "    cnt = x + y - 2\n",
    "    while cnt>0:\n",
    "        num += cnt\n",
    "        cnt -= 1\n",
    "    num += x\n",
    "    return num\n",
    "\n",
    "for test_case in range(1, int(input())+1):\n",
    "    p,q = map(int, input().split())\n",
    "    x1, y1 = coordinate(p)\n",
    "    x2, y2 = coordinate(q)\n",
    "\n",
    "    new = number(x1+x2, y1+y2)\n",
    "    print(f'#{test_case}', new)"
   ]
  },
  {
   "cell_type": "code",
   "execution_count": null,
   "id": "741fc689",
   "metadata": {},
   "outputs": [],
   "source": []
  }
 ],
 "metadata": {
  "kernelspec": {
   "display_name": "Python 3 (ipykernel)",
   "language": "python",
   "name": "python3"
  },
  "language_info": {
   "codemirror_mode": {
    "name": "ipython",
    "version": 3
   },
   "file_extension": ".py",
   "mimetype": "text/x-python",
   "name": "python",
   "nbconvert_exporter": "python",
   "pygments_lexer": "ipython3",
   "version": "3.9.7"
  }
 },
 "nbformat": 4,
 "nbformat_minor": 5
}
