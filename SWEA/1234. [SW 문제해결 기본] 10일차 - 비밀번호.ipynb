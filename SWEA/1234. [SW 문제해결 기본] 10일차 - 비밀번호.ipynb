{
 "cells": [
  {
   "cell_type": "markdown",
   "id": "c840c9ae",
   "metadata": {},
   "source": [
    "[S/W 문제해결 기본] 10일차 - 비밀번호 https://swexpertacademy.com/main/code/problem/problemDetail.do?problemLevel=3&contestProbId=AV14_DEKAJcCFAYD&categoryId=AV14_DEKAJcCFAYD&categoryType=CODE&problemTitle=&orderBy=RECOMMEND_COUNT&selectCodeLang=ALL&select-1=3&pageSize=10&pageIndex=2"
   ]
  },
  {
   "cell_type": "code",
   "execution_count": 1,
   "id": "b989dc89",
   "metadata": {},
   "outputs": [
    {
     "name": "stdout",
     "output_type": "stream",
     "text": [
      "10 1238099084\n",
      "#1 1234\n",
      "16 4100112380990844\n",
      "#2 4123\n",
      "26 12380990844100112380990844\n",
      "#3 123123\n",
      "42 123809908444100112380990844100112380990844\n",
      "#4 1234123123\n",
      "55 1238099084441001123809908441001321238099084432180990844\n",
      "#5 12341\n",
      "60 123809908444100145351123809908441001321238099084432180990844\n",
      "#6 123535\n",
      "71 12380990844410013218099084441001123809908441001321238099084432180990844\n",
      "#7 123432141\n",
      "99 123809908444100180990844410013211238099084410013212380990844123809908441238099084410013232180990844\n",
      "#8 231231321\n",
      "82 1238099084441001410011238099084412380990844100132123809908441238099084432180990844\n",
      "#9 12312323\n",
      "58 0899809812380990844100132123809908441238099084432180990844\n",
      "#10 9823\n"
     ]
    }
   ],
   "source": [
    "def erase(series):\n",
    "    temp = list(series)\n",
    "    while True:\n",
    "        flag = False\n",
    "        for i in range(1, len(temp)):\n",
    "            if temp[i-1] == temp[i]:\n",
    "                del temp[i-1:i+1]\n",
    "                flag = True\n",
    "                break\n",
    "        if flag:\n",
    "            continue\n",
    "        else:\n",
    "            break\n",
    "\n",
    "    return ''.join(temp)\n",
    "\n",
    "for test_case in range(1, 11):\n",
    "    N, series = input().split()\n",
    "    print(f'#{test_case}', erase(series))"
   ]
  },
  {
   "cell_type": "code",
   "execution_count": null,
   "id": "67428acd",
   "metadata": {},
   "outputs": [],
   "source": []
  }
 ],
 "metadata": {
  "kernelspec": {
   "display_name": "Python 3 (ipykernel)",
   "language": "python",
   "name": "python3"
  },
  "language_info": {
   "codemirror_mode": {
    "name": "ipython",
    "version": 3
   },
   "file_extension": ".py",
   "mimetype": "text/x-python",
   "name": "python",
   "nbconvert_exporter": "python",
   "pygments_lexer": "ipython3",
   "version": "3.9.7"
  }
 },
 "nbformat": 4,
 "nbformat_minor": 5
}
