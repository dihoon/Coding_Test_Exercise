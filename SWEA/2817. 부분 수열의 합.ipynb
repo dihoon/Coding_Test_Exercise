{
 "cells": [
  {
   "cell_type": "markdown",
   "id": "0c2178c6",
   "metadata": {},
   "source": [
    "부분 수열의 합 https://swexpertacademy.com/main/code/problem/problemDetail.do?problemLevel=3&contestProbId=AV7IzvG6EksDFAXB&categoryId=AV7IzvG6EksDFAXB&categoryType=CODE&problemTitle=&orderBy=RECOMMEND_COUNT&selectCodeLang=ALL&select-1=3&pageSize=10&pageIndex=1"
   ]
  },
  {
   "cell_type": "code",
   "execution_count": 1,
   "id": "109e3c6b",
   "metadata": {},
   "outputs": [
    {
     "name": "stdout",
     "output_type": "stream",
     "text": [
      "1\n",
      "4 3\n",
      "1 2 1 2\n",
      "#1 4\n"
     ]
    }
   ],
   "source": [
    "def dfs(idx, total):\n",
    "    global cnt\n",
    "    visited[idx] = 1\n",
    "    total+=A[idx]\n",
    "    if total == K:\n",
    "        cnt+=1\n",
    "        return\n",
    "    for i in range(idx+1, N):\n",
    "        if not visited[i]:\n",
    "            dfs(i, total)\n",
    "            visited[i] = 0\n",
    "\n",
    "for test_case in range(1, int(input())+1):\n",
    "    N, K = map(int, input().split())\n",
    "    A = list(map(int, input().split()))\n",
    "    cnt = 0\n",
    "    for i in range(N):\n",
    "        visited = [0]*N\n",
    "        dfs(i,0)\n",
    "    print(f'#{test_case}', cnt)"
   ]
  },
  {
   "cell_type": "code",
   "execution_count": 4,
   "id": "018dbdd5",
   "metadata": {},
   "outputs": [
    {
     "name": "stdout",
     "output_type": "stream",
     "text": [
      "1\n",
      "4 3\n",
      "1 2 1 2\n",
      "#1 4\n"
     ]
    }
   ],
   "source": [
    "def recursive(idx, total):\n",
    "    global cnt\n",
    "    \n",
    "    if idx == N:\n",
    "        return\n",
    "    \n",
    "    temp = total + A[idx]\n",
    "    \n",
    "    if temp == K:\n",
    "        cnt += 1\n",
    "    \n",
    "    recursive(idx+1, total)\n",
    "    recursive(idx+1, temp)\n",
    "\n",
    "for test_case in range(1, int(input())+1):\n",
    "    N, K = map(int, input().split())\n",
    "    A = list(map(int, input().split()))\n",
    "    cnt = 0\n",
    "    \n",
    "    recursive(0, 0)\n",
    "    print(f'#{test_case}', cnt)"
   ]
  }
 ],
 "metadata": {
  "kernelspec": {
   "display_name": "Python 3 (ipykernel)",
   "language": "python",
   "name": "python3"
  },
  "language_info": {
   "codemirror_mode": {
    "name": "ipython",
    "version": 3
   },
   "file_extension": ".py",
   "mimetype": "text/x-python",
   "name": "python",
   "nbconvert_exporter": "python",
   "pygments_lexer": "ipython3",
   "version": "3.9.7"
  }
 },
 "nbformat": 4,
 "nbformat_minor": 5
}
