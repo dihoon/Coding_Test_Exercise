{
 "cells": [
  {
   "cell_type": "markdown",
   "id": "6a009a72",
   "metadata": {},
   "source": [
    "무한 사전 https://swexpertacademy.com/main/code/problem/problemDetail.do?problemLevel=3&contestProbId=AXdHwI1aCy0DFAS5&categoryId=AXdHwI1aCy0DFAS5&categoryType=CODE&problemTitle=&orderBy=PASS_RATE&selectCodeLang=PYTHON&select-1=3&pageSize=10&pageIndex=11"
   ]
  },
  {
   "cell_type": "code",
   "execution_count": 24,
   "id": "e7519431",
   "metadata": {},
   "outputs": [
    {
     "name": "stdout",
     "output_type": "stream",
     "text": [
      "2\n",
      "cat\n",
      "dog\n",
      "man\n",
      "mana\n",
      "#1 Y\n",
      "#2 N\n"
     ]
    }
   ],
   "source": [
    "answer = []\n",
    "for tc in range(1, int(input())+1):\n",
    "    P = input().strip()\n",
    "    Q = input().strip()\n",
    "    result = 'Y'\n",
    "    if len(Q) - len(P) == 1:\n",
    "        for i in range(len(P)):\n",
    "            if P[i] != Q[i]:\n",
    "                break\n",
    "        else:\n",
    "            if Q[-1] == 'a':\n",
    "                result = 'N'\n",
    "    answer.append('#{} {}'.format(tc, result))\n",
    "print('\\n'.join(answer))"
   ]
  },
  {
   "cell_type": "code",
   "execution_count": 22,
   "id": "e978d73f",
   "metadata": {},
   "outputs": [
    {
     "name": "stdout",
     "output_type": "stream",
     "text": [
      "2\n",
      "cat\n",
      "dog\n",
      "man\n",
      "mana\n",
      "#1 Y\n",
      "#2 N\n"
     ]
    }
   ],
   "source": [
    "answer = []\n",
    "for tc in range(1, int(input())+1):\n",
    "    P = input().strip()\n",
    "    Q = input().strip()\n",
    "    result = 'Y'\n",
    "    if Q == P + 'a':\n",
    "        result = 'N'\n",
    "    answer.append('#{} {}'.format(tc, result))\n",
    "print('\\n'.join(answer))"
   ]
  },
  {
   "cell_type": "code",
   "execution_count": null,
   "id": "6355074e",
   "metadata": {},
   "outputs": [],
   "source": []
  }
 ],
 "metadata": {
  "kernelspec": {
   "display_name": "Python 3 (ipykernel)",
   "language": "python",
   "name": "python3"
  },
  "language_info": {
   "codemirror_mode": {
    "name": "ipython",
    "version": 3
   },
   "file_extension": ".py",
   "mimetype": "text/x-python",
   "name": "python",
   "nbconvert_exporter": "python",
   "pygments_lexer": "ipython3",
   "version": "3.9.12"
  }
 },
 "nbformat": 4,
 "nbformat_minor": 5
}
