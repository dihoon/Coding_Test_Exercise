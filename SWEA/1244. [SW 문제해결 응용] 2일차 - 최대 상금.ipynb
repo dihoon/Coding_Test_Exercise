{
 "cells": [
  {
   "cell_type": "markdown",
   "id": "7bc6cabf",
   "metadata": {},
   "source": [
    "[S/W 문제해결 응용] 2일차 - 최대 상금 https://swexpertacademy.com/main/code/problem/problemDetail.do?problemLevel=3&contestProbId=AV15Khn6AN0CFAYD&categoryId=AV15Khn6AN0CFAYD&categoryType=CODE&problemTitle=&orderBy=RECOMMEND_COUNT&selectCodeLang=PYTHON&select-1=3&pageSize=10&pageIndex=1"
   ]
  },
  {
   "cell_type": "code",
   "execution_count": 68,
   "id": "2ac64490",
   "metadata": {},
   "outputs": [
    {
     "name": "stdout",
     "output_type": "stream",
     "text": [
      "3\n",
      "123 1\n",
      "#1 321\n",
      "2737 1\n",
      "#2 7732\n",
      "32888 2\n",
      "#3 88832\n"
     ]
    }
   ],
   "source": [
    "for test_case in range(1, int(input())+1):\n",
    "    num, change = input().split()\n",
    "    change = int(change)\n",
    "    case_set = set([num]) # swap 했을 때 나오는 경우의 수를 계속해서 갱신한다.\n",
    "    \n",
    "    for _ in range(change):\n",
    "        tempset = set()\n",
    "        while case_set:\n",
    "            s = list(case_set.pop())\n",
    "            for i in range(len(s)):\n",
    "                for j in range(i+1, len(s)):\n",
    "                    temp = s[:]\n",
    "                    temp[i],temp[j]=temp[j],temp[i]\n",
    "                    tempset.add(''.join(temp))\n",
    "        case_set = tempset.copy()\n",
    "    print(f'#{test_case} {max(map(int, case_set))}')                "
   ]
  },
  {
   "cell_type": "code",
   "execution_count": null,
   "id": "1bc3751a",
   "metadata": {},
   "outputs": [],
   "source": []
  }
 ],
 "metadata": {
  "kernelspec": {
   "display_name": "Python 3 (ipykernel)",
   "language": "python",
   "name": "python3"
  },
  "language_info": {
   "codemirror_mode": {
    "name": "ipython",
    "version": 3
   },
   "file_extension": ".py",
   "mimetype": "text/x-python",
   "name": "python",
   "nbconvert_exporter": "python",
   "pygments_lexer": "ipython3",
   "version": "3.9.7"
  }
 },
 "nbformat": 4,
 "nbformat_minor": 5
}
