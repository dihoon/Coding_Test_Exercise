{
 "cells": [
  {
   "cell_type": "markdown",
   "id": "4dcd75b5",
   "metadata": {},
   "source": [
    "제곱 팰린드롬 수 https://swexpertacademy.com/main/code/problem/problemDetail.do?problemLevel=3&contestProbId=AXO72aaqPrcDFAXS&categoryId=AXO72aaqPrcDFAXS&categoryType=CODE&problemTitle=&orderBy=PASS_RATE&selectCodeLang=PYTHON&select-1=3&pageSize=10&pageIndex=2"
   ]
  },
  {
   "cell_type": "code",
   "execution_count": 85,
   "id": "da3110b0",
   "metadata": {},
   "outputs": [
    {
     "name": "stdout",
     "output_type": "stream",
     "text": [
      "3\n",
      "1 9\n",
      "#1 3\n",
      "10 99\n",
      "#2 0\n",
      "100 1000\n",
      "#3 2\n"
     ]
    }
   ],
   "source": [
    "def palindrome(num):\n",
    "    if len(num) % 2 == 1:\n",
    "        center = len(num) // 2\n",
    "        for i in range(1, center+1):\n",
    "            if num[center - i] != num[center + i]:\n",
    "                return False\n",
    "        return True\n",
    "    else:\n",
    "        l, r = len(num) // 2 - 1, len(num) // 2\n",
    "        for i in range(l+1):\n",
    "            if num[l-i] != num[r+i]:\n",
    "                return False\n",
    "        return True\n",
    "\n",
    "for tc in range(1, int(input())+1):\n",
    "    s, l = map(int, input().split())\n",
    "    lst = [f'{i}' for i in range(s, l+1)]\n",
    "    count = 0\n",
    "    for num in lst:\n",
    "        if palindrome(num):\n",
    "            root = int(num)**(1/2)\n",
    "            if root == int(root):\n",
    "                if palindrome(str(int(root))):\n",
    "                    count += 1\n",
    "    print(f'#{tc} {count}')"
   ]
  },
  {
   "cell_type": "code",
   "execution_count": null,
   "id": "a01a110b",
   "metadata": {},
   "outputs": [],
   "source": []
  }
 ],
 "metadata": {
  "kernelspec": {
   "display_name": "Python 3 (ipykernel)",
   "language": "python",
   "name": "python3"
  },
  "language_info": {
   "codemirror_mode": {
    "name": "ipython",
    "version": 3
   },
   "file_extension": ".py",
   "mimetype": "text/x-python",
   "name": "python",
   "nbconvert_exporter": "python",
   "pygments_lexer": "ipython3",
   "version": "3.9.12"
  }
 },
 "nbformat": 4,
 "nbformat_minor": 5
}
