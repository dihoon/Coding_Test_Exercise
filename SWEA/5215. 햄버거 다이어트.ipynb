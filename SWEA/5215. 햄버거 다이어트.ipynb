{
 "cells": [
  {
   "cell_type": "markdown",
   "id": "5973c499",
   "metadata": {},
   "source": [
    "햄버거 다이어트 https://swexpertacademy.com/main/code/problem/problemDetail.do?problemLevel=3&contestProbId=AWT-lPB6dHUDFAVT&categoryId=AWT-lPB6dHUDFAVT&categoryType=CODE&problemTitle=&orderBy=RECOMMEND_COUNT&selectCodeLang=ALL&select-1=3&pageSize=10&pageIndex=2"
   ]
  },
  {
   "cell_type": "code",
   "execution_count": null,
   "id": "f0a38647",
   "metadata": {},
   "outputs": [],
   "source": [
    "def search(idx, kcal):\n",
    "    global max_score\n",
    "    global total_score\n",
    "    visited[idx] = 1 # 방문 처리\n",
    "    kcal += foods[idx][1]\n",
    "    total_score += foods[idx][0]\n",
    "\n",
    "    if kcal <= L:\n",
    "        if max_score < total_score:\n",
    "            max_score = total_score\n",
    "\n",
    "    for index in range(idx+1, N): # 첫 번째 인덱스만 채우고 나머지는 끝나면 리셋시킨다.\n",
    "        if not visited[index]:\n",
    "            kcal = search(index, kcal)\n",
    "            visited[index] = 0\n",
    "            kcal -= foods[index][1]\n",
    "            total_score -= foods[index][0]\n",
    "    return kcal\n",
    "\n",
    "for test_case in range(1, int(input())+1):\n",
    "    N, L = map(int, input().split()) # 재료 수, 제한 칼로리\n",
    "    foods = []\n",
    "    max_score = 0\n",
    "    total_score = 0\n",
    "\n",
    "    for i in range(N):\n",
    "        s, k =(map(int, input().split()))\n",
    "        foods.append((s, k))\n",
    "\n",
    "    for i in range(N):\n",
    "        total_score = 0\n",
    "        visited = [0] * N\n",
    "        search(i, 0)\n",
    "    print(f'#{test_case}', max_score)"
   ]
  },
  {
   "cell_type": "markdown",
   "id": "fed3875a",
   "metadata": {},
   "source": [
    "global 변수 사용하지 않고 풀어보기"
   ]
  },
  {
   "cell_type": "code",
   "execution_count": 5,
   "id": "e6d1620c",
   "metadata": {},
   "outputs": [
    {
     "name": "stdout",
     "output_type": "stream",
     "text": [
      "1\n",
      "5 1000\n",
      "100 200\n",
      "300 500\n",
      "250 300\n",
      "500 1000\n",
      "400 400\n",
      "#1 750\n"
     ]
    }
   ],
   "source": [
    "def dfs(idx, kcal, score, max_score):\n",
    "    visited[idx] = 1 # 방문 처리\n",
    "    kcal += foods[idx][1]\n",
    "    score += foods[idx][0]\n",
    "    \n",
    "    if kcal <= L:     \n",
    "        if max_score <= score:\n",
    "            max_score = score\n",
    "    \n",
    "    for i in range(idx+1, N):\n",
    "        kcal, score, max_score = dfs(i, kcal, score, max_score)\n",
    "        visited[i] = 0\n",
    "        kcal -= foods[i][1]\n",
    "        score -= foods[i][0]\n",
    "    \n",
    "    return kcal, score, max_score\n",
    "\n",
    "for test_case in range(1, int(input())+1):\n",
    "    N, L = map(int, input().split())\n",
    "    max_score = 0\n",
    "    foods = []\n",
    "    \n",
    "    for i in range(N):\n",
    "        s, k = map(int, input().split())\n",
    "        foods.append((s,k))\n",
    "        \n",
    "    for i in range(N):\n",
    "        visited = [0]*N\n",
    "        _, _, value = dfs(i,0,0,0)\n",
    "        if max_score < value:\n",
    "            max_score = value\n",
    "    print(f'#{test_case}', max_score)"
   ]
  },
  {
   "cell_type": "markdown",
   "id": "8d54d8de",
   "metadata": {},
   "source": [
    "반복문 없이 재귀함수로 풀기"
   ]
  },
  {
   "cell_type": "code",
   "execution_count": 8,
   "id": "0efea5d2",
   "metadata": {},
   "outputs": [
    {
     "name": "stdout",
     "output_type": "stream",
     "text": [
      "1\n",
      "5 1000\n",
      "100 200\n",
      "300 500\n",
      "250 300\n",
      "500 1000\n",
      "400 400\n",
      "#1 750\n"
     ]
    }
   ],
   "source": [
    "def dfs(index, kcal, score):\n",
    "    global max_score\n",
    "    \n",
    "    if kcal > L:\n",
    "        return\n",
    "    \n",
    "    if index == N:\n",
    "        if max_score < score:\n",
    "            max_score = score\n",
    "        return\n",
    "    \n",
    "    new_kcal = kcal + foods[index][1]\n",
    "    new_score = score + foods[index][0]\n",
    "    \n",
    "    dfs(index+1, kcal, score)\n",
    "    dfs(index+1, new_kcal, new_score)\n",
    "\n",
    "for test_case in range(1, int(input())+1):\n",
    "    N, L = map(int, input().split())\n",
    "    max_score = 0\n",
    "    foods = []\n",
    "    \n",
    "    for i in range(N):\n",
    "        s, k = map(int, input().split())\n",
    "        foods.append((s,k))\n",
    "    \n",
    "    dfs(0,0,0) # index, kcal, score\n",
    "    print(f'#{test_case}', max_score)"
   ]
  }
 ],
 "metadata": {
  "kernelspec": {
   "display_name": "Python 3 (ipykernel)",
   "language": "python",
   "name": "python3"
  },
  "language_info": {
   "codemirror_mode": {
    "name": "ipython",
    "version": 3
   },
   "file_extension": ".py",
   "mimetype": "text/x-python",
   "name": "python",
   "nbconvert_exporter": "python",
   "pygments_lexer": "ipython3",
   "version": "3.9.7"
  }
 },
 "nbformat": 4,
 "nbformat_minor": 5
}
