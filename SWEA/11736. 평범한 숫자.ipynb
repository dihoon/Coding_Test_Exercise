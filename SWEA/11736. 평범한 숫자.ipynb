{
 "cells": [
  {
   "cell_type": "markdown",
   "id": "16559799",
   "metadata": {},
   "source": [
    "평범한 숫자 https://swexpertacademy.com/main/code/problem/problemDetail.do?problemLevel=3&contestProbId=AXhh-H-KwUcDFARQ&categoryId=AXhh-H-KwUcDFARQ&categoryType=CODE&problemTitle=&orderBy=PASS_RATE&selectCodeLang=PYTHON&select-1=3&pageSize=10&pageIndex=5"
   ]
  },
  {
   "cell_type": "code",
   "execution_count": 4,
   "id": "55570823",
   "metadata": {},
   "outputs": [
    {
     "name": "stdout",
     "output_type": "stream",
     "text": [
      "2\n",
      "3\n",
      "1 3 2\n",
      "#1 0\n",
      "5\n",
      "1 3 5 4 2\n",
      "#2 2\n"
     ]
    }
   ],
   "source": [
    "for tc in range(1, int(input())+1):\n",
    "    N = int(input())\n",
    "    lst = list(map(int, input().split()))\n",
    "    count = 0 \n",
    "    for i in range(N-2):\n",
    "        if max(lst[i:i+3]) != lst[i+1] and min(lst[i:i+3]) != lst[i+1]:\n",
    "            count += 1\n",
    "    print(f'#{tc}', count)"
   ]
  },
  {
   "cell_type": "code",
   "execution_count": null,
   "id": "3ea6b06c",
   "metadata": {},
   "outputs": [],
   "source": []
  }
 ],
 "metadata": {
  "kernelspec": {
   "display_name": "Python 3 (ipykernel)",
   "language": "python",
   "name": "python3"
  },
  "language_info": {
   "codemirror_mode": {
    "name": "ipython",
    "version": 3
   },
   "file_extension": ".py",
   "mimetype": "text/x-python",
   "name": "python",
   "nbconvert_exporter": "python",
   "pygments_lexer": "ipython3",
   "version": "3.9.12"
  }
 },
 "nbformat": 4,
 "nbformat_minor": 5
}
