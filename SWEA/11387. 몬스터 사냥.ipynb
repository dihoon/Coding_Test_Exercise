{
 "cells": [
  {
   "cell_type": "markdown",
   "id": "cff1add8",
   "metadata": {},
   "source": [
    "몬스터 사냥 https://swexpertacademy.com/main/code/problem/problemDetail.do?problemLevel=1&problemLevel=2&problemLevel=3&contestProbId=AXb6LR76vCcDFARR&categoryId=AXb6LR76vCcDFARR&categoryType=CODE&problemTitle=&orderBy=PASS_RATE&selectCodeLang=PYTHON&select-1=3&pageSize=10&pageIndex=11"
   ]
  },
  {
   "cell_type": "code",
   "execution_count": 8,
   "id": "ccf0b655",
   "metadata": {},
   "outputs": [
    {
     "name": "stdout",
     "output_type": "stream",
     "text": [
      "3\n",
      "100 0 1\n",
      "#1 100\n",
      "200 12 10\n",
      "#2 3080\n",
      "10000 100 100\n",
      "#3 50500000\n"
     ]
    }
   ],
   "source": [
    "for tc in range(1, int(input())+1):\n",
    "    D, L, N = map(int, input().split())\n",
    "    total = 0\n",
    "    for i in range(N):\n",
    "        total += D*(1 + i*L/100)\n",
    "    print(f'#{tc} {total:.0f}')"
   ]
  },
  {
   "cell_type": "code",
   "execution_count": null,
   "id": "7e8193f8",
   "metadata": {},
   "outputs": [],
   "source": []
  }
 ],
 "metadata": {
  "kernelspec": {
   "display_name": "Python 3 (ipykernel)",
   "language": "python",
   "name": "python3"
  },
  "language_info": {
   "codemirror_mode": {
    "name": "ipython",
    "version": 3
   },
   "file_extension": ".py",
   "mimetype": "text/x-python",
   "name": "python",
   "nbconvert_exporter": "python",
   "pygments_lexer": "ipython3",
   "version": "3.9.12"
  }
 },
 "nbformat": 4,
 "nbformat_minor": 5
}
