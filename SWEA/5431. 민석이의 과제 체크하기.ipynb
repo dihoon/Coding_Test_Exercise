{
 "cells": [
  {
   "cell_type": "markdown",
   "id": "adaddc66",
   "metadata": {},
   "source": [
    "민석이의 과제 체크하기 https://swexpertacademy.com/main/code/problem/problemDetail.do?problemLevel=3&contestProbId=AWVl3rWKDBYDFAXm&categoryId=AWVl3rWKDBYDFAXm&categoryType=CODE&problemTitle=&orderBy=RECOMMEND_COUNT&selectCodeLang=PYTHON&select-1=3&pageSize=10&pageIndex=4"
   ]
  },
  {
   "cell_type": "code",
   "execution_count": 1,
   "id": "252fbbb5",
   "metadata": {},
   "outputs": [
    {
     "name": "stdout",
     "output_type": "stream",
     "text": [
      "2\n",
      "5 3\n",
      "2 5 3\n",
      "#1 1 4\n",
      "7 2\n",
      "4 6\n",
      "#2 1 2 3 5 7\n"
     ]
    }
   ],
   "source": [
    "for tc in range(1, int(input())+1):\n",
    "    N, S = map(int, input().split())\n",
    "    whole_set = set([num for num in range(1, N+1)])\n",
    "    subset = set(list(map(int, input().split())))\n",
    "    print(f'#{tc}', *list(whole_set.difference(subset)))"
   ]
  },
  {
   "cell_type": "code",
   "execution_count": null,
   "id": "be7e5e23",
   "metadata": {},
   "outputs": [],
   "source": []
  }
 ],
 "metadata": {
  "kernelspec": {
   "display_name": "Python 3 (ipykernel)",
   "language": "python",
   "name": "python3"
  },
  "language_info": {
   "codemirror_mode": {
    "name": "ipython",
    "version": 3
   },
   "file_extension": ".py",
   "mimetype": "text/x-python",
   "name": "python",
   "nbconvert_exporter": "python",
   "pygments_lexer": "ipython3",
   "version": "3.9.7"
  }
 },
 "nbformat": 4,
 "nbformat_minor": 5
}
