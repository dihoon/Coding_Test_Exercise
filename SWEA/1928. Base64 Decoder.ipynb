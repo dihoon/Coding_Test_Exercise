{
 "cells": [
  {
   "cell_type": "markdown",
   "id": "d3060e5b",
   "metadata": {},
   "source": [
    "Base64 Decoder https://swexpertacademy.com/main/solvingProblem/solvingProblem.do"
   ]
  },
  {
   "cell_type": "code",
   "execution_count": 140,
   "id": "2e46a2af",
   "metadata": {},
   "outputs": [
    {
     "name": "stdout",
     "output_type": "stream",
     "text": [
      "1\n",
      "TGlmZSBpdHNlbGYgaXMgYSBxdW90YXRpb24u\n",
      "#1 Life itself is a quotation.\n"
     ]
    }
   ],
   "source": [
    "code = 'ABCDEFGHIJKLMNOPQRSTUVWXYZabcdefghijklmnopqrstuvwxyz0123456789+/'\n",
    "decoder = {code[i]:i for i in range(len(code))}\n",
    "\n",
    "for test_case in range(1, int(input())+1):\n",
    "    st = input()\n",
    "    temp = ''\n",
    "    result = ''\n",
    "    for c in st:\n",
    "        sub = bin(decoder[c])[2:]\n",
    "        if len(sub) < 6:\n",
    "            sub = '0'*(6-len(sub)) + sub\n",
    "        temp += sub\n",
    "    for i in range(0, len(temp), 8):\n",
    "        result += chr(int('0b' + temp[i:i+8], 2))\n",
    "    print(f'#{test_case}', result)"
   ]
  },
  {
   "cell_type": "markdown",
   "id": "3afe716a",
   "metadata": {},
   "source": []
  }
 ],
 "metadata": {
  "kernelspec": {
   "display_name": "Python 3 (ipykernel)",
   "language": "python",
   "name": "python3"
  },
  "language_info": {
   "codemirror_mode": {
    "name": "ipython",
    "version": 3
   },
   "file_extension": ".py",
   "mimetype": "text/x-python",
   "name": "python",
   "nbconvert_exporter": "python",
   "pygments_lexer": "ipython3",
   "version": "3.9.7"
  }
 },
 "nbformat": 4,
 "nbformat_minor": 5
}
