{
 "cells": [
  {
   "cell_type": "markdown",
   "id": "3cbb78f1",
   "metadata": {},
   "source": [
    "정삼각형 분할 놀이 https://swexpertacademy.com/main/code/problem/problemDetail.do?problemLevel=3&contestProbId=AWAe5G8afT0DFAUw&categoryId=AWAe5G8afT0DFAUw&categoryType=CODE&problemTitle=&orderBy=PASS_RATE&selectCodeLang=PYTHON&select-1=3&pageSize=10&pageIndex=7"
   ]
  },
  {
   "cell_type": "code",
   "execution_count": 1,
   "id": "64062ceb",
   "metadata": {},
   "outputs": [
    {
     "name": "stdout",
     "output_type": "stream",
     "text": [
      "2\n",
      "2 1\n",
      "#1 4\n",
      "3 3\n",
      "#2 1\n"
     ]
    }
   ],
   "source": [
    "for tc in range(1, int(input())+1):\n",
    "    A, B = map(int, input().split())\n",
    "    N = A//B\n",
    "    total = N*(N+1)//2 + (N-1)*N//2\n",
    "    print(f'#{tc} {total}')"
   ]
  },
  {
   "cell_type": "code",
   "execution_count": null,
   "id": "80b93584",
   "metadata": {},
   "outputs": [],
   "source": []
  }
 ],
 "metadata": {
  "kernelspec": {
   "display_name": "Python 3 (ipykernel)",
   "language": "python",
   "name": "python3"
  },
  "language_info": {
   "codemirror_mode": {
    "name": "ipython",
    "version": 3
   },
   "file_extension": ".py",
   "mimetype": "text/x-python",
   "name": "python",
   "nbconvert_exporter": "python",
   "pygments_lexer": "ipython3",
   "version": "3.9.12"
  }
 },
 "nbformat": 4,
 "nbformat_minor": 5
}
