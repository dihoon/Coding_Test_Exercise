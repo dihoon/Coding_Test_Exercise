{
 "cells": [
  {
   "cell_type": "markdown",
   "id": "3bf63a5a",
   "metadata": {},
   "source": [
    "문자열 교집합 https://swexpertacademy.com/main/code/problem/problemDetail.do?problemLevel=3&contestProbId=AV-Un3G64SUDFAXr&categoryId=AV-Un3G64SUDFAXr&categoryType=CODE&problemTitle=&orderBy=PASS_RATE&selectCodeLang=PYTHON&select-1=3&pageSize=10&pageIndex=10"
   ]
  },
  {
   "cell_type": "code",
   "execution_count": 2,
   "id": "6ac776ce",
   "metadata": {},
   "outputs": [
    {
     "name": "stdout",
     "output_type": "stream",
     "text": [
      "2\n",
      "2 3\n",
      "ab a\n",
      "a ac ba\n",
      "#1 1\n",
      "3 3\n",
      "aa bb cc\n",
      "dd cc aa\n",
      "#2 2\n"
     ]
    }
   ],
   "source": [
    "for tc in range(1, int(input())+1):\n",
    "    N, M = map(int, input().split())\n",
    "    st1 = set(input().split())\n",
    "    st2 = set(input().split())\n",
    "    cnt = len(st1 & st2)\n",
    "    print('#{} {}'.format(tc, cnt))"
   ]
  },
  {
   "cell_type": "code",
   "execution_count": null,
   "id": "f2bd31e2",
   "metadata": {},
   "outputs": [],
   "source": []
  }
 ],
 "metadata": {
  "kernelspec": {
   "display_name": "Python 3 (ipykernel)",
   "language": "python",
   "name": "python3"
  },
  "language_info": {
   "codemirror_mode": {
    "name": "ipython",
    "version": 3
   },
   "file_extension": ".py",
   "mimetype": "text/x-python",
   "name": "python",
   "nbconvert_exporter": "python",
   "pygments_lexer": "ipython3",
   "version": "3.9.12"
  }
 },
 "nbformat": 4,
 "nbformat_minor": 5
}
