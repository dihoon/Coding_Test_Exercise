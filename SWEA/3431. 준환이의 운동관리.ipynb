{
 "cells": [
  {
   "cell_type": "markdown",
   "id": "77f2f58f",
   "metadata": {},
   "source": [
    "준환이의 운동관리 https://swexpertacademy.com/main/code/problem/problemDetail.do?problemLevel=3&contestProbId=AWE_ZXcqAAMDFAV2&categoryId=AWE_ZXcqAAMDFAV2&categoryType=CODE&problemTitle=&orderBy=RECOMMEND_COUNT&selectCodeLang=PYTHON&select-1=3&pageSize=10&pageIndex=3"
   ]
  },
  {
   "cell_type": "code",
   "execution_count": 1,
   "id": "757be498",
   "metadata": {},
   "outputs": [
    {
     "name": "stdout",
     "output_type": "stream",
     "text": [
      "3\n",
      "300 400 240\n",
      "#1 60\n",
      "300 400 350\n",
      "#2 0\n",
      "300 400 480\n",
      "#3 -1\n"
     ]
    }
   ],
   "source": [
    "for test_case in range(1, int(input())+1):\n",
    "    L, U, X = map(int, input().split())\n",
    "    result = 0\n",
    "    if L>X:\n",
    "        result = L-X\n",
    "    elif X<=U:\n",
    "        result = 0\n",
    "    else:\n",
    "        result = -1\n",
    "    print(f'#{test_case}', result)"
   ]
  },
  {
   "cell_type": "code",
   "execution_count": null,
   "id": "72599519",
   "metadata": {},
   "outputs": [],
   "source": []
  }
 ],
 "metadata": {
  "kernelspec": {
   "display_name": "Python 3 (ipykernel)",
   "language": "python",
   "name": "python3"
  },
  "language_info": {
   "codemirror_mode": {
    "name": "ipython",
    "version": 3
   },
   "file_extension": ".py",
   "mimetype": "text/x-python",
   "name": "python",
   "nbconvert_exporter": "python",
   "pygments_lexer": "ipython3",
   "version": "3.9.7"
  }
 },
 "nbformat": 4,
 "nbformat_minor": 5
}
