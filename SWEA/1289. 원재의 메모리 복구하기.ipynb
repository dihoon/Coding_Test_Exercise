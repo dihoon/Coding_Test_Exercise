{
 "cells": [
  {
   "cell_type": "markdown",
   "id": "636a57e1",
   "metadata": {},
   "source": [
    "원재의 메모리 복구하기 https://swexpertacademy.com/main/code/problem/problemDetail.do?problemLevel=3&contestProbId=AV19AcoKI9sCFAZN&categoryId=AV19AcoKI9sCFAZN&categoryType=CODE&problemTitle=&orderBy=RECOMMEND_COUNT&selectCodeLang=ALL&select-1=3&pageSize=10&pageIndex=2"
   ]
  },
  {
   "cell_type": "code",
   "execution_count": 1,
   "id": "1720f2ad",
   "metadata": {},
   "outputs": [
    {
     "name": "stdout",
     "output_type": "stream",
     "text": [
      "2\n",
      "0011\n",
      "#1 1\n",
      "100\n",
      "#2 2\n"
     ]
    }
   ],
   "source": [
    "for test_case in range(1, int(input())+1):\n",
    "    memory = list(input())\n",
    "    init = ['0']*len(memory)\n",
    "    cnt = 0\n",
    "    start = False\n",
    "    for i in range(len(memory)):\n",
    "        if memory[i] != init[i]:\n",
    "            if memory[i] == '1':\n",
    "                for j in range(i, len(memory)):\n",
    "                    init[j] = '1'\n",
    "                    start = True\n",
    "                cnt +=1\n",
    "            if start:\n",
    "                if memory[i] == '0':\n",
    "                    for j in range(i, len(memory)):\n",
    "                        init[j] = '0'\n",
    "                    cnt +=1\n",
    "            if memory == init:\n",
    "                break\n",
    "    print(f'#{test_case}', cnt)"
   ]
  },
  {
   "cell_type": "markdown",
   "id": "98d0a305",
   "metadata": {},
   "source": [
    "앞에서부터 init과 memory를 비교하는데 값이 다르면 바꿔주고 같을 때는 skip"
   ]
  }
 ],
 "metadata": {
  "kernelspec": {
   "display_name": "Python 3 (ipykernel)",
   "language": "python",
   "name": "python3"
  },
  "language_info": {
   "codemirror_mode": {
    "name": "ipython",
    "version": 3
   },
   "file_extension": ".py",
   "mimetype": "text/x-python",
   "name": "python",
   "nbconvert_exporter": "python",
   "pygments_lexer": "ipython3",
   "version": "3.9.7"
  }
 },
 "nbformat": 4,
 "nbformat_minor": 5
}
