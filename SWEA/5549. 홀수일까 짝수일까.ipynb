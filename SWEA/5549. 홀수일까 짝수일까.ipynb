{
 "cells": [
  {
   "cell_type": "markdown",
   "id": "72599ee2",
   "metadata": {},
   "source": [
    "홀수일까 짝수일까 https://swexpertacademy.com/main/code/problem/problemDetail.do?problemLevel=3&contestProbId=AWWxpEDaAVoDFAW4&categoryId=AWWxpEDaAVoDFAW4&categoryType=CODE&problemTitle=&orderBy=PASS_RATE&selectCodeLang=PYTHON&select-1=3&pageSize=10&pageIndex=3"
   ]
  },
  {
   "cell_type": "code",
   "execution_count": 1,
   "id": "ff4e85e8",
   "metadata": {},
   "outputs": [
    {
     "name": "stdout",
     "output_type": "stream",
     "text": [
      "5\n",
      "1\n",
      "#1 Odd\n",
      "10\n",
      "#2 Even\n",
      "100\n",
      "#3 Even\n",
      "185787124368712386825387273871\n",
      "#4 Odd\n",
      "82518881239123819238912929292\n",
      "#5 Even\n"
     ]
    }
   ],
   "source": [
    "for tc in range(1, int(input())+1):\n",
    "    N = int(input())\n",
    "    if N % 2 == 0:\n",
    "        result = 'Even'\n",
    "    else:\n",
    "        result = 'Odd'\n",
    "    print(f'#{tc}', result)"
   ]
  }
 ],
 "metadata": {
  "kernelspec": {
   "display_name": "Python 3 (ipykernel)",
   "language": "python",
   "name": "python3"
  },
  "language_info": {
   "codemirror_mode": {
    "name": "ipython",
    "version": 3
   },
   "file_extension": ".py",
   "mimetype": "text/x-python",
   "name": "python",
   "nbconvert_exporter": "python",
   "pygments_lexer": "ipython3",
   "version": "3.9.12"
  }
 },
 "nbformat": 4,
 "nbformat_minor": 5
}
