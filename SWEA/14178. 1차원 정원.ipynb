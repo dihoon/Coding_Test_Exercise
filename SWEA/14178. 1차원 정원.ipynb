{
 "cells": [
  {
   "cell_type": "markdown",
   "id": "bd32714f",
   "metadata": {},
   "source": [
    "1차원 정원 https://swexpertacademy.com/main/solvingProblem/solvingProblem.do"
   ]
  },
  {
   "cell_type": "code",
   "execution_count": 2,
   "id": "9dcc8079",
   "metadata": {},
   "outputs": [
    {
     "name": "stdout",
     "output_type": "stream",
     "text": [
      "3\n",
      "5 1\n",
      "#1 2\n",
      "5 2\n",
      "#2 1\n",
      "100 3\n",
      "#3 15\n"
     ]
    }
   ],
   "source": [
    "for test_case in range(1, int(input())+1):\n",
    "    N, D = map(int, input().split())\n",
    "    cnt = N // (2*D+1)\n",
    "    if N % (2*D + 1) !=0:\n",
    "        cnt +=1\n",
    "    print(f'#{test_case}', cnt)"
   ]
  },
  {
   "cell_type": "code",
   "execution_count": null,
   "id": "95b1d5a2",
   "metadata": {},
   "outputs": [],
   "source": []
  }
 ],
 "metadata": {
  "kernelspec": {
   "display_name": "Python 3 (ipykernel)",
   "language": "python",
   "name": "python3"
  },
  "language_info": {
   "codemirror_mode": {
    "name": "ipython",
    "version": 3
   },
   "file_extension": ".py",
   "mimetype": "text/x-python",
   "name": "python",
   "nbconvert_exporter": "python",
   "pygments_lexer": "ipython3",
   "version": "3.9.7"
  }
 },
 "nbformat": 4,
 "nbformat_minor": 5
}
