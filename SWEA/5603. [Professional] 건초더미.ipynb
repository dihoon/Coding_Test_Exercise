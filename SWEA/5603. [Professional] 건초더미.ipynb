{
 "cells": [
  {
   "cell_type": "markdown",
   "id": "536b65a9",
   "metadata": {},
   "source": [
    "[Professional] 건초더미 https://swexpertacademy.com/main/code/problem/problemDetail.do?problemLevel=3&contestProbId=AWXGEbd6cjMDFAUo&categoryId=AWXGEbd6cjMDFAUo&categoryType=CODE&problemTitle=&orderBy=PASS_RATE&selectCodeLang=PYTHON&select-1=3&pageSize=10&pageIndex=6"
   ]
  },
  {
   "cell_type": "code",
   "execution_count": 2,
   "id": "84108732",
   "metadata": {},
   "outputs": [
    {
     "name": "stdout",
     "output_type": "stream",
     "text": [
      "1\n",
      "4\n",
      "2\n",
      "10\n",
      "7\n",
      "1\n",
      "#1 7\n"
     ]
    }
   ],
   "source": [
    "for tc in range(1, int(input())+1):\n",
    "    N = int(input())\n",
    "    lst = []\n",
    "    for i in range(N):\n",
    "        lst.append(int(input()))\n",
    "    avg = sum(lst)//len(lst)\n",
    "    cnt = sum([avg - n for n in lst if n < avg])\n",
    "    print(f'#{tc} {cnt}')"
   ]
  }
 ],
 "metadata": {
  "kernelspec": {
   "display_name": "Python 3 (ipykernel)",
   "language": "python",
   "name": "python3"
  },
  "language_info": {
   "codemirror_mode": {
    "name": "ipython",
    "version": 3
   },
   "file_extension": ".py",
   "mimetype": "text/x-python",
   "name": "python",
   "nbconvert_exporter": "python",
   "pygments_lexer": "ipython3",
   "version": "3.9.12"
  }
 },
 "nbformat": 4,
 "nbformat_minor": 5
}
