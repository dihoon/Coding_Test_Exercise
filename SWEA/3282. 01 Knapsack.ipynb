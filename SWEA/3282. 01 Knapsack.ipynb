{
 "cells": [
  {
   "cell_type": "markdown",
   "id": "60946dd9",
   "metadata": {},
   "source": [
    "0/1 Knapsack https://swexpertacademy.com/main/code/problem/problemDetail.do?problemLevel=3&contestProbId=AWBJAVpqrzQDFAWr&categoryId=AWBJAVpqrzQDFAWr&categoryType=CODE&problemTitle=&orderBy=RECOMMEND_COUNT&selectCodeLang=ALL&select-1=3&pageSize=10&pageIndex=2"
   ]
  },
  {
   "cell_type": "markdown",
   "id": "14a084ab",
   "metadata": {},
   "source": [
    "완전 탐색으로 푼 경우 시간 초과 발생"
   ]
  },
  {
   "cell_type": "code",
   "execution_count": 6,
   "id": "823d72f1",
   "metadata": {},
   "outputs": [
    {
     "name": "stdout",
     "output_type": "stream",
     "text": [
      "1\n",
      "4 5\n",
      "1 2\n",
      "3 2\n",
      "4 4\n",
      "2 3\n",
      "#1 6\n"
     ]
    }
   ],
   "source": [
    "def recursive(idx, v, w):\n",
    "    global max_worth\n",
    "\n",
    "    if idx == N:\n",
    "        return\n",
    "\n",
    "    temp_v = v + lst[idx][0]\n",
    "    temp_w = w + lst[idx][1]\n",
    "\n",
    "    if temp_v <= K:\n",
    "        if max_worth <= temp_w:\n",
    "            max_worth = temp_w\n",
    "\n",
    "    recursive(idx+1, v, w)\n",
    "    recursive(idx+1, temp_v, temp_w)\n",
    "\n",
    "for test_case in range(1, int(input())+1):\n",
    "    N, K = map(int, input().split())\n",
    "    max_worth = 0\n",
    "    volume = 0\n",
    "    worth = 0\n",
    "\n",
    "    lst = []\n",
    "    for i in range(N):\n",
    "        v, w = map(int, input().split())\n",
    "        lst.append((v,w))\n",
    "\n",
    "    recursive(0, 0, 0)\n",
    "    print(f'#{test_case}', max_worth)"
   ]
  },
  {
   "cell_type": "markdown",
   "id": "b51f662f",
   "metadata": {},
   "source": [
    "DP로 푼 경우 시간 초과 문제 해결"
   ]
  },
  {
   "cell_type": "code",
   "execution_count": 5,
   "id": "aa973aa4",
   "metadata": {},
   "outputs": [
    {
     "name": "stdout",
     "output_type": "stream",
     "text": [
      "1\n",
      "4 5\n",
      "1 2\n",
      "3 2\n",
      "4 4\n",
      "2 3\n",
      "#1 6\n"
     ]
    }
   ],
   "source": [
    "for test_case in range(1, int(input())+1):\n",
    "    N, K = map(int, input().split()) # 물건 개수, 부피 상한선\n",
    "    pack = [] # 케이스에 따라 packing 시 최대 가치\n",
    "\n",
    "    cargo = []\n",
    "    for i in range(N):\n",
    "        v, w = map(int, input().split())# 부피, 가치\n",
    "        cargo.append((v,w))\n",
    "\n",
    "    for i in range(len(cargo)+1): # 물건 i개 알 때\n",
    "        pack.append([])\n",
    "        for j in range(K+1): # 용량 K 일 때\n",
    "            if i == 0 or j == 0:\n",
    "                pack[i].append(0)\n",
    "            elif cargo[i-1][0] <= j: # 해당 물건의 부피가 최대 부피보다 작거나 같을 때\n",
    "                pack[i].append(\n",
    "                    max(\n",
    "                        cargo[i-1][1] + pack[i-1][j-cargo[i-1][0]],\n",
    "                        pack[i-1][j]\n",
    "                    )\n",
    "                )\n",
    "            else:\n",
    "                pack[i].append(pack[i-1][j])\n",
    "    print(f'#{test_case}', pack[-1][-1])"
   ]
  },
  {
   "cell_type": "code",
   "execution_count": null,
   "id": "7d56c943",
   "metadata": {},
   "outputs": [],
   "source": []
  }
 ],
 "metadata": {
  "kernelspec": {
   "display_name": "Python 3 (ipykernel)",
   "language": "python",
   "name": "python3"
  },
  "language_info": {
   "codemirror_mode": {
    "name": "ipython",
    "version": 3
   },
   "file_extension": ".py",
   "mimetype": "text/x-python",
   "name": "python",
   "nbconvert_exporter": "python",
   "pygments_lexer": "ipython3",
   "version": "3.9.7"
  }
 },
 "nbformat": 4,
 "nbformat_minor": 5
}
