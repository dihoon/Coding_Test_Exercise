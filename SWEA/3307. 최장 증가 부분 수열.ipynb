{
 "cells": [
  {
   "cell_type": "markdown",
   "id": "5183e4fb",
   "metadata": {},
   "source": [
    "최장 증가 부분 수열 https://swexpertacademy.com/main/code/problem/problemDetail.do?problemLevel=3&contestProbId=AWBOKg-a6l0DFAWr&categoryId=AWBOKg-a6l0DFAWr&categoryType=CODE&problemTitle=&orderBy=RECOMMEND_COUNT&selectCodeLang=PYTHON&select-1=3&pageSize=10&pageIndex=4"
   ]
  },
  {
   "cell_type": "markdown",
   "id": "11ae8882",
   "metadata": {},
   "source": [
    "완전 탐색 방법은 시간 초과 문제 발생"
   ]
  },
  {
   "cell_type": "code",
   "execution_count": 1,
   "id": "8b79ccf1",
   "metadata": {
    "scrolled": true
   },
   "outputs": [
    {
     "name": "stdout",
     "output_type": "stream",
     "text": [
      "2\n",
      "5\n",
      "1 3 2 5 4\n",
      "#1 3\n",
      "6\n",
      "4 2 3 1 5 6\n",
      "#2 4\n"
     ]
    }
   ],
   "source": [
    "def search(idx, recent, length):\n",
    "    global max_length\n",
    "\n",
    "    if length == 0:\n",
    "        length += 1\n",
    "        recent = lst[idx]\n",
    "    elif recent <= lst[idx]:\n",
    "        recent = lst[idx]\n",
    "        length += 1\n",
    "\n",
    "    if max_length < length:\n",
    "        max_length = length\n",
    "\n",
    "    if idx == len(lst)-1:\n",
    "        return\n",
    "\n",
    "    search(idx+1, 0, 0)\n",
    "\n",
    "    if not recent<= max(lst[idx+1:]):\n",
    "        return\n",
    "    search(idx+1, recent, length)\n",
    "\n",
    "for tc in range(1, int(input())+1):\n",
    "    N = int(input())\n",
    "    lst = list(map(int, input().split()))\n",
    "    max_length = 0\n",
    "\n",
    "    search(0, 0, 0)\n",
    "    print(f'#{tc}', max_length)"
   ]
  },
  {
   "cell_type": "markdown",
   "id": "aefc2033",
   "metadata": {},
   "source": [
    "DP로 시간초과 문제 해결"
   ]
  },
  {
   "cell_type": "code",
   "execution_count": 2,
   "id": "1a41ae8b",
   "metadata": {},
   "outputs": [
    {
     "name": "stdout",
     "output_type": "stream",
     "text": [
      "2\n",
      "5\n",
      "1 3 2 5 4\n",
      "#1 3\n",
      "6\n",
      "4 2 3 1 5 6\n",
      "#2 4\n"
     ]
    }
   ],
   "source": [
    "for tc in range(1, int(input())+1):\n",
    "    N = int(input())\n",
    "    lst = list(map(int, input().split()))\n",
    "    dp = [1]*N\n",
    "    for i in range(1, N):\n",
    "        for j in range(i):\n",
    "            if lst[i]>lst[j]:\n",
    "                dp[i] = max(dp[i], dp[j]+1)\n",
    "    print(f'#{tc}', max(dp))"
   ]
  },
  {
   "cell_type": "code",
   "execution_count": null,
   "id": "5ae44d24",
   "metadata": {},
   "outputs": [],
   "source": []
  }
 ],
 "metadata": {
  "kernelspec": {
   "display_name": "Python 3 (ipykernel)",
   "language": "python",
   "name": "python3"
  },
  "language_info": {
   "codemirror_mode": {
    "name": "ipython",
    "version": 3
   },
   "file_extension": ".py",
   "mimetype": "text/x-python",
   "name": "python",
   "nbconvert_exporter": "python",
   "pygments_lexer": "ipython3",
   "version": "3.9.7"
  }
 },
 "nbformat": 4,
 "nbformat_minor": 5
}
