{
 "cells": [
  {
   "cell_type": "markdown",
   "id": "7340ab77",
   "metadata": {},
   "source": [
    "세제곱근을 찾아라 https://swexpertacademy.com/main/code/problem/problemDetail.do?problemLevel=3&contestProbId=AWXVyCaKugQDFAUo&categoryId=AWXVyCaKugQDFAUo&categoryType=CODE&problemTitle=&orderBy=PASS_RATE&selectCodeLang=PYTHON&select-1=3&pageSize=10&pageIndex=9&&&&&&&&&&"
   ]
  },
  {
   "cell_type": "code",
   "execution_count": 24,
   "id": "fd63efdc",
   "metadata": {},
   "outputs": [
    {
     "name": "stdout",
     "output_type": "stream",
     "text": [
      "3\n",
      "27\n",
      "7777\n",
      "64\n",
      "#1 3\n",
      "#2 -1\n",
      "#3 4\n"
     ]
    }
   ],
   "source": [
    "answer = []\n",
    "for tc in range(1, int(input())+1):\n",
    "    N = int(input())\n",
    "    result = -1\n",
    "    if (int(N**(1/3))+1)**3 == N:\n",
    "        result = int(N**(1/3))+1\n",
    "    elif int(N**(1/3))**3 == N:\n",
    "        result = int(N**(1/3))\n",
    "    answer.append('#{} {}'.format(tc, result))\n",
    "print('\\n'.join(answer))"
   ]
  },
  {
   "cell_type": "code",
   "execution_count": null,
   "id": "aec10d1b",
   "metadata": {},
   "outputs": [],
   "source": []
  }
 ],
 "metadata": {
  "kernelspec": {
   "display_name": "Python 3 (ipykernel)",
   "language": "python",
   "name": "python3"
  },
  "language_info": {
   "codemirror_mode": {
    "name": "ipython",
    "version": 3
   },
   "file_extension": ".py",
   "mimetype": "text/x-python",
   "name": "python",
   "nbconvert_exporter": "python",
   "pygments_lexer": "ipython3",
   "version": "3.9.12"
  }
 },
 "nbformat": 4,
 "nbformat_minor": 5
}
