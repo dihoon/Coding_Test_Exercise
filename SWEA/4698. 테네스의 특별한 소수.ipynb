{
 "cells": [
  {
   "cell_type": "markdown",
   "id": "c87506b8",
   "metadata": {},
   "source": [
    "테네스의 특별한 소수 https://swexpertacademy.com/main/code/problem/problemDetail.do?problemLevel=3&contestProbId=AWRuoqCKkE0DFAXt&categoryId=AWRuoqCKkE0DFAXt&categoryType=CODE&problemTitle=&orderBy=PASS_RATE&selectCodeLang=PYTHON&select-1=3&pageSize=10&pageIndex=8"
   ]
  },
  {
   "cell_type": "code",
   "execution_count": 28,
   "id": "a5a6f876",
   "metadata": {},
   "outputs": [
    {
     "name": "stdout",
     "output_type": "stream",
     "text": [
      "2\n",
      "3 10 30\n",
      "#1 2\n",
      "7 1 1000000\n",
      "#2 43506\n"
     ]
    }
   ],
   "source": [
    "idx = [False]*2+[True]*999999\n",
    "for i in range(2, 1000001):\n",
    "    if idx[i] == False:\n",
    "        continue\n",
    "    for j in range(2*i, 1000001, i):\n",
    "        idx[j] = False\n",
    "        \n",
    "for tc in range(1, int(input())+1):\n",
    "    D, A, B = map(int, input().split())\n",
    "    lst = [i for i in range(A, B+1) if idx[i]==True]\n",
    "    cnt = 0\n",
    "    \n",
    "    for i in map(str, lst):\n",
    "        if str(D) in i:\n",
    "            cnt += 1\n",
    "    print(f'#{tc} {cnt}')"
   ]
  },
  {
   "cell_type": "code",
   "execution_count": 34,
   "id": "58488dfe",
   "metadata": {},
   "outputs": [
    {
     "name": "stdout",
     "output_type": "stream",
     "text": [
      "2\n",
      "3 10 30\n",
      "#1 2\n",
      "7 1 1000000\n",
      "#2 43506\n"
     ]
    }
   ],
   "source": [
    "idx = [0,0]+[1]*999999\n",
    "prime = [2]\n",
    "for i in range(3, 1000001, 2):\n",
    "    if idx[i] == 1:\n",
    "        prime.append(i)\n",
    "        for j in range(2*i, 1000001, i):\n",
    "            idx[j] = 0\n",
    "            \n",
    "for tc in range(1, int(input())+1):\n",
    "    D, A, B = map(int, input().split())\n",
    "    lst = [i for i in prime if i >= A and i <= B]\n",
    "    cnt = 0\n",
    "    for i in map(str, lst):\n",
    "        if str(D) in i:\n",
    "            cnt += 1\n",
    "    print(f'#{tc} {cnt}')"
   ]
  },
  {
   "cell_type": "code",
   "execution_count": null,
   "id": "ad8b455f",
   "metadata": {},
   "outputs": [],
   "source": []
  }
 ],
 "metadata": {
  "kernelspec": {
   "display_name": "Python 3 (ipykernel)",
   "language": "python",
   "name": "python3"
  },
  "language_info": {
   "codemirror_mode": {
    "name": "ipython",
    "version": 3
   },
   "file_extension": ".py",
   "mimetype": "text/x-python",
   "name": "python",
   "nbconvert_exporter": "python",
   "pygments_lexer": "ipython3",
   "version": "3.9.12"
  }
 },
 "nbformat": 4,
 "nbformat_minor": 5
}
