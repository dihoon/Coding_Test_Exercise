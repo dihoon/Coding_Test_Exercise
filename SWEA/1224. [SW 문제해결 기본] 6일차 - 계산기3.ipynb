{
 "cells": [
  {
   "cell_type": "markdown",
   "id": "85b0481f",
   "metadata": {},
   "source": [
    "[S/W 문제해결 기본] 6일차 - 계산기3 https://swexpertacademy.com/main/code/problem/problemDetail.do?problemLevel=4&contestProbId=AV14tDX6AFgCFAYD&categoryId=AV14tDX6AFgCFAYD&categoryType=CODE&problemTitle=&orderBy=PASS_RATE&selectCodeLang=PYTHON&select-1=4&pageSize=10&pageIndex=1"
   ]
  },
  {
   "cell_type": "code",
   "execution_count": 89,
   "id": "61d54a73",
   "metadata": {},
   "outputs": [
    {
     "name": "stdout",
     "output_type": "stream",
     "text": [
      "113\n",
      "(9+(5*2+1)+(3*3*7*6*9*1*7+1+8*6+6*1*1*5*2)*4*7+4*3*8*2*6+(7*8*4*5)+3+7+(2+6+5+1+7+6+7*3*(6+2)+6+6)*2+4+2*2+4*9*3)\n",
      "#1 672676\n"
     ]
    }
   ],
   "source": [
    "answer = []\n",
    "for tc in range(1, 2):\n",
    "    N = int(input())\n",
    "    s = input()\n",
    "    stack = []\n",
    "    \n",
    "    tmp = ''\n",
    "\n",
    "    for i in range(N):\n",
    "        if s[i] == '(':\n",
    "            stack.append(s[i])\n",
    "        elif s[i] == '*' or s[i] == '+':\n",
    "            if stack:\n",
    "                idx = len(stack)-1\n",
    "                while True:\n",
    "                    if not stack:\n",
    "                        break\n",
    "                    if s[i] == '*':\n",
    "                        if stack[idx] == '*':\n",
    "                            tmp += stack.pop()\n",
    "                        elif stack[idx] == '(' or stack[idx] == '+':\n",
    "                            break\n",
    "                    elif s[i] == '+':\n",
    "                        if stack[idx] == '*' or stack[idx] == '+':\n",
    "                            tmp += stack.pop()\n",
    "                        elif stack[idx] == '(':\n",
    "                            break\n",
    "                    idx-=1\n",
    "                stack.append(s[i])\n",
    "            else:\n",
    "                stack.append(s[i])\n",
    "        elif s[i] == ')':\n",
    "            idx = len(stack)-1\n",
    "            while True:\n",
    "                if stack[idx] == '(':\n",
    "                    stack.pop()\n",
    "                    break\n",
    "                else:\n",
    "                    tmp += stack.pop()\n",
    "                    idx-=1\n",
    "        elif ord(s[i])>=48 and ord(s[i])<=57:\n",
    "            tmp += s[i]\n",
    "    while stack:\n",
    "        tmp += stack.pop()\n",
    "        \n",
    "    stack = []\n",
    "\n",
    "    for i in range(len(tmp)):\n",
    "        if ord(tmp[i])>=48 and ord(tmp[i])<=57:\n",
    "            stack.append(int(tmp[i]))\n",
    "        elif tmp[i] == '+':\n",
    "            b = stack.pop()\n",
    "            a = stack.pop()\n",
    "            stack.append(a+b)\n",
    "        elif tmp[i] == '*':\n",
    "            b = stack.pop()\n",
    "            a = stack.pop()\n",
    "            stack.append(a*b)\n",
    "    answer.append('#{} {}'.format(tc, stack[0]))\n",
    "print('\\n'.join(answer))"
   ]
  },
  {
   "cell_type": "code",
   "execution_count": 90,
   "id": "1ee91cc8",
   "metadata": {
    "scrolled": true
   },
   "outputs": [
    {
     "name": "stdout",
     "output_type": "stream",
     "text": [
      "113\n",
      "(9+(5*2+1)+(3*3*7*6*9*1*7+1+8*6+6*1*1*5*2)*4*7+4*3*8*2*6+(7*8*4*5)+3+7+(2+6+5+1+7+6+7*3*(6+2)+6+6)*2+4+2*2+4*9*3)\n",
      "#1 672676\n"
     ]
    }
   ],
   "source": [
    "answer = []\n",
    "for tc in range(1, 2):\n",
    "    N = int(input())\n",
    "    answer.append('#{} {}'.format(tc, eval(input())))\n",
    "print('\\n'.join(answer))"
   ]
  }
 ],
 "metadata": {
  "kernelspec": {
   "display_name": "Python 3 (ipykernel)",
   "language": "python",
   "name": "python3"
  },
  "language_info": {
   "codemirror_mode": {
    "name": "ipython",
    "version": 3
   },
   "file_extension": ".py",
   "mimetype": "text/x-python",
   "name": "python",
   "nbconvert_exporter": "python",
   "pygments_lexer": "ipython3",
   "version": "3.9.12"
  }
 },
 "nbformat": 4,
 "nbformat_minor": 5
}
