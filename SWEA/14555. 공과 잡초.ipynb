{
 "cells": [
  {
   "cell_type": "markdown",
   "id": "d4ebaaf4",
   "metadata": {},
   "source": [
    "공과 잡초 https://swexpertacademy.com/main/code/problem/problemDetail.do?problemLevel=3&contestProbId=AYGtoa3qARcDFARC&categoryId=AYGtoa3qARcDFARC&categoryType=CODE&problemTitle=&orderBy=PASS_RATE&selectCodeLang=PYTHON&select-1=3&pageSize=10&pageIndex=5"
   ]
  },
  {
   "cell_type": "code",
   "execution_count": 6,
   "id": "daf1a6fe",
   "metadata": {},
   "outputs": [
    {
     "name": "stdout",
     "output_type": "stream",
     "text": [
      "3\n",
      "||||||\n",
      "(|..|)\n",
      ".|.(|...||)|...()..\n",
      "#1 0\n",
      "#2 2\n",
      "#3 3\n"
     ]
    }
   ],
   "source": [
    "answer = []\n",
    "for tc in range(1, int(input())+1):\n",
    "    S = input()\n",
    "    cnt = 0\n",
    "    last = ''\n",
    "    for i in S:\n",
    "        if i == ')' or i == '(':\n",
    "            if last != '(' :\n",
    "                cnt += 1\n",
    "        last = i\n",
    "    answer.append('#{} {}'.format(tc, cnt))\n",
    "print('\\n'.join(answer))"
   ]
  }
 ],
 "metadata": {
  "kernelspec": {
   "display_name": "Python 3 (ipykernel)",
   "language": "python",
   "name": "python3"
  },
  "language_info": {
   "codemirror_mode": {
    "name": "ipython",
    "version": 3
   },
   "file_extension": ".py",
   "mimetype": "text/x-python",
   "name": "python",
   "nbconvert_exporter": "python",
   "pygments_lexer": "ipython3",
   "version": "3.9.12"
  }
 },
 "nbformat": 4,
 "nbformat_minor": 5
}
