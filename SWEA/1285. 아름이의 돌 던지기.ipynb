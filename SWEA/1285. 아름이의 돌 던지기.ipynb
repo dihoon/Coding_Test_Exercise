{
 "cells": [
  {
   "cell_type": "markdown",
   "id": "0c9fb4ef",
   "metadata": {},
   "source": [
    "아름이의 돌 던지기 https://swexpertacademy.com/main/solvingProblem/solvingProblem.do"
   ]
  },
  {
   "cell_type": "code",
   "execution_count": 5,
   "id": "f2178fcc",
   "metadata": {},
   "outputs": [
    {
     "name": "stdout",
     "output_type": "stream",
     "text": [
      "2\n",
      "2\n",
      "-100 100\n",
      "#1 100 2\n",
      "3\n",
      "-5 -1 3\n",
      "#2 1 1\n"
     ]
    }
   ],
   "source": [
    "for test_case in range(1, int(input())+1):\n",
    "    N = int(input())\n",
    "    positions = list(map(int, input().split()))\n",
    "    d = min([abs(i) for i in positions])\n",
    "    cnt = positions.count(d) + positions.count(-d)\n",
    "    print(f'#{test_case}', d, cnt)"
   ]
  },
  {
   "cell_type": "code",
   "execution_count": null,
   "id": "283cd8e3",
   "metadata": {},
   "outputs": [],
   "source": []
  }
 ],
 "metadata": {
  "kernelspec": {
   "display_name": "Python 3 (ipykernel)",
   "language": "python",
   "name": "python3"
  },
  "language_info": {
   "codemirror_mode": {
    "name": "ipython",
    "version": 3
   },
   "file_extension": ".py",
   "mimetype": "text/x-python",
   "name": "python",
   "nbconvert_exporter": "python",
   "pygments_lexer": "ipython3",
   "version": "3.9.7"
  }
 },
 "nbformat": 4,
 "nbformat_minor": 5
}
