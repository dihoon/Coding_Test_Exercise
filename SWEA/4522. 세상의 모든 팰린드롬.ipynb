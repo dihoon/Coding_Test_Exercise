{
 "cells": [
  {
   "cell_type": "markdown",
   "id": "33599e27",
   "metadata": {},
   "source": [
    "세상의 모든 팰린드롬 https://swexpertacademy.com/main/code/problem/problemDetail.do?problemLevel=3&contestProbId=AWO6Oao6N4QDFAWw&categoryId=AWO6Oao6N4QDFAWw&categoryType=CODE&problemTitle=&orderBy=PASS_RATE&selectCodeLang=PYTHON&select-1=3&pageSize=10&pageIndex=8"
   ]
  },
  {
   "cell_type": "markdown",
   "id": "81aa69cc",
   "metadata": {},
   "source": [
    "문제 설명이 다소 부족하다. 일반적인 회문 문제인줄 알았다."
   ]
  },
  {
   "cell_type": "code",
   "execution_count": 18,
   "id": "6455ed2b",
   "metadata": {},
   "outputs": [
    {
     "name": "stdout",
     "output_type": "stream",
     "text": [
      "2\n",
      "hi\n",
      "a??a\n",
      "#1 Not exist\n",
      "#2 Exist\n"
     ]
    }
   ],
   "source": [
    "answer = []\n",
    "for tc in range(1, int(input())+1):\n",
    "    lst = list(input())\n",
    "    result = 'Exist'\n",
    "    for i in range(len(lst)):\n",
    "        if lst[i] == '?':\n",
    "            lst[i] = lst[len(lst)-1-i]\n",
    "    if lst != lst[::-1]:\n",
    "        result = 'Not exist'\n",
    "    answer.append('#{} {}'.format(tc, result))\n",
    "print('\\n'.join(answer))"
   ]
  },
  {
   "cell_type": "code",
   "execution_count": null,
   "id": "a66a045c",
   "metadata": {},
   "outputs": [],
   "source": []
  }
 ],
 "metadata": {
  "kernelspec": {
   "display_name": "Python 3 (ipykernel)",
   "language": "python",
   "name": "python3"
  },
  "language_info": {
   "codemirror_mode": {
    "name": "ipython",
    "version": 3
   },
   "file_extension": ".py",
   "mimetype": "text/x-python",
   "name": "python",
   "nbconvert_exporter": "python",
   "pygments_lexer": "ipython3",
   "version": "3.9.12"
  }
 },
 "nbformat": 4,
 "nbformat_minor": 5
}
