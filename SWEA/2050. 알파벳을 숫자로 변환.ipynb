{
 "cells": [
  {
   "cell_type": "markdown",
   "id": "f69b7331",
   "metadata": {},
   "source": [
    "알파벳을 숫자로 변환 https://swexpertacademy.com/main/solvingProblem/solvingProblem.do"
   ]
  },
  {
   "cell_type": "code",
   "execution_count": 6,
   "id": "25d5ad6c",
   "metadata": {
    "scrolled": true
   },
   "outputs": [
    {
     "name": "stdout",
     "output_type": "stream",
     "text": [
      "ABCDEFGHIJKLMNOPQRSTUVWXYZ\n",
      "1 2 3 4 5 6 7 8 9 10 11 12 13 14 15 16 17 18 19 20 21 22 23 24 25 26 "
     ]
    }
   ],
   "source": [
    "string = input()\n",
    "d = {chr(al):num for al, num in zip(range(65, 91), range(1, 27))}\n",
    "for st in string:\n",
    "    print(d[st], end=' ')"
   ]
  },
  {
   "cell_type": "code",
   "execution_count": null,
   "id": "b7314fce",
   "metadata": {},
   "outputs": [],
   "source": []
  }
 ],
 "metadata": {
  "kernelspec": {
   "display_name": "Python 3 (ipykernel)",
   "language": "python",
   "name": "python3"
  },
  "language_info": {
   "codemirror_mode": {
    "name": "ipython",
    "version": 3
   },
   "file_extension": ".py",
   "mimetype": "text/x-python",
   "name": "python",
   "nbconvert_exporter": "python",
   "pygments_lexer": "ipython3",
   "version": "3.9.7"
  }
 },
 "nbformat": 4,
 "nbformat_minor": 5
}
