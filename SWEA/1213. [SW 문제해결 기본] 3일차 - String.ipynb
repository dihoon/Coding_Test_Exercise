{
 "cells": [
  {
   "cell_type": "markdown",
   "id": "ebc3c383",
   "metadata": {},
   "source": [
    "[S/W 문제해결 기본] 3일차 - String https://swexpertacademy.com/main/code/problem/problemDetail.do?problemLevel=3&contestProbId=AV14P0c6AAUCFAYi&categoryId=AV14P0c6AAUCFAYi&categoryType=CODE&problemTitle=&orderBy=RECOMMEND_COUNT&selectCodeLang=ALL&select-1=3&pageSize=10&pageIndex=3"
   ]
  },
  {
   "cell_type": "code",
   "execution_count": null,
   "id": "c906f4ef",
   "metadata": {},
   "outputs": [],
   "source": [
    "for _ in range(10):\n",
    "    test_case = int(input())\n",
    "    ob = input()\n",
    "    st = input()\n",
    "    cnt = st.count(ob)\n",
    "    print(f'#{test_case}', cnt)"
   ]
  }
 ],
 "metadata": {
  "kernelspec": {
   "display_name": "Python 3 (ipykernel)",
   "language": "python",
   "name": "python3"
  },
  "language_info": {
   "codemirror_mode": {
    "name": "ipython",
    "version": 3
   },
   "file_extension": ".py",
   "mimetype": "text/x-python",
   "name": "python",
   "nbconvert_exporter": "python",
   "pygments_lexer": "ipython3",
   "version": "3.9.7"
  }
 },
 "nbformat": 4,
 "nbformat_minor": 5
}
