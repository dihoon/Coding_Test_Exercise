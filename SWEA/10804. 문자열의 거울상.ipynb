{
 "cells": [
  {
   "cell_type": "markdown",
   "id": "57b2a768",
   "metadata": {},
   "source": [
    "문자열의 거울상 https://swexpertacademy.com/main/code/problem/problemDetail.do?problemLevel=3&contestProbId=AXTC0x16D8EDFASe&categoryId=AXTC0x16D8EDFASe&categoryType=CODE&problemTitle=&orderBy=PASS_RATE&selectCodeLang=PYTHON&select-1=3&pageSize=10&pageIndex=3"
   ]
  },
  {
   "cell_type": "code",
   "execution_count": 6,
   "id": "22e096a2",
   "metadata": {},
   "outputs": [
    {
     "name": "stdout",
     "output_type": "stream",
     "text": [
      "2\n",
      "bdppq\n",
      "#1 pqqbd\n",
      "qqqqpppbbd\n",
      "#2 bddqqqpppp\n"
     ]
    }
   ],
   "source": [
    "d = {'b':'d', 'd':'b', 'p':'q', 'q':'p'}\n",
    "for tc in range(1, int(input())+1):\n",
    "    st = input()\n",
    "    result = [d[st[i]] for i in range(len(st)-1,-1,-1)]\n",
    "    print(f'#{tc}',''.join(result))"
   ]
  },
  {
   "cell_type": "code",
   "execution_count": null,
   "id": "4cd64b36",
   "metadata": {},
   "outputs": [],
   "source": []
  }
 ],
 "metadata": {
  "kernelspec": {
   "display_name": "Python 3 (ipykernel)",
   "language": "python",
   "name": "python3"
  },
  "language_info": {
   "codemirror_mode": {
    "name": "ipython",
    "version": 3
   },
   "file_extension": ".py",
   "mimetype": "text/x-python",
   "name": "python",
   "nbconvert_exporter": "python",
   "pygments_lexer": "ipython3",
   "version": "3.9.12"
  }
 },
 "nbformat": 4,
 "nbformat_minor": 5
}
