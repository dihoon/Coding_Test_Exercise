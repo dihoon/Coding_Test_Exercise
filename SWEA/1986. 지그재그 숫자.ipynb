{
 "cells": [
  {
   "cell_type": "markdown",
   "id": "695ce07b",
   "metadata": {},
   "source": [
    "지그재그 숫자 https://swexpertacademy.com/main/solvingProblem/solvingProblem.do"
   ]
  },
  {
   "cell_type": "code",
   "execution_count": 2,
   "id": "2127419f",
   "metadata": {},
   "outputs": [
    {
     "name": "stdout",
     "output_type": "stream",
     "text": [
      "2\n",
      "5\n",
      "#1 3\n",
      "6\n",
      "#2 -3\n"
     ]
    }
   ],
   "source": [
    "T = int(input())\n",
    "for test_case in range(1, T+1):\n",
    "    sum = 0 \n",
    "    for i in range(1, int(input())+1):\n",
    "        if i % 2 == 1:\n",
    "            sum+=i\n",
    "        else:\n",
    "            sum-=i\n",
    "    print(f'#{test_case}', sum)"
   ]
  },
  {
   "cell_type": "code",
   "execution_count": null,
   "id": "7fbed9cb",
   "metadata": {},
   "outputs": [],
   "source": []
  }
 ],
 "metadata": {
  "kernelspec": {
   "display_name": "Python 3 (ipykernel)",
   "language": "python",
   "name": "python3"
  },
  "language_info": {
   "codemirror_mode": {
    "name": "ipython",
    "version": 3
   },
   "file_extension": ".py",
   "mimetype": "text/x-python",
   "name": "python",
   "nbconvert_exporter": "python",
   "pygments_lexer": "ipython3",
   "version": "3.9.7"
  }
 },
 "nbformat": 4,
 "nbformat_minor": 5
}
