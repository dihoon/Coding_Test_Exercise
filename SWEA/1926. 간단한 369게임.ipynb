{
 "cells": [
  {
   "cell_type": "markdown",
   "id": "b71e0b3c",
   "metadata": {},
   "source": [
    "간단한 369게임 https://swexpertacademy.com/main/solvingProblem/solvingProblem.do"
   ]
  },
  {
   "cell_type": "code",
   "execution_count": 6,
   "id": "3776564d",
   "metadata": {},
   "outputs": [
    {
     "name": "stdout",
     "output_type": "stream",
     "text": [
      "10\n",
      "1 2 - 4 5 - 7 8 - 10 "
     ]
    }
   ],
   "source": [
    "N = int(input())\n",
    "\n",
    "for num in range(1, N+1):\n",
    "    num = str(num)\n",
    "    cn = num.count('3') + num.count('6') + num.count('9')\n",
    "    if cn != 0:\n",
    "        print('-'*cn, end=' ')\n",
    "    else:\n",
    "        print(num, end=' ')\n",
    "        "
   ]
  },
  {
   "cell_type": "code",
   "execution_count": null,
   "id": "a5902081",
   "metadata": {},
   "outputs": [],
   "source": []
  }
 ],
 "metadata": {
  "kernelspec": {
   "display_name": "Python 3 (ipykernel)",
   "language": "python",
   "name": "python3"
  },
  "language_info": {
   "codemirror_mode": {
    "name": "ipython",
    "version": 3
   },
   "file_extension": ".py",
   "mimetype": "text/x-python",
   "name": "python",
   "nbconvert_exporter": "python",
   "pygments_lexer": "ipython3",
   "version": "3.9.7"
  }
 },
 "nbformat": 4,
 "nbformat_minor": 5
}
