{
 "cells": [
  {
   "cell_type": "markdown",
   "id": "c5d4c045",
   "metadata": {},
   "source": [
    "정사각형 판정 https://swexpertacademy.com/main/solvingProblem/solvingProblem.do"
   ]
  },
  {
   "cell_type": "code",
   "execution_count": 32,
   "id": "a5f8ef04",
   "metadata": {},
   "outputs": [
    {
     "name": "stdout",
     "output_type": "stream",
     "text": [
      "1\n",
      "3\n",
      ".##\n",
      ".##\n",
      "...\n",
      "#1 yes\n"
     ]
    }
   ],
   "source": [
    "for test_case in range(1, int(input())+1):\n",
    "    N = int(input())\n",
    "    result = 'yes'\n",
    "    matrix = [[*input()] for _ in range(N)] # 행렬 생성\n",
    "    \n",
    "    blocked = []\n",
    "    \n",
    "    for i in range(N):\n",
    "        temp = []\n",
    "        for j in range(N):\n",
    "            if matrix[i][j] == '#':\n",
    "                temp.append(j)\n",
    "        blocked.append(temp) # 행별 '#' 이 있는 열 번호 나타내는 행렬\n",
    "\n",
    "    res = []\n",
    "    \n",
    "    for row in blocked:\n",
    "        if len(row)>0:\n",
    "            res.append(row) # 빈 리스트는 제거\n",
    "            \n",
    "    first = res[0]\n",
    "    \n",
    "    if len(first) != len(res): # 정사각형 가로 길이와 세로 길이가 같은지 체크\n",
    "        result = 'no'\n",
    "    else: # 정사각형 가로 길이와 세로 길이가 같을 때\n",
    "        if len(first) != 1: # res가 1이면 그것이 곧 정사각형\n",
    "            for i in range(1, len(res)):\n",
    "                if res[i] != res[i-1]:\n",
    "                    result = 'no'\n",
    "                    break\n",
    "            for i in range(1, len(first)):\n",
    "                if first[i] != first[i-1] + 1: # 열 번호가 차례대로 증가하지 않는다면\n",
    "                    result = 'no'\n",
    "                    break\n",
    "    print(f'#{test_case}', result)"
   ]
  },
  {
   "cell_type": "code",
   "execution_count": null,
   "id": "b9b70323",
   "metadata": {},
   "outputs": [],
   "source": []
  }
 ],
 "metadata": {
  "kernelspec": {
   "display_name": "Python 3 (ipykernel)",
   "language": "python",
   "name": "python3"
  },
  "language_info": {
   "codemirror_mode": {
    "name": "ipython",
    "version": 3
   },
   "file_extension": ".py",
   "mimetype": "text/x-python",
   "name": "python",
   "nbconvert_exporter": "python",
   "pygments_lexer": "ipython3",
   "version": "3.9.7"
  }
 },
 "nbformat": 4,
 "nbformat_minor": 5
}
