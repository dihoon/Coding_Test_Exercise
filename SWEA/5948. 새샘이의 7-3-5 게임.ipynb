{
 "cells": [
  {
   "cell_type": "markdown",
   "id": "798a4b63",
   "metadata": {},
   "source": [
    "새샘이의 7-3-5 게임 https://swexpertacademy.com/main/code/problem/problemDetail.do?problemLevel=3&contestProbId=AWZ2IErKCwUDFAUQ&categoryId=AWZ2IErKCwUDFAUQ&categoryType=CODE&problemTitle=&orderBy=RECOMMEND_COUNT&selectCodeLang=ALL&select-1=3&pageSize=10&pageIndex=3"
   ]
  },
  {
   "cell_type": "code",
   "execution_count": 1,
   "id": "973828c9",
   "metadata": {},
   "outputs": [
    {
     "name": "stdout",
     "output_type": "stream",
     "text": [
      "2\n",
      "1 2 3 4 5 6 7\n",
      "#1 14\n",
      "5 24 99 76 1 77 6\n",
      "#2 181\n"
     ]
    }
   ],
   "source": [
    "from itertools import combinations\n",
    "for test_case in range(1, int(input())+1):\n",
    "    numbers = list(map(int, input().split()))\n",
    "    lst = []\n",
    "    for a, b, c in combinations(range(len(numbers)), 3):\n",
    "        if numbers[a]+numbers[b]+numbers[c] not in lst:\n",
    "            lst.append(numbers[a]+numbers[b]+numbers[c])\n",
    "    lst.sort()\n",
    "    print(f'#{test_case}', lst[-5])"
   ]
  },
  {
   "cell_type": "code",
   "execution_count": null,
   "id": "fa61dee9",
   "metadata": {},
   "outputs": [],
   "source": []
  }
 ],
 "metadata": {
  "kernelspec": {
   "display_name": "Python 3 (ipykernel)",
   "language": "python",
   "name": "python3"
  },
  "language_info": {
   "codemirror_mode": {
    "name": "ipython",
    "version": 3
   },
   "file_extension": ".py",
   "mimetype": "text/x-python",
   "name": "python",
   "nbconvert_exporter": "python",
   "pygments_lexer": "ipython3",
   "version": "3.9.7"
  }
 },
 "nbformat": 4,
 "nbformat_minor": 5
}
