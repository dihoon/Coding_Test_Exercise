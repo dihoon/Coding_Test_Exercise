{
 "cells": [
  {
   "cell_type": "markdown",
   "id": "06f261a9",
   "metadata": {},
   "source": [
    "가랏! RC카! https://swexpertacademy.com/main/code/problem/problemDetail.do?problemLevel=2&contestProbId=AV5PjMgaALgDFAUq&categoryId=AV5PjMgaALgDFAUq&categoryType=CODE&problemTitle=&orderBy=FIRST_REG_DATETIME&selectCodeLang=ALL&select-1=2&pageSize=10&pageIndex=3"
   ]
  },
  {
   "cell_type": "code",
   "execution_count": 16,
   "id": "4ae7228a",
   "metadata": {
    "scrolled": true
   },
   "outputs": [
    {
     "name": "stdout",
     "output_type": "stream",
     "text": [
      "1\n",
      "2\n",
      "1 2\n",
      "2 1\n",
      "#1 3\n"
     ]
    }
   ],
   "source": [
    "for test_case in range(1, int(input())+1):\n",
    "    d = 0\n",
    "    delta = 0\n",
    "    for sub_case in range(1, int(input())+1):\n",
    "        inputs = input().split()\n",
    "        if len(inputs) == 2:\n",
    "            cmd, speed = map(int, inputs)\n",
    "            if cmd != 0:\n",
    "                if cmd == 1:\n",
    "                    delta += speed\n",
    "                else:\n",
    "                    if (delta >= 0) and (delta < speed):\n",
    "                        delta = 0\n",
    "                    else:\n",
    "                        delta -= speed\n",
    "        d += abs(delta)\n",
    "    print(f'#{test_case}', d)"
   ]
  },
  {
   "cell_type": "markdown",
   "id": "e89737a1",
   "metadata": {},
   "source": [
    "가속 이후에 감속이 가능한 이상한 장난감 자동차 문제"
   ]
  },
  {
   "cell_type": "code",
   "execution_count": null,
   "id": "b57d66a7",
   "metadata": {},
   "outputs": [],
   "source": []
  }
 ],
 "metadata": {
  "kernelspec": {
   "display_name": "Python 3 (ipykernel)",
   "language": "python",
   "name": "python3"
  },
  "language_info": {
   "codemirror_mode": {
    "name": "ipython",
    "version": 3
   },
   "file_extension": ".py",
   "mimetype": "text/x-python",
   "name": "python",
   "nbconvert_exporter": "python",
   "pygments_lexer": "ipython3",
   "version": "3.9.7"
  }
 },
 "nbformat": 4,
 "nbformat_minor": 5
}
