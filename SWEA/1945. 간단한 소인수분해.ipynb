{
 "cells": [
  {
   "cell_type": "markdown",
   "id": "e1495c08",
   "metadata": {},
   "source": [
    "간단한 소인수분해 https://swexpertacademy.com/main/solvingProblem/solvingProblem.do"
   ]
  },
  {
   "cell_type": "code",
   "execution_count": 6,
   "id": "9b4e3971",
   "metadata": {},
   "outputs": [
    {
     "name": "stdout",
     "output_type": "stream",
     "text": [
      "2\n",
      "6791400\n",
      "#1 3 2 2 3 1\n",
      "1646400\n",
      "#2 6 1 2 3 0\n"
     ]
    }
   ],
   "source": [
    "for test_case in range(1, int(input())+1):\n",
    "    N = int(input())\n",
    "    lst = [2,3,5,7,11]\n",
    "    i = 0\n",
    "    cnt = 0\n",
    "    result = []\n",
    "    while i != 5:\n",
    "        if N % lst[i] == 0:\n",
    "            N = N // lst[i]\n",
    "            cnt += 1\n",
    "        elif cnt != 0:\n",
    "            result.append(cnt)\n",
    "            i+=1\n",
    "            cnt = 0\n",
    "        else:\n",
    "            i+=1\n",
    "            result.append(cnt)\n",
    "    print(f'#{test_case}', *result)"
   ]
  },
  {
   "cell_type": "code",
   "execution_count": null,
   "id": "ac7afaac",
   "metadata": {},
   "outputs": [],
   "source": []
  }
 ],
 "metadata": {
  "kernelspec": {
   "display_name": "Python 3 (ipykernel)",
   "language": "python",
   "name": "python3"
  },
  "language_info": {
   "codemirror_mode": {
    "name": "ipython",
    "version": 3
   },
   "file_extension": ".py",
   "mimetype": "text/x-python",
   "name": "python",
   "nbconvert_exporter": "python",
   "pygments_lexer": "ipython3",
   "version": "3.9.7"
  }
 },
 "nbformat": 4,
 "nbformat_minor": 5
}
