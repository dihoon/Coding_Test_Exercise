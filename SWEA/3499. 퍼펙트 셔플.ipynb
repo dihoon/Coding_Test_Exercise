{
 "cells": [
  {
   "cell_type": "markdown",
   "id": "765243a9",
   "metadata": {},
   "source": [
    "퍼펙트 셔플 https://swexpertacademy.com/main/code/problem/problemDetail.do?problemLevel=3&contestProbId=AWGsRbk6AQIDFAVW&categoryId=AWGsRbk6AQIDFAVW&categoryType=CODE&problemTitle=&orderBy=RECOMMEND_COUNT&selectCodeLang=PYTHON&select-1=3&pageSize=10&pageIndex=5"
   ]
  },
  {
   "cell_type": "code",
   "execution_count": 13,
   "id": "aede1a83",
   "metadata": {},
   "outputs": [
    {
     "name": "stdout",
     "output_type": "stream",
     "text": [
      "1\n",
      "6\n",
      "A B C D E F\n",
      "#1 A D B E C F\n"
     ]
    }
   ],
   "source": [
    "for tc in range(1, int(input())+1):\n",
    "    N = int(input())\n",
    "    n = int(N / 2 + 0.5)\n",
    "    lst = input().split()\n",
    "    new = []\n",
    "    for a, b in zip(lst[:n], lst[n:]):\n",
    "        new.append(a)\n",
    "        new.append(b)\n",
    "    if n != (N-n):\n",
    "        new.append(lst[n-1])\n",
    "    print(f'#{tc}', *new)"
   ]
  },
  {
   "cell_type": "code",
   "execution_count": null,
   "id": "737a619c",
   "metadata": {},
   "outputs": [],
   "source": []
  }
 ],
 "metadata": {
  "kernelspec": {
   "display_name": "Python 3 (ipykernel)",
   "language": "python",
   "name": "python3"
  },
  "language_info": {
   "codemirror_mode": {
    "name": "ipython",
    "version": 3
   },
   "file_extension": ".py",
   "mimetype": "text/x-python",
   "name": "python",
   "nbconvert_exporter": "python",
   "pygments_lexer": "ipython3",
   "version": "3.9.12"
  }
 },
 "nbformat": 4,
 "nbformat_minor": 5
}
