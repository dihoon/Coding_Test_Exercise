{
 "cells": [
  {
   "cell_type": "markdown",
   "id": "1723463e",
   "metadata": {},
   "source": [
    "현주의 상자 바꾸기 https://swexpertacademy.com/main/code/problem/problemDetail.do?problemLevel=3&contestProbId=AWYygN36Qn8DFAVm&categoryId=AWYygN36Qn8DFAVm&categoryType=CODE&problemTitle=&orderBy=RECOMMEND_COUNT&selectCodeLang=PYTHON&select-1=3&pageSize=10&pageIndex=4"
   ]
  },
  {
   "cell_type": "code",
   "execution_count": 31,
   "id": "62c3a788",
   "metadata": {},
   "outputs": [
    {
     "name": "stdout",
     "output_type": "stream",
     "text": [
      "1\n",
      "5 2\n",
      "1 3\n",
      "2 4\n",
      "#1 1 2 2 2 0\n"
     ]
    }
   ],
   "source": [
    "for tc in range(1, int(input())+1):\n",
    "    N, Q = map(int, input().split())\n",
    "    lst = [0]*N\n",
    "    for i in range(Q):\n",
    "        L, R = map(int,input().split())\n",
    "        for j in range(L-1, R):\n",
    "            lst[j] = i+1\n",
    "    print(f'#{tc}', *lst)"
   ]
  },
  {
   "cell_type": "code",
   "execution_count": null,
   "id": "8d6b717f",
   "metadata": {},
   "outputs": [],
   "source": []
  }
 ],
 "metadata": {
  "kernelspec": {
   "display_name": "Python 3",
   "language": "python",
   "name": "python3"
  },
  "language_info": {
   "codemirror_mode": {
    "name": "ipython",
    "version": 3
   },
   "file_extension": ".py",
   "mimetype": "text/x-python",
   "name": "python",
   "nbconvert_exporter": "python",
   "pygments_lexer": "ipython3",
   "version": "3.8.8"
  }
 },
 "nbformat": 4,
 "nbformat_minor": 5
}
