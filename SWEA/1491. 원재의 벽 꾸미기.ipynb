{
 "cells": [
  {
   "cell_type": "markdown",
   "id": "6ecb08b2",
   "metadata": {},
   "source": [
    "원재의 벽 꾸미기 https://swexpertacademy.com/main/code/problem/problemDetail.do?problemLevel=3&contestProbId=AV2b9AkKACkBBASw&categoryId=AV2b9AkKACkBBASw&categoryType=CODE&problemTitle=&orderBy=PASS_RATE&selectCodeLang=PYTHON&select-1=3&pageSize=10&pageIndex=8"
   ]
  },
  {
   "cell_type": "code",
   "execution_count": 32,
   "id": "6a51eac2",
   "metadata": {
    "scrolled": false
   },
   "outputs": [
    {
     "name": "stdout",
     "output_type": "stream",
     "text": [
      "2\n",
      "37 1 1\n",
      "21 10 1\n",
      "#1 1\n",
      "#2 5\n"
     ]
    }
   ],
   "source": [
    "# N의 제곱근이 정수라면 R, C가 N의 제곱근일 때 최소값 0을 가진다.\n",
    "# 주어진 N의 제곱근을 상한값으로 갖는 최대 정수를 R로 둔다면\n",
    "# 많이 사용할수록 최소로 향하므로 C = N를 R로 나눈 몫으로 둔다.\n",
    "# 만들 수 있는 최대 정사각형과 직사각형 경우의 수를 비교한다.\n",
    "answer = []\n",
    "for tc in range(1, int(input())+1):\n",
    "    N, A, B = map(int, input().split())\n",
    "    R = int(N**(1/2))\n",
    "    C = N//R\n",
    "    result = B*(N-R*R)\n",
    "    while(R!=1):\n",
    "        temp = A*(C-R) + B*(N-R*C)\n",
    "        if temp < result:\n",
    "            result = temp\n",
    "        R -= 1\n",
    "        C = N//R\n",
    "    answer.append(f'#{tc} {result}')\n",
    "print('\\n'.join(answer))"
   ]
  }
 ],
 "metadata": {
  "kernelspec": {
   "display_name": "Python 3 (ipykernel)",
   "language": "python",
   "name": "python3"
  },
  "language_info": {
   "codemirror_mode": {
    "name": "ipython",
    "version": 3
   },
   "file_extension": ".py",
   "mimetype": "text/x-python",
   "name": "python",
   "nbconvert_exporter": "python",
   "pygments_lexer": "ipython3",
   "version": "3.9.12"
  }
 },
 "nbformat": 4,
 "nbformat_minor": 5
}
