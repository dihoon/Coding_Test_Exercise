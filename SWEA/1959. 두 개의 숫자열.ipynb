{
 "cells": [
  {
   "cell_type": "markdown",
   "id": "fc969dcf",
   "metadata": {},
   "source": [
    "두 개의 숫자열 https://swexpertacademy.com/main/solvingProblem/solvingProblem.do"
   ]
  },
  {
   "cell_type": "code",
   "execution_count": 11,
   "id": "584d96c8",
   "metadata": {},
   "outputs": [
    {
     "name": "stdout",
     "output_type": "stream",
     "text": [
      "1\n",
      "3 5\n",
      "1 5 3\n",
      "3 6 -7 5 4\n",
      "#1 30\n"
     ]
    }
   ],
   "source": [
    "for test_case in range(1, int(input())+1):\n",
    "    length1, length2 = map(int, input().split())\n",
    "    gap = abs(length1 - length2)\n",
    "    min_len = min([length1, length2])\n",
    "    \n",
    "    L1 = list(map(int, input().split()))\n",
    "    L2 = list(map(int, input().split()))\n",
    "    max = 0\n",
    "    if length1 < length2:\n",
    "        for i in range(gap+1):\n",
    "            result = [i*j for i, j in zip(L1, L2[i:min_len+i])]\n",
    "            if max < sum(result):\n",
    "                max = sum(result)\n",
    "    else:\n",
    "        for i in range(gap+1):\n",
    "            result = [i*j for i, j in zip(L1[i:min_len+i], L2)]\n",
    "            if max < sum(result):\n",
    "                max = sum(result)\n",
    "    print(f'#{test_case}', max)"
   ]
  },
  {
   "cell_type": "code",
   "execution_count": null,
   "id": "dcc329fe",
   "metadata": {},
   "outputs": [],
   "source": []
  }
 ],
 "metadata": {
  "kernelspec": {
   "display_name": "Python 3 (ipykernel)",
   "language": "python",
   "name": "python3"
  },
  "language_info": {
   "codemirror_mode": {
    "name": "ipython",
    "version": 3
   },
   "file_extension": ".py",
   "mimetype": "text/x-python",
   "name": "python",
   "nbconvert_exporter": "python",
   "pygments_lexer": "ipython3",
   "version": "3.9.7"
  }
 },
 "nbformat": 4,
 "nbformat_minor": 5
}
