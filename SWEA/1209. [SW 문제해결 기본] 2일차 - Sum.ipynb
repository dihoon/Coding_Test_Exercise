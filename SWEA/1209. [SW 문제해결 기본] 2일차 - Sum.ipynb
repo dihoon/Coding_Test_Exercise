{
 "cells": [
  {
   "cell_type": "markdown",
   "id": "693b9be1",
   "metadata": {},
   "source": [
    "[S/W 문제해결 기본] 2일차 - Sum https://swexpertacademy.com/main/code/problem/problemDetail.do?problemLevel=3&contestProbId=AV13_BWKACUCFAYh&categoryId=AV13_BWKACUCFAYh&categoryType=CODE&problemTitle=&orderBy=RECOMMEND_COUNT&selectCodeLang=ALL&select-1=3&pageSize=10&pageIndex=1"
   ]
  },
  {
   "cell_type": "code",
   "execution_count": null,
   "id": "95d074bb",
   "metadata": {},
   "outputs": [],
   "source": [
    "for test_case in range(1, 11):\n",
    "    test = int(input())\n",
    "    matrix = [list(map(int, input().split())) for _ in range(100)]\n",
    "    result = []\n",
    "    # 각 행별 합\n",
    "    for i in range(100):\n",
    "        result.append(sum(matrix[i]))\n",
    "    # 각 열별 합\n",
    "    for j in range(100):\n",
    "        total = 0\n",
    "        for i in range(100):\n",
    "            total += matrix[i][j]\n",
    "        result.append(total)\n",
    "    # 좌상우하 대각선 합 # (0,0), (1,1), (2,2)\n",
    "    total = 0\n",
    "    for i in range(100):\n",
    "        total += matrix[i][i]\n",
    "    result.append(total)\n",
    "    # 좌하우상 대각선 합 # (99,0), (98,1), (0,99)\n",
    "    total = 0\n",
    "    for i in range(99,-1, -1):\n",
    "        total += matrix[i][99-i]\n",
    "    result.append(total)\n",
    "    \n",
    "    print(f'#{test}', max(result))"
   ]
  },
  {
   "cell_type": "markdown",
   "id": "16daf30d",
   "metadata": {},
   "source": [
    "입력 값이 많으므로 실행 생략"
   ]
  }
 ],
 "metadata": {
  "kernelspec": {
   "display_name": "Python 3 (ipykernel)",
   "language": "python",
   "name": "python3"
  },
  "language_info": {
   "codemirror_mode": {
    "name": "ipython",
    "version": 3
   },
   "file_extension": ".py",
   "mimetype": "text/x-python",
   "name": "python",
   "nbconvert_exporter": "python",
   "pygments_lexer": "ipython3",
   "version": "3.9.7"
  }
 },
 "nbformat": 4,
 "nbformat_minor": 5
}
