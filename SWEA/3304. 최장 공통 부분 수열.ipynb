{
 "cells": [
  {
   "cell_type": "markdown",
   "id": "d1d14e4f",
   "metadata": {},
   "source": [
    "최장 공통 부분 수열 https://swexpertacademy.com/main/code/problem/problemDetail.do?problemLevel=3&contestProbId=AWBOHEx66kIDFAWr&categoryId=AWBOHEx66kIDFAWr&categoryType=CODE&problemTitle=&orderBy=RECOMMEND_COUNT&selectCodeLang=PYTHON&select-1=3&pageSize=10&pageIndex=5"
   ]
  },
  {
   "cell_type": "markdown",
   "id": "d599e832",
   "metadata": {},
   "source": [
    "아래 코드에서\n",
    "acaykp capcak\n",
    "capcak acaykp 값이 다르게 나오는 것을 알 수 있었다."
   ]
  },
  {
   "cell_type": "code",
   "execution_count": 37,
   "id": "a47aa4a5",
   "metadata": {},
   "outputs": [
    {
     "name": "stdout",
     "output_type": "stream",
     "text": [
      "2\n",
      "acaykp capcak\n",
      "capcak acaykp\n",
      "#1 4\n",
      "#2 3\n"
     ]
    }
   ],
   "source": [
    "answer = []\n",
    "for tc in range(1,int(input())+1):\n",
    "    a, b = input().split() # 두 문자열\n",
    "    cnt = 0\n",
    "    max_cnt = 0\n",
    "    for i in range(len(a)-cnt):\n",
    "        k = 0\n",
    "        cnt = 0\n",
    "        for idx in range(i, len(a)):\n",
    "            tmp = a[idx]\n",
    "            for j in range(k, len(b)):\n",
    "                if b[j] == tmp:\n",
    "                    cnt += 1\n",
    "                    k = j+1\n",
    "                    break\n",
    "        if max_cnt < cnt:\n",
    "            max_cnt = cnt\n",
    "    answer.append('#{} {}'.format(tc, max_cnt))\n",
    "print('\\n'.join(answer))"
   ]
  },
  {
   "cell_type": "markdown",
   "id": "5391c4aa",
   "metadata": {},
   "source": [
    "dp 접근법으로 해결하였다."
   ]
  },
  {
   "cell_type": "code",
   "execution_count": 36,
   "id": "d00fcea4",
   "metadata": {},
   "outputs": [
    {
     "name": "stdout",
     "output_type": "stream",
     "text": [
      "1\n",
      "acaykp capcak\n",
      "#1 4\n"
     ]
    }
   ],
   "source": [
    "answer = []\n",
    "for tc in range(1, int(input())+1):\n",
    "    a, b = input().split()\n",
    "    n, m = len(a), len(b)\n",
    "    dp = [[0]*(n+1) for _ in range(m+1)]\n",
    "    for i in range(1, m+1): # 문자열 b를 점차 늘려갔을 때\n",
    "        for j in range(1, n+1): # 문자열 a을 점차 늘려갔을 때\n",
    "            if b[i-1] == a[j-1]: # 두 문자가 같다면, 두 문자를 몰랐을 때 값 + 1\n",
    "                dp[i][j] = dp[i-1][j-1] + 1\n",
    "            else: # 두 문자가 다르면, 둘 중 하나만 알고 있을 때 최댓값 채택\n",
    "                dp[i][j] = max(dp[i-1][j], dp[i][j-1])\n",
    "    answer.append('#{} {}'.format(tc, dp[-1][-1]))\n",
    "print('\\n'.join(answer))"
   ]
  },
  {
   "cell_type": "code",
   "execution_count": null,
   "id": "8707e46b",
   "metadata": {},
   "outputs": [],
   "source": []
  }
 ],
 "metadata": {
  "kernelspec": {
   "display_name": "Python 3 (ipykernel)",
   "language": "python",
   "name": "python3"
  },
  "language_info": {
   "codemirror_mode": {
    "name": "ipython",
    "version": 3
   },
   "file_extension": ".py",
   "mimetype": "text/x-python",
   "name": "python",
   "nbconvert_exporter": "python",
   "pygments_lexer": "ipython3",
   "version": "3.9.12"
  }
 },
 "nbformat": 4,
 "nbformat_minor": 5
}
