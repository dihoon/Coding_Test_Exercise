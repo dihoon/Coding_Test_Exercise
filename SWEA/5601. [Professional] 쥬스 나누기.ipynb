{
 "cells": [
  {
   "cell_type": "markdown",
   "id": "32da7223",
   "metadata": {},
   "source": [
    "[Professional] 쥬스 나누기 https://swexpertacademy.com/main/code/problem/problemDetail.do?problemLevel=3&contestProbId=AWXGAylqcdYDFAUo&categoryId=AWXGAylqcdYDFAUo&categoryType=CODE&problemTitle=&orderBy=RECOMMEND_COUNT&selectCodeLang=PYTHON&select-1=3&pageSize=10&pageIndex=10"
   ]
  },
  {
   "cell_type": "code",
   "execution_count": 1,
   "id": "a38ed536",
   "metadata": {},
   "outputs": [
    {
     "name": "stdout",
     "output_type": "stream",
     "text": [
      "2\n",
      "1\n",
      "#1 1/1\n",
      "2\n",
      "#2 1/2 1/2\n"
     ]
    }
   ],
   "source": [
    "for tc in range(1, int(input())+1):\n",
    "    N = int(input())\n",
    "    print(f'#{tc}', ' '. join([f'1/{N}']*N))"
   ]
  },
  {
   "cell_type": "code",
   "execution_count": null,
   "id": "ac777c6a",
   "metadata": {},
   "outputs": [],
   "source": []
  }
 ],
 "metadata": {
  "kernelspec": {
   "display_name": "Python 3 (ipykernel)",
   "language": "python",
   "name": "python3"
  },
  "language_info": {
   "codemirror_mode": {
    "name": "ipython",
    "version": 3
   },
   "file_extension": ".py",
   "mimetype": "text/x-python",
   "name": "python",
   "nbconvert_exporter": "python",
   "pygments_lexer": "ipython3",
   "version": "3.9.12"
  }
 },
 "nbformat": 4,
 "nbformat_minor": 5
}
