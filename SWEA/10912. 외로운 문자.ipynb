{
 "cells": [
  {
   "cell_type": "markdown",
   "id": "885a6a6d",
   "metadata": {},
   "source": [
    "외로운 문자 https://swexpertacademy.com/main/code/problem/problemDetail.do?problemLevel=3&contestProbId=AXVJuEvqLAADFASe&categoryId=AXVJuEvqLAADFASe&categoryType=CODE&problemTitle=&orderBy=RECOMMEND_COUNT&selectCodeLang=PYTHON&select-1=3&pageSize=10&pageIndex=5"
   ]
  },
  {
   "cell_type": "code",
   "execution_count": 19,
   "id": "f1626775",
   "metadata": {},
   "outputs": [
    {
     "name": "stdout",
     "output_type": "stream",
     "text": [
      "1\n",
      "xxyyzz\n",
      "y\n",
      "x\n",
      "z\n",
      "#1 Good\n"
     ]
    }
   ],
   "source": [
    "for tc in range(1, int(input())+1):\n",
    "    st = sorted(input())\n",
    "    new = ''\n",
    "    for i in set(st):\n",
    "        if st.count(i) % 2 == 1:\n",
    "            new += i\n",
    "        print(i)\n",
    "    if not new:\n",
    "        new = 'Good'\n",
    "    print(f'#{tc}', new)"
   ]
  },
  {
   "cell_type": "markdown",
   "id": "5e269e13",
   "metadata": {},
   "source": [
    "쥬피터 노트북에서 set 버그가 있는 것 같다."
   ]
  }
 ],
 "metadata": {
  "kernelspec": {
   "display_name": "Python 3 (ipykernel)",
   "language": "python",
   "name": "python3"
  },
  "language_info": {
   "codemirror_mode": {
    "name": "ipython",
    "version": 3
   },
   "file_extension": ".py",
   "mimetype": "text/x-python",
   "name": "python",
   "nbconvert_exporter": "python",
   "pygments_lexer": "ipython3",
   "version": "3.9.12"
  }
 },
 "nbformat": 4,
 "nbformat_minor": 5
}
