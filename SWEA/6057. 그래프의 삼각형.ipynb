{
 "cells": [
  {
   "cell_type": "markdown",
   "id": "154b2a25",
   "metadata": {},
   "source": [
    "그래프의 삼각형 https://swexpertacademy.com/main/code/problem/problemDetail.do?problemLevel=3&contestProbId=AWbHcWd6AFcDFAV0&categoryId=AWbHcWd6AFcDFAV0&categoryType=CODE&problemTitle=&orderBy=PASS_RATE&selectCodeLang=PYTHON&select-1=3&pageSize=10&pageIndex=9"
   ]
  },
  {
   "cell_type": "code",
   "execution_count": 17,
   "id": "a89ec7b3",
   "metadata": {},
   "outputs": [
    {
     "name": "stdout",
     "output_type": "stream",
     "text": [
      "1\n",
      "3 3\n",
      "1 2\n",
      "2 3\n",
      "1 3\n",
      "#1 1\n"
     ]
    }
   ],
   "source": [
    "answer = []\n",
    "for tc in range(1, int(input())+1):\n",
    "    v, e = map(int, input().split())    \n",
    "    matrix = [[0]*v for _ in range(v)]\n",
    "    cnt = 0\n",
    "    for i in range(e):\n",
    "        x, y = map(int, input().split())\n",
    "        matrix[x-1][y-1] += 1\n",
    "        matrix[y-1][x-1] += 1\n",
    "    \n",
    "    for x in range(v-2):\n",
    "        for y in range(x+1,v-1):\n",
    "            for z in range(y+1, v):\n",
    "                if matrix[x][y] and matrix[x][z] and matrix[y][z]:\n",
    "                    cnt += 1\n",
    "    answer.append('#{} {}'.format(tc, cnt))\n",
    "print('\\n'.join(answer))"
   ]
  },
  {
   "cell_type": "code",
   "execution_count": null,
   "id": "df877de6",
   "metadata": {},
   "outputs": [],
   "source": []
  }
 ],
 "metadata": {
  "kernelspec": {
   "display_name": "Python 3 (ipykernel)",
   "language": "python",
   "name": "python3"
  },
  "language_info": {
   "codemirror_mode": {
    "name": "ipython",
    "version": 3
   },
   "file_extension": ".py",
   "mimetype": "text/x-python",
   "name": "python",
   "nbconvert_exporter": "python",
   "pygments_lexer": "ipython3",
   "version": "3.9.12"
  }
 },
 "nbformat": 4,
 "nbformat_minor": 5
}
