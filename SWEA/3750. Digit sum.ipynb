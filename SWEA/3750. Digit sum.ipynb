{
 "cells": [
  {
   "cell_type": "markdown",
   "id": "a870d57e",
   "metadata": {},
   "source": [
    "Digit sum https://swexpertacademy.com/main/code/problem/problemDetail.do?problemLevel=3&contestProbId=AWHPiSYKAD0DFAUn&categoryId=AWHPiSYKAD0DFAUn&categoryType=CODE&problemTitle=&orderBy=PASS_RATE&selectCodeLang=PYTHON&select-1=3&pageSize=10&pageIndex=10&&&&&&&&&&"
   ]
  },
  {
   "cell_type": "code",
   "execution_count": 2,
   "id": "a16ee835",
   "metadata": {},
   "outputs": [
    {
     "name": "stdout",
     "output_type": "stream",
     "text": [
      "3\n",
      "5\n",
      "108\n",
      "588432\n",
      "#1 5\n",
      "#2 9\n",
      "#3 3\n"
     ]
    }
   ],
   "source": [
    "answer = []\n",
    "for tc in range(1, int(input())+1):\n",
    "    N = input()\n",
    "    while (len(N)!=1):\n",
    "        sum = 0\n",
    "        for st in N:\n",
    "            sum += int(st)\n",
    "        N = str(sum)\n",
    "    answer.append('#{} {}'.format(tc, N))\n",
    "print('\\n'.join(answer))"
   ]
  },
  {
   "cell_type": "code",
   "execution_count": null,
   "id": "374092f2",
   "metadata": {},
   "outputs": [],
   "source": []
  }
 ],
 "metadata": {
  "kernelspec": {
   "display_name": "Python 3 (ipykernel)",
   "language": "python",
   "name": "python3"
  },
  "language_info": {
   "codemirror_mode": {
    "name": "ipython",
    "version": 3
   },
   "file_extension": ".py",
   "mimetype": "text/x-python",
   "name": "python",
   "nbconvert_exporter": "python",
   "pygments_lexer": "ipython3",
   "version": "3.9.12"
  }
 },
 "nbformat": 4,
 "nbformat_minor": 5
}
