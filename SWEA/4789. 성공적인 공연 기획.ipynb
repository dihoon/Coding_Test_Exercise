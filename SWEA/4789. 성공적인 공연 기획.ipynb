{
 "cells": [
  {
   "cell_type": "markdown",
   "id": "ca2a7d25",
   "metadata": {},
   "source": [
    "성공적인 공연 기획 https://swexpertacademy.com/main/code/problem/problemDetail.do?problemLevel=3&contestProbId=AWS2dSgKA8MDFAVT&categoryId=AWS2dSgKA8MDFAVT&categoryType=CODE&problemTitle=&orderBy=PASS_RATE&selectCodeLang=PYTHON&select-1=3&pageSize=10&pageIndex=8"
   ]
  },
  {
   "cell_type": "code",
   "execution_count": 5,
   "id": "01debcb1",
   "metadata": {},
   "outputs": [
    {
     "name": "stdout",
     "output_type": "stream",
     "text": [
      "4\n",
      "11111\n",
      "#1 0\n",
      "09\n",
      "#2 1\n",
      "110011\n",
      "#3 2\n",
      "1\n",
      "#4 0\n"
     ]
    }
   ],
   "source": [
    "for tc in range(1, int(input())+1):\n",
    "    people = input()\n",
    "    claps = int(people[0])\n",
    "    num = 0\n",
    "    for i in range(1,len(people)):\n",
    "        if i <= claps:\n",
    "            claps += int(people[i])\n",
    "        else:\n",
    "            num += i - claps\n",
    "            claps += i - claps + int(people[i])\n",
    "    print(f\"#{tc} {num}\")"
   ]
  },
  {
   "cell_type": "code",
   "execution_count": null,
   "id": "e0240d7d",
   "metadata": {},
   "outputs": [],
   "source": []
  }
 ],
 "metadata": {
  "kernelspec": {
   "display_name": "Python 3 (ipykernel)",
   "language": "python",
   "name": "python3"
  },
  "language_info": {
   "codemirror_mode": {
    "name": "ipython",
    "version": 3
   },
   "file_extension": ".py",
   "mimetype": "text/x-python",
   "name": "python",
   "nbconvert_exporter": "python",
   "pygments_lexer": "ipython3",
   "version": "3.9.12"
  }
 },
 "nbformat": 4,
 "nbformat_minor": 5
}
