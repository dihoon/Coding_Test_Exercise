{
 "cells": [
  {
   "cell_type": "markdown",
   "id": "2dc1c546",
   "metadata": {},
   "source": [
    "숫자 조작 https://swexpertacademy.com/main/solvingProblem/solvingProblem.do"
   ]
  },
  {
   "cell_type": "code",
   "execution_count": 63,
   "id": "8d37ae3e",
   "metadata": {},
   "outputs": [
    {
     "name": "stdout",
     "output_type": "stream",
     "text": [
      "1\n",
      "141\n",
      "#1 114 411\n"
     ]
    }
   ],
   "source": [
    "from itertools import combinations\n",
    "\n",
    "for test_case in range(1, int(input())+1):\n",
    "    N = input()\n",
    "    cases = [int(N)]\n",
    "    \n",
    "    for a, b in combinations(range(len(N)), 2):\n",
    "        temp = list(N)\n",
    "        temp[a],temp[b]=temp[b],temp[a] # swap\n",
    "        \n",
    "        if temp[0] == '0':\n",
    "            continue\n",
    "        \n",
    "        cases.append(int(''.join(temp)))\n",
    "    \n",
    "    print(f'#{test_case}', min(cases), max(cases))"
   ]
  },
  {
   "cell_type": "code",
   "execution_count": null,
   "id": "d52562a5",
   "metadata": {},
   "outputs": [],
   "source": []
  }
 ],
 "metadata": {
  "kernelspec": {
   "display_name": "Python 3 (ipykernel)",
   "language": "python",
   "name": "python3"
  },
  "language_info": {
   "codemirror_mode": {
    "name": "ipython",
    "version": 3
   },
   "file_extension": ".py",
   "mimetype": "text/x-python",
   "name": "python",
   "nbconvert_exporter": "python",
   "pygments_lexer": "ipython3",
   "version": "3.9.7"
  }
 },
 "nbformat": 4,
 "nbformat_minor": 5
}
