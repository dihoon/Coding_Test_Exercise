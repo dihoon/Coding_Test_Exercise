{
 "cells": [
  {
   "cell_type": "markdown",
   "id": "de9434a6",
   "metadata": {},
   "source": [
    "[S/W 문제해결 기본] 1일차 - View https://swexpertacademy.com/main/code/problem/problemDetail.do?problemLevel=3&contestProbId=AV134DPqAA8CFAYh&categoryId=AV134DPqAA8CFAYh&categoryType=CODE&problemTitle=&orderBy=RECOMMEND_COUNT&selectCodeLang=PYTHON&select-1=3&pageSize=10&pageIndex=1"
   ]
  },
  {
   "cell_type": "code",
   "execution_count": null,
   "id": "f8954dc9",
   "metadata": {
    "scrolled": true
   },
   "outputs": [
    {
     "name": "stdout",
     "output_type": "stream",
     "text": [
      "13\n",
      "0 0 3 5 2 4 9 0 6 4 0 6 0 0\n",
      "#1 6\n"
     ]
    }
   ],
   "source": [
    "for test_case in range(1, 11):\n",
    "    N = int(input())\n",
    "    height = list(map(int, input().split()))\n",
    "    \n",
    "    # 각 height 요소 i에서 i-2 ~ i+2 의 높이 중 최댓값 계산 후 i에서 빼면 곧 조망권\n",
    "    number = 0 # 조망권 세대 수\n",
    "    for i in range(N):\n",
    "        if height[i] == 0:\n",
    "            continue\n",
    "        else:\n",
    "            neighbor = [height[i-2], height[i-1], height[i+1], height[i+2]]\n",
    "            if height[i] > max(neighbor):\n",
    "                number += height[i] - max(neighbor)\n",
    "    print(f'#{test_case}', number)"
   ]
  }
 ],
 "metadata": {
  "kernelspec": {
   "display_name": "Python 3 (ipykernel)",
   "language": "python",
   "name": "python3"
  },
  "language_info": {
   "codemirror_mode": {
    "name": "ipython",
    "version": 3
   },
   "file_extension": ".py",
   "mimetype": "text/x-python",
   "name": "python",
   "nbconvert_exporter": "python",
   "pygments_lexer": "ipython3",
   "version": "3.9.7"
  }
 },
 "nbformat": 4,
 "nbformat_minor": 5
}
