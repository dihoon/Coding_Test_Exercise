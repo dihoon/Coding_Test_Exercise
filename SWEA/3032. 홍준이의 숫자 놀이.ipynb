{
 "cells": [
  {
   "cell_type": "markdown",
   "id": "a7143662",
   "metadata": {},
   "source": [
    "홍준이의 숫자 놀이 https://swexpertacademy.com/main/code/problem/problemDetail.do?problemLevel=3&contestProbId=AV-0U8FKZLQDFAXT&categoryId=AV-0U8FKZLQDFAXT&categoryType=CODE&problemTitle=&orderBy=PASS_RATE&selectCodeLang=PYTHON&select-1=3&pageSize=10&pageIndex=11"
   ]
  },
  {
   "cell_type": "code",
   "execution_count": 15,
   "id": "0ff45656",
   "metadata": {},
   "outputs": [
    {
     "name": "stdout",
     "output_type": "stream",
     "text": [
      "2\n",
      "3 5\n",
      "#1 2 -1\n",
      "7 2\n",
      "#2 1 -3\n"
     ]
    }
   ],
   "source": [
    "def gcd(a, b):\n",
    "    x1,y1, x2,y2, r1, r2 = 1,0, 0,1, a, b\n",
    "    while r2 != 0:\n",
    "        q, r = r1//r2, r1%r2\n",
    "        x3, y3 = x1-x2*q, y1-y2*q\n",
    "        x1, y1, x2, y2, r1, r2 = x2, y2, x3, y3, r2, r\n",
    "    return [x1, y1]\n",
    "\n",
    "for tc in range(1, int(input())+1):\n",
    "    A, B = map(int, input().split())\n",
    "    print('#{} {}'.format(tc, ' '.join(map(str, gcd(A, B)))))"
   ]
  },
  {
   "cell_type": "code",
   "execution_count": null,
   "id": "220a8dd6",
   "metadata": {},
   "outputs": [],
   "source": []
  }
 ],
 "metadata": {
  "kernelspec": {
   "display_name": "Python 3 (ipykernel)",
   "language": "python",
   "name": "python3"
  },
  "language_info": {
   "codemirror_mode": {
    "name": "ipython",
    "version": 3
   },
   "file_extension": ".py",
   "mimetype": "text/x-python",
   "name": "python",
   "nbconvert_exporter": "python",
   "pygments_lexer": "ipython3",
   "version": "3.9.12"
  }
 },
 "nbformat": 4,
 "nbformat_minor": 5
}
