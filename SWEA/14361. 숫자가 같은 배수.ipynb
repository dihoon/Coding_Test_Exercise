{
 "cells": [
  {
   "cell_type": "markdown",
   "id": "c3bc47b5",
   "metadata": {},
   "source": [
    "숫자가 같은 배수 https://swexpertacademy.com/main/code/problem/problemDetail.do?problemLevel=3&contestProbId=AYCnY9Kqu6YDFARx&categoryId=AYCnY9Kqu6YDFARx&categoryType=CODE&problemTitle=&orderBy=PASS_RATE&selectCodeLang=PYTHON&select-1=3&pageSize=10&pageIndex=8"
   ]
  },
  {
   "cell_type": "code",
   "execution_count": 26,
   "id": "28798fc0",
   "metadata": {},
   "outputs": [
    {
     "name": "stdout",
     "output_type": "stream",
     "text": [
      "3\n",
      "142857\n",
      "1\n",
      "1035\n",
      "#1 possible\n",
      "#2 impossible\n",
      "#3 possible\n"
     ]
    }
   ],
   "source": [
    "result = []\n",
    "for tc in range(1, int(input())+1):\n",
    "    N = input()\n",
    "    L = len(N)\n",
    "    flag = False\n",
    "    for i in range(2,10):\n",
    "        m = str(int(N)*i)\n",
    "        if sorted(N) == sorted(m):\n",
    "            result.append('#{} {}'.format(tc, 'possible'))\n",
    "            flag = True\n",
    "            break\n",
    "    if flag == False:\n",
    "        result.append('#{} {}'.format(tc, 'impossible'))\n",
    "print('\\n'.join(result))"
   ]
  },
  {
   "cell_type": "code",
   "execution_count": null,
   "id": "1a5caf86",
   "metadata": {},
   "outputs": [],
   "source": []
  }
 ],
 "metadata": {
  "kernelspec": {
   "display_name": "Python 3 (ipykernel)",
   "language": "python",
   "name": "python3"
  },
  "language_info": {
   "codemirror_mode": {
    "name": "ipython",
    "version": 3
   },
   "file_extension": ".py",
   "mimetype": "text/x-python",
   "name": "python",
   "nbconvert_exporter": "python",
   "pygments_lexer": "ipython3",
   "version": "3.9.12"
  }
 },
 "nbformat": 4,
 "nbformat_minor": 5
}
