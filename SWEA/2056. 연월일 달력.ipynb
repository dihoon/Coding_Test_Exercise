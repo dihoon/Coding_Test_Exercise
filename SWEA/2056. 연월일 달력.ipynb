{
 "cells": [
  {
   "cell_type": "markdown",
   "id": "3710557a",
   "metadata": {},
   "source": [
    "연월일 달력 https://swexpertacademy.com/main/code/problem/problemDetail.do?problemLevel=1&contestProbId=AV5QLkdKAz4DFAUq&categoryId=AV5QLkdKAz4DFAUq&categoryType=CODE&problemTitle=&orderBy=FIRST_REG_DATETIME&selectCodeLang=ALL&select-1=1&pageSize=10&pageIndex=1"
   ]
  },
  {
   "cell_type": "code",
   "execution_count": 3,
   "id": "e58bbf7e",
   "metadata": {},
   "outputs": [
    {
     "name": "stdout",
     "output_type": "stream",
     "text": [
      "5\n",
      "22220228\n",
      "#1 2222/02/28\n",
      "20150002\n",
      "#2 -1\n",
      "01010101\n",
      "#3 0101/01/01\n",
      "20140230\n",
      "#4 -1\n",
      "11111111\n",
      "#5 1111/11/11\n"
     ]
    }
   ],
   "source": [
    "T = int(input())\n",
    "\n",
    "for test_case in range(1, T+1):\n",
    "    timestamp = input()\n",
    "    if timestamp[4:6] in ['01','03','05','07','08','10','12']:\n",
    "        day = int(timestamp[-2:])\n",
    "        if (1<= day) & (day<=31):\n",
    "            print(f'#{test_case} {timestamp[:4]}/{timestamp[4:6]}/{timestamp[-2:]}')\n",
    "        else:\n",
    "            print(f'#{test_case}', -1)\n",
    "    elif timestamp[4:6] in ['04','06','09','11']:\n",
    "        day = int(timestamp[-2:])\n",
    "        if (1<= day) & (day<=30):\n",
    "            print(f'#{test_case} {timestamp[:4]}/{timestamp[4:6]}/{timestamp[-2:]}')\n",
    "        else:\n",
    "            print(f'#{test_case}', -1)\n",
    "    elif timestamp[4:6] in ['02']:\n",
    "        day = int(timestamp[-2:])\n",
    "        if (1<=day) & (day<=28):\n",
    "            print(f'#{test_case} {timestamp[:4]}/{timestamp[4:6]}/{timestamp[-2:]}')\n",
    "        else:\n",
    "            print(f'#{test_case}', -1)\n",
    "    else:\n",
    "        print(f'#{test_case}', -1)"
   ]
  },
  {
   "cell_type": "code",
   "execution_count": null,
   "id": "4f42b052",
   "metadata": {},
   "outputs": [],
   "source": []
  }
 ],
 "metadata": {
  "kernelspec": {
   "display_name": "Python 3 (ipykernel)",
   "language": "python",
   "name": "python3"
  },
  "language_info": {
   "codemirror_mode": {
    "name": "ipython",
    "version": 3
   },
   "file_extension": ".py",
   "mimetype": "text/x-python",
   "name": "python",
   "nbconvert_exporter": "python",
   "pygments_lexer": "ipython3",
   "version": "3.9.7"
  }
 },
 "nbformat": 4,
 "nbformat_minor": 5
}
