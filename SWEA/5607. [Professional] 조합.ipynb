{
 "cells": [
  {
   "cell_type": "markdown",
   "id": "39d8e100",
   "metadata": {},
   "source": [
    "[Professional] 조합 https://swexpertacademy.com/main/code/problem/problemDetail.do?problemLevel=3&contestProbId=AWXGKdbqczEDFAUo&categoryId=AWXGKdbqczEDFAUo&categoryType=CODE&problemTitle=&orderBy=RECOMMEND_COUNT&selectCodeLang=ALL&select-1=3&pageSize=10&pageIndex=3"
   ]
  },
  {
   "cell_type": "markdown",
   "id": "a19f4035",
   "metadata": {},
   "source": [
    "거듭제곱에서 시간 초과가 발생하는 것 같다."
   ]
  },
  {
   "cell_type": "code",
   "execution_count": null,
   "id": "171640e1",
   "metadata": {},
   "outputs": [],
   "source": [
    "def factorial(n):\n",
    "    f = 1\n",
    "    for i in range(1, n+1):\n",
    "        f *= i\n",
    "    return f\n",
    "\n",
    "P = 1234567891\n",
    "for test_case in range(1, int(input())+1):\n",
    "    N, R = map(int, input().split())\n",
    "    print(f'#{test_case}', ((factorial(N)%P)*((factorial(N-R)*factorial(R))**(P-2))%P)%P)"
   ]
  },
  {
   "cell_type": "markdown",
   "id": "892e7471",
   "metadata": {},
   "source": [
    "거듭제곱 구하는 함수를 분할 정복으로 구현"
   ]
  },
  {
   "cell_type": "code",
   "execution_count": 67,
   "id": "851776db",
   "metadata": {},
   "outputs": [
    {
     "name": "stdout",
     "output_type": "stream",
     "text": [
      "1\n",
      "10 2\n",
      "#1 45\n"
     ]
    }
   ],
   "source": [
    "def factorial(N): # 나머지 연산 적용\n",
    "    result = 1\n",
    "    for i in range(1, N+1):\n",
    "        result = (result * i % P)\n",
    "    return result % P\n",
    "\n",
    "def square(n, k): # 나머지 연산 적용\n",
    "    if k == 0:\n",
    "        return 1\n",
    "    if k == 1:\n",
    "        return n\n",
    "    \n",
    "    tmp = square(n, k//2)\n",
    "    if k % 2: \n",
    "        return tmp * tmp * n %P\n",
    "    else:\n",
    "        return tmp * tmp %P\n",
    "    \n",
    "P = 1234567891\n",
    "\n",
    "for test_case in range(1, int(input())+1):\n",
    "    N, R = map(int, input().split())\n",
    "    \n",
    "    result = factorial(N) * square(factorial(N-R)*factorial(R), P-2) % P\n",
    "    print(f'#{test_case}', result)"
   ]
  },
  {
   "cell_type": "markdown",
   "id": "cd7f9fad",
   "metadata": {},
   "source": [
    "(A + B)mod P = (A mod P + B mod P)mod P\n",
    "\n",
    "(A * B)mod P = (A mod P * B mod P)mod P"
   ]
  },
  {
   "cell_type": "code",
   "execution_count": null,
   "id": "49facb29",
   "metadata": {},
   "outputs": [],
   "source": []
  }
 ],
 "metadata": {
  "kernelspec": {
   "display_name": "Python 3 (ipykernel)",
   "language": "python",
   "name": "python3"
  },
  "language_info": {
   "codemirror_mode": {
    "name": "ipython",
    "version": 3
   },
   "file_extension": ".py",
   "mimetype": "text/x-python",
   "name": "python",
   "nbconvert_exporter": "python",
   "pygments_lexer": "ipython3",
   "version": "3.9.7"
  }
 },
 "nbformat": 4,
 "nbformat_minor": 5
}
