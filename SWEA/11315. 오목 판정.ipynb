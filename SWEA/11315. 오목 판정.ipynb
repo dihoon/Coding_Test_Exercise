{
 "cells": [
  {
   "cell_type": "markdown",
   "id": "d64a5b26",
   "metadata": {},
   "source": [
    "오목 판정 https://swexpertacademy.com/main/code/problem/problemDetail.do?problemLevel=3&contestProbId=AXaSUPYqPYMDFASQ&categoryId=AXaSUPYqPYMDFASQ&categoryType=CODE&problemTitle=&orderBy=RECOMMEND_COUNT&selectCodeLang=PYTHON&select-1=3&pageSize=10&pageIndex=4"
   ]
  },
  {
   "cell_type": "code",
   "execution_count": 8,
   "id": "7188e6db",
   "metadata": {},
   "outputs": [
    {
     "name": "stdout",
     "output_type": "stream",
     "text": [
      "1\n",
      "5\n",
      "....o\n",
      "...o.\n",
      "..o..\n",
      ".o...\n",
      "o....\n",
      "#1 YES\n"
     ]
    }
   ],
   "source": [
    "# 우, 우하향, 하, 좌하향 방향을 고려\n",
    "def dfs(x, y, idx, result):\n",
    "    global cnt\n",
    "    global v\n",
    "    idx +=1\n",
    "    if cnt >= 5:\n",
    "        return True\n",
    "\n",
    "    if x<0 or x>=N or y<0 or y>=N:\n",
    "        return False\n",
    "\n",
    "    if graph[x][y] == 'o': # 해당 점에 돌이 있을 때\n",
    "        cnt += 1\n",
    "        if v == 1:\n",
    "            result = dfs(x,y+1, idx, result)\n",
    "            if cnt >= 5:\n",
    "                return result\n",
    "            if idx == 1:\n",
    "                cnt = 1\n",
    "                v += 1\n",
    "        if v == 2:\n",
    "            result = dfs(x+1,y+1,idx, result)\n",
    "            if cnt >= 5:\n",
    "                return result\n",
    "            if idx == 1:\n",
    "                cnt = 1\n",
    "                v += 1\n",
    "        if v == 3:\n",
    "            result = dfs(x+1,y, idx, result)\n",
    "            if cnt >= 5:\n",
    "                return result\n",
    "            if idx == 1:\n",
    "                cnt = 1\n",
    "                v += 1\n",
    "        if v == 4:\n",
    "            result = dfs(x+1,y-1, idx, result)\n",
    "    idx-=1\n",
    "    return result\n",
    "\n",
    "for tc in range(1, int(input())+1):\n",
    "    N = int(input())\n",
    "    graph = [list(input()) for _ in range(N)]\n",
    "    result = 'NO'\n",
    "    v = 1\n",
    "    cnt = 0\n",
    "\n",
    "    for i in range(N):\n",
    "        for j in range(N):\n",
    "            if dfs(i,j,0, False) == True:\n",
    "                result = 'YES'\n",
    "                break\n",
    "            cnt = 0\n",
    "            v = 1\n",
    "\n",
    "    print(f'#{tc}', result)"
   ]
  },
  {
   "cell_type": "markdown",
   "id": "d973f5c3",
   "metadata": {},
   "source": [
    "오목이므로 5개만 보는 것이 더 효율적"
   ]
  },
  {
   "cell_type": "code",
   "execution_count": 7,
   "id": "acf15b12",
   "metadata": {},
   "outputs": [
    {
     "name": "stdout",
     "output_type": "stream",
     "text": [
      "1\n",
      "5\n",
      "....o\n",
      "...o.\n",
      "..o..\n",
      ".o...\n",
      "o....\n",
      "#1 YES\n"
     ]
    }
   ],
   "source": [
    "dx = [0, 1, 1, 1]\n",
    "dy = [1, 1, 0, -1]\n",
    "\n",
    "def search(x, y):\n",
    "    global N\n",
    "    if graph[x][y] == 'o':\n",
    "        for i in range(4):\n",
    "            nx, ny = x, y\n",
    "            for j in range(4):\n",
    "                nx, ny = nx + dx[i], ny + dy[i]\n",
    "                if nx < 0 or nx >= N or ny < 0 or ny >= N:\n",
    "                    break\n",
    "                if graph[nx][ny] != 'o':\n",
    "                    break\n",
    "                if j == 3:\n",
    "                    return True\n",
    "    return False\n",
    "\n",
    "for tc in range(1, int(input()) + 1):\n",
    "    N = int(input())\n",
    "    graph = [list(input()) for _ in range(N)]\n",
    "    result = 'NO'\n",
    "    for i in range(N):\n",
    "        for j in range(N):\n",
    "            if search(i, j):\n",
    "                result = 'YES'\n",
    "    print(f'#{tc}', result)"
   ]
  },
  {
   "cell_type": "code",
   "execution_count": null,
   "id": "0ab42cd6",
   "metadata": {},
   "outputs": [],
   "source": []
  }
 ],
 "metadata": {
  "kernelspec": {
   "display_name": "Python 3 (ipykernel)",
   "language": "python",
   "name": "python3"
  },
  "language_info": {
   "codemirror_mode": {
    "name": "ipython",
    "version": 3
   },
   "file_extension": ".py",
   "mimetype": "text/x-python",
   "name": "python",
   "nbconvert_exporter": "python",
   "pygments_lexer": "ipython3",
   "version": "3.9.7"
  }
 },
 "nbformat": 4,
 "nbformat_minor": 5
}
