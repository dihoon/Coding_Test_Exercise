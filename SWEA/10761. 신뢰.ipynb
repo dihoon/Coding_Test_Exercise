{
 "cells": [
  {
   "cell_type": "markdown",
   "id": "857e26cb",
   "metadata": {},
   "source": [
    "신뢰 https://swexpertacademy.com/main/code/problem/problemDetail.do?problemLevel=3&contestProbId=AXSVc1TqEAYDFAQT&categoryId=AXSVc1TqEAYDFAQT&categoryType=CODE&problemTitle=&orderBy=RECOMMEND_COUNT&selectCodeLang=PYTHON&select-1=3&pageSize=10&pageIndex=5"
   ]
  },
  {
   "cell_type": "code",
   "execution_count": 21,
   "id": "4c8f74c2",
   "metadata": {},
   "outputs": [
    {
     "name": "stdout",
     "output_type": "stream",
     "text": [
      "3\n",
      "4 B 2 O 1 O 2 B 4\n",
      "#1 6\n",
      "3 B 5 B 8 O 100\n",
      "#2 100\n",
      "2 O 2 O 1\n",
      "#3 4\n"
     ]
    }
   ],
   "source": [
    "for tc in range(1, int(input())+1):\n",
    "    commands = input().split()\n",
    "    total = 0\n",
    "    \n",
    "    bp, op = 1, 1 # 위치\n",
    "    bw, ow = 0, 0 # 대기 시간\n",
    "    \n",
    "    for i in range(1, len(commands), 2):\n",
    "        if commands[i] == 'B':\n",
    "            button = int(commands[i+1])\n",
    "            s = max(0, abs(button - bp) - bw) + 1\n",
    "            bp = button\n",
    "            bw = 0\n",
    "            ow += s\n",
    "        elif commands[i] == 'O':\n",
    "            button = int(commands[i+1])\n",
    "            s = max(0, abs(button - op) - ow) + 1\n",
    "            op = button\n",
    "            ow = 0\n",
    "            bw += s\n",
    "        total += s\n",
    "    print(f'#{tc} {total}')"
   ]
  }
 ],
 "metadata": {
  "kernelspec": {
   "display_name": "Python 3 (ipykernel)",
   "language": "python",
   "name": "python3"
  },
  "language_info": {
   "codemirror_mode": {
    "name": "ipython",
    "version": 3
   },
   "file_extension": ".py",
   "mimetype": "text/x-python",
   "name": "python",
   "nbconvert_exporter": "python",
   "pygments_lexer": "ipython3",
   "version": "3.9.12"
  }
 },
 "nbformat": 4,
 "nbformat_minor": 5
}
