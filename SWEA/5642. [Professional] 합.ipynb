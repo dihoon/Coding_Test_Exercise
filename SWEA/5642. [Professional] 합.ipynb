{
 "cells": [
  {
   "cell_type": "markdown",
   "id": "21fb3ef0",
   "metadata": {},
   "source": [
    "[Professional] 합 https://swexpertacademy.com/main/code/problem/problemDetail.do?problemLevel=3&contestProbId=AWXQm2SqdxkDFAUo&categoryId=AWXQm2SqdxkDFAUo&categoryType=CODE&problemTitle=&orderBy=PASS_RATE&selectCodeLang=PYTHON&select-1=3&pageSize=10&pageIndex=10"
   ]
  },
  {
   "cell_type": "code",
   "execution_count": 10,
   "id": "67c6c527",
   "metadata": {},
   "outputs": [
    {
     "name": "stdout",
     "output_type": "stream",
     "text": [
      "1\n",
      "5\n",
      "1 3 -8 18 -8\n",
      "#1 18\n"
     ]
    }
   ],
   "source": [
    "for tc in range(1, int(input())+1):\n",
    "    N = int(input())\n",
    "    lst = list(map(int, input().split()))\n",
    "    dp = [0]*N\n",
    "    dp[0] = lst[0]\n",
    "    for i in range(1,N):\n",
    "        dp[i] = max(dp[i-1]+lst[i], lst[i])\n",
    "    print('#{} {}'.format(tc, max(dp)))"
   ]
  },
  {
   "cell_type": "code",
   "execution_count": null,
   "id": "5e2f8c09",
   "metadata": {},
   "outputs": [],
   "source": []
  }
 ],
 "metadata": {
  "kernelspec": {
   "display_name": "Python 3 (ipykernel)",
   "language": "python",
   "name": "python3"
  },
  "language_info": {
   "codemirror_mode": {
    "name": "ipython",
    "version": 3
   },
   "file_extension": ".py",
   "mimetype": "text/x-python",
   "name": "python",
   "nbconvert_exporter": "python",
   "pygments_lexer": "ipython3",
   "version": "3.9.12"
  }
 },
 "nbformat": 4,
 "nbformat_minor": 5
}
