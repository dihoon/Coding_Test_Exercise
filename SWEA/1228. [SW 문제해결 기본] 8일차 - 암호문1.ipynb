{
 "cells": [
  {
   "cell_type": "markdown",
   "id": "2b6e828a",
   "metadata": {},
   "source": [
    "[S/W 문제해결 기본] 8일차 - 암호문1 https://swexpertacademy.com/main/code/problem/problemDetail.do?problemLevel=3&contestProbId=AV14w-rKAHACFAYD&categoryId=AV14w-rKAHACFAYD&categoryType=CODE&problemTitle=&orderBy=RECOMMEND_COUNT&selectCodeLang=PYTHON&select-1=3&pageSize=10&pageIndex=3"
   ]
  },
  {
   "cell_type": "code",
   "execution_count": null,
   "id": "a364aaef",
   "metadata": {},
   "outputs": [],
   "source": [
    "for tc in range(1, 11):\n",
    "    N = int(input())\n",
    "    code = input().split()\n",
    "    number = int(input())\n",
    "    commands = input().split()\n",
    "\n",
    "    cnt = 1\n",
    "    idx = 0\n",
    "    command = []\n",
    "    while cnt<=number:\n",
    "        if commands[idx] == 'I':\n",
    "            command = commands[idx:idx+3+int(commands[idx+2])]\n",
    "        idx = idx+3+int(commands[idx+2])\n",
    "        for num in range(int(command[2])):\n",
    "            code.insert(int(command[1])+num, command[3+num])\n",
    "        command.clear()\n",
    "        cnt+=1\n",
    "    print(f'#{tc}', *code[:10])"
   ]
  }
 ],
 "metadata": {
  "kernelspec": {
   "display_name": "Python 3 (ipykernel)",
   "language": "python",
   "name": "python3"
  },
  "language_info": {
   "codemirror_mode": {
    "name": "ipython",
    "version": 3
   },
   "file_extension": ".py",
   "mimetype": "text/x-python",
   "name": "python",
   "nbconvert_exporter": "python",
   "pygments_lexer": "ipython3",
   "version": "3.9.7"
  }
 },
 "nbformat": 4,
 "nbformat_minor": 5
}
