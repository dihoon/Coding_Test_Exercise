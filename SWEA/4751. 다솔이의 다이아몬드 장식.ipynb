{
 "cells": [
  {
   "cell_type": "markdown",
   "id": "4b9027ed",
   "metadata": {},
   "source": [
    "다솔이의 다이아몬드 장식 https://swexpertacademy.com/main/code/problem/problemDetail.do?problemLevel=3&contestProbId=AWSNw5jKzwMDFAUr&categoryId=AWSNw5jKzwMDFAUr&categoryType=CODE&problemTitle=&orderBy=PASS_RATE&selectCodeLang=PYTHON&select-1=3&pageSize=10&pageIndex=2"
   ]
  },
  {
   "cell_type": "code",
   "execution_count": 7,
   "id": "a3cbe3bd",
   "metadata": {},
   "outputs": [
    {
     "name": "stdout",
     "output_type": "stream",
     "text": [
      "2\n",
      "D\n",
      "..#..\n",
      ".#.#.\n",
      "#.D.#\n",
      ".#.#.\n",
      "..#..\n",
      "APPLE\n",
      "..#...#...#...#...#..\n",
      ".#.#.#.#.#.#.#.#.#.#.\n",
      "#.A.#.P.#.P.#.L.#.E.#\n",
      ".#.#.#.#.#.#.#.#.#.#.\n",
      "..#...#...#...#...#..\n"
     ]
    }
   ],
   "source": [
    "for tc in range(1, int(input())+1):\n",
    "    st = input()\n",
    "    length = len(st)\n",
    "    print('..#.' * length + '.')\n",
    "    print('.#' * length * 2 + '.')\n",
    "    for i in range(length):\n",
    "        print(f'#.{st[i]}.', end='')\n",
    "    print('#')\n",
    "    print('.#' * length * 2 + '.')\n",
    "    print('..#.' * length + '.')\n",
    "    "
   ]
  }
 ],
 "metadata": {
  "kernelspec": {
   "display_name": "Python 3 (ipykernel)",
   "language": "python",
   "name": "python3"
  },
  "language_info": {
   "codemirror_mode": {
    "name": "ipython",
    "version": 3
   },
   "file_extension": ".py",
   "mimetype": "text/x-python",
   "name": "python",
   "nbconvert_exporter": "python",
   "pygments_lexer": "ipython3",
   "version": "3.9.12"
  }
 },
 "nbformat": 4,
 "nbformat_minor": 5
}
