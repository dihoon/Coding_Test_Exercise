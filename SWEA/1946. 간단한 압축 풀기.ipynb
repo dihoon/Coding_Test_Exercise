{
 "cells": [
  {
   "cell_type": "markdown",
   "id": "604e7d9d",
   "metadata": {},
   "source": [
    "간단한 압축 풀기 https://swexpertacademy.com/main/solvingProblem/solvingProblem.do"
   ]
  },
  {
   "cell_type": "code",
   "execution_count": 1,
   "id": "81de2fa3",
   "metadata": {},
   "outputs": [
    {
     "name": "stdout",
     "output_type": "stream",
     "text": [
      "1\n",
      "3\n",
      "A 10\n",
      "B 7\n",
      "C 5\n",
      "#1\n",
      "AAAAAAAAAA\n",
      "BBBBBBBCCC\n",
      "CC\n"
     ]
    }
   ],
   "source": [
    "for test_case in range(1, int(input())+1):\n",
    "    st = ''\n",
    "    for i in range(int(input())):\n",
    "        char, num = input().split()\n",
    "        num = int(num)\n",
    "        st += char*num\n",
    "    print(f'#{test_case}')\n",
    "    cnt = len(st)//10\n",
    "    for i in range(cnt):\n",
    "        print(st[10*i:10*(1+i)])\n",
    "    print(st[10*(1+i):])"
   ]
  },
  {
   "cell_type": "code",
   "execution_count": null,
   "id": "974aa86b",
   "metadata": {},
   "outputs": [],
   "source": []
  }
 ],
 "metadata": {
  "kernelspec": {
   "display_name": "Python 3 (ipykernel)",
   "language": "python",
   "name": "python3"
  },
  "language_info": {
   "codemirror_mode": {
    "name": "ipython",
    "version": 3
   },
   "file_extension": ".py",
   "mimetype": "text/x-python",
   "name": "python",
   "nbconvert_exporter": "python",
   "pygments_lexer": "ipython3",
   "version": "3.9.7"
  }
 },
 "nbformat": 4,
 "nbformat_minor": 5
}
