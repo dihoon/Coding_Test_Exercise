{
 "cells": [
  {
   "cell_type": "markdown",
   "id": "0d36b857",
   "metadata": {},
   "source": [
    "파리 퇴치 https://swexpertacademy.com/main/solvingProblem/solvingProblem.do"
   ]
  },
  {
   "cell_type": "code",
   "execution_count": 27,
   "id": "f6922117",
   "metadata": {},
   "outputs": [
    {
     "name": "stdout",
     "output_type": "stream",
     "text": [
      "1\n",
      "5 2\n",
      "1 3 3 6 7\n",
      "8 13 9 12 8\n",
      "4 16 11 12 6\n",
      "2 4 1 23 2\n",
      "9 13 4 7 3\n",
      "#1 49\n"
     ]
    }
   ],
   "source": [
    "T = int(input())\n",
    "\n",
    "for test_case in range(1, T+1):\n",
    "    N, M = map(int, input().split())\n",
    "    matrix = []\n",
    "    for i in range(N): \n",
    "        matrix.append(list(map(int, input().split())))  \n",
    "    max = 0\n",
    "    for i in range(N-M+1):\n",
    "        for j in range(N-M+1):\n",
    "            result = []\n",
    "            for k in range(M):\n",
    "                for l in range(M):\n",
    "                    result.append(matrix[k+i][l+j])\n",
    "            if max < sum(result):\n",
    "                max = sum(result)                \n",
    "    print(f'#{test_case}', max)"
   ]
  }
 ],
 "metadata": {
  "kernelspec": {
   "display_name": "Python 3 (ipykernel)",
   "language": "python",
   "name": "python3"
  },
  "language_info": {
   "codemirror_mode": {
    "name": "ipython",
    "version": 3
   },
   "file_extension": ".py",
   "mimetype": "text/x-python",
   "name": "python",
   "nbconvert_exporter": "python",
   "pygments_lexer": "ipython3",
   "version": "3.9.7"
  }
 },
 "nbformat": 4,
 "nbformat_minor": 5
}
