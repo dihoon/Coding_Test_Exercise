{
 "cells": [
  {
   "cell_type": "markdown",
   "id": "61f25131",
   "metadata": {},
   "source": [
    "날짜 계산기 https://swexpertacademy.com/main/solvingProblem/solvingProblem.do"
   ]
  },
  {
   "cell_type": "code",
   "execution_count": 1,
   "id": "9009a328",
   "metadata": {},
   "outputs": [
    {
     "name": "stdout",
     "output_type": "stream",
     "text": [
      "3\n",
      "3 1 3 31\n",
      "#1 31\n",
      "5 5 8 15\n",
      "#2 103\n",
      "7 17 12 24\n",
      "#3 161\n"
     ]
    }
   ],
   "source": [
    "for test_case in range(1, int(input())+1):\n",
    "    m1, d1, m2, d2 = map(int, input().split())\n",
    "    lasts = [0,31,28,31,30,31,30,31,31,30,31,30,31]\n",
    "    if m1 < m2:\n",
    "        gap = m2 - m1\n",
    "        result = lasts[m1]-d1+1\n",
    "        for i in range(1, gap):\n",
    "            result += lasts[m1+i]\n",
    "        result += d2\n",
    "    else:\n",
    "        result = d2 - d1 +1\n",
    "    print(f'#{test_case}', result)"
   ]
  },
  {
   "cell_type": "code",
   "execution_count": null,
   "id": "a81646d1",
   "metadata": {},
   "outputs": [],
   "source": []
  }
 ],
 "metadata": {
  "kernelspec": {
   "display_name": "Python 3 (ipykernel)",
   "language": "python",
   "name": "python3"
  },
  "language_info": {
   "codemirror_mode": {
    "name": "ipython",
    "version": 3
   },
   "file_extension": ".py",
   "mimetype": "text/x-python",
   "name": "python",
   "nbconvert_exporter": "python",
   "pygments_lexer": "ipython3",
   "version": "3.9.7"
  }
 },
 "nbformat": 4,
 "nbformat_minor": 5
}
