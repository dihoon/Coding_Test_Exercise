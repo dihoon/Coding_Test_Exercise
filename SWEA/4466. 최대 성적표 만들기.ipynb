{
 "cells": [
  {
   "cell_type": "markdown",
   "id": "7e982690",
   "metadata": {},
   "source": [
    "최대 성적표 만들기 https://swexpertacademy.com/main/code/problem/problemDetail.do?problemLevel=3&contestProbId=AWOUfCJ6qVMDFAWg&categoryId=AWOUfCJ6qVMDFAWg&categoryType=CODE&problemTitle=&orderBy=RECOMMEND_COUNT&selectCodeLang=PYTHON&select-1=3&pageSize=10&pageIndex=5"
   ]
  },
  {
   "cell_type": "code",
   "execution_count": 1,
   "id": "c83bda53",
   "metadata": {},
   "outputs": [
    {
     "name": "stdout",
     "output_type": "stream",
     "text": [
      "2\n",
      "3 1\n",
      "100 90 80\n",
      "#1 100\n",
      "3 2\n",
      "100 90 80\n",
      "#2 190\n"
     ]
    }
   ],
   "source": [
    "for tc in range(1, int(input())+1):\n",
    "    N, K = map(int, input().split())\n",
    "    lst = sorted(list(map(int, input().split())), reverse=True)\n",
    "    print(f'#{tc}', sum(lst[:K]))"
   ]
  },
  {
   "cell_type": "code",
   "execution_count": null,
   "id": "feb1043e",
   "metadata": {},
   "outputs": [],
   "source": []
  }
 ],
 "metadata": {
  "kernelspec": {
   "display_name": "Python 3 (ipykernel)",
   "language": "python",
   "name": "python3"
  },
  "language_info": {
   "codemirror_mode": {
    "name": "ipython",
    "version": 3
   },
   "file_extension": ".py",
   "mimetype": "text/x-python",
   "name": "python",
   "nbconvert_exporter": "python",
   "pygments_lexer": "ipython3",
   "version": "3.9.12"
  }
 },
 "nbformat": 4,
 "nbformat_minor": 5
}
