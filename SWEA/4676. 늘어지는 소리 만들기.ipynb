{
 "cells": [
  {
   "cell_type": "markdown",
   "id": "35838814",
   "metadata": {},
   "source": [
    "늘어지는 소리 만들기 https://swexpertacademy.com/main/code/problem/problemDetail.do?problemLevel=3&contestProbId=AWRKWITqfvIDFAV8&categoryId=AWRKWITqfvIDFAV8&categoryType=CODE&problemTitle=&orderBy=PASS_RATE&selectCodeLang=PYTHON&select-1=3&pageSize=10&pageIndex=5"
   ]
  },
  {
   "cell_type": "code",
   "execution_count": 8,
   "id": "4f98a6e2",
   "metadata": {},
   "outputs": [
    {
     "name": "stdout",
     "output_type": "stream",
     "text": [
      "2\n",
      "wow\n",
      "3\n",
      "2 3 2\n",
      "#1 wo--w-\n",
      "hoi\n",
      "3\n",
      "0 0 0\n",
      "#2 ---hoi\n"
     ]
    }
   ],
   "source": [
    "for tc in range(1, int(input())+1):\n",
    "    st = input()\n",
    "    H = int(input())\n",
    "    L = len(st)\n",
    "    result = ''\n",
    "    indices = list(map(int, input().split()))\n",
    "    elements = set(indices)\n",
    "    \n",
    "    for i in range(L+1):\n",
    "        cnt = 0\n",
    "        if i in elements:\n",
    "            cnt = indices.count(i)\n",
    "        if i != L:\n",
    "            result += '-'*cnt + st[i]\n",
    "        else:\n",
    "            result += '-'*cnt\n",
    "    print(f'#{tc}', result)"
   ]
  }
 ],
 "metadata": {
  "kernelspec": {
   "display_name": "Python 3 (ipykernel)",
   "language": "python",
   "name": "python3"
  },
  "language_info": {
   "codemirror_mode": {
    "name": "ipython",
    "version": 3
   },
   "file_extension": ".py",
   "mimetype": "text/x-python",
   "name": "python",
   "nbconvert_exporter": "python",
   "pygments_lexer": "ipython3",
   "version": "3.9.12"
  }
 },
 "nbformat": 4,
 "nbformat_minor": 5
}
