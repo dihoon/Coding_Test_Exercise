{
 "cells": [
  {
   "cell_type": "markdown",
   "id": "e87ae78d",
   "metadata": {},
   "source": [
    "시각 덧셈 https://swexpertacademy.com/main/solvingProblem/solvingProblem.do"
   ]
  },
  {
   "cell_type": "code",
   "execution_count": 3,
   "id": "712ae538",
   "metadata": {},
   "outputs": [
    {
     "name": "stdout",
     "output_type": "stream",
     "text": [
      "3\n",
      "3 17 1 39\n",
      "#1 4 56\n",
      "8 22 5 10\n",
      "#2 1 32\n",
      "6 53 2 12\n",
      "#3 9 5\n"
     ]
    }
   ],
   "source": [
    "T = int(input())\n",
    "for test_case in range(1, T+1):\n",
    "    h1, m1, h2, m2 = map(int, input().split())\n",
    "    if m1 + m2 > 59:\n",
    "        carry = 1\n",
    "        m = m1 + m2 - 60\n",
    "    else:\n",
    "        m = m1 + m2\n",
    "        carry = 0\n",
    "    if h1 + h2 + carry > 12:\n",
    "        h = h1 + h2 + carry - 12\n",
    "    else:\n",
    "        h = h1 + h2 + carry\n",
    "    print(f'#{test_case}', h, m)"
   ]
  },
  {
   "cell_type": "code",
   "execution_count": null,
   "id": "2c8736d6",
   "metadata": {},
   "outputs": [],
   "source": []
  }
 ],
 "metadata": {
  "kernelspec": {
   "display_name": "Python 3 (ipykernel)",
   "language": "python",
   "name": "python3"
  },
  "language_info": {
   "codemirror_mode": {
    "name": "ipython",
    "version": 3
   },
   "file_extension": ".py",
   "mimetype": "text/x-python",
   "name": "python",
   "nbconvert_exporter": "python",
   "pygments_lexer": "ipython3",
   "version": "3.9.7"
  }
 },
 "nbformat": 4,
 "nbformat_minor": 5
}
