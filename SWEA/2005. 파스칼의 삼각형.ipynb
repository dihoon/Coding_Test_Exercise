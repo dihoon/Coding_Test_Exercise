{
 "cells": [
  {
   "cell_type": "markdown",
   "id": "a01fe027",
   "metadata": {},
   "source": [
    "파스칼의 삼각형 https://swexpertacademy.com/main/solvingProblem/solvingProblem.do"
   ]
  },
  {
   "cell_type": "code",
   "execution_count": 20,
   "id": "2dd034c6",
   "metadata": {},
   "outputs": [
    {
     "name": "stdout",
     "output_type": "stream",
     "text": [
      "1\n",
      "4\n",
      "#1\n",
      "1 \n",
      "1 1 \n",
      "1 2 1 \n",
      "1 3 3 1 \n"
     ]
    }
   ],
   "source": [
    "T = int(input())\n",
    "\n",
    "for test_case in range(1, T+1):\n",
    "    lst = [0]+[1]+[0]*10 # index 0 ~ 11\n",
    "    N = int(input())\n",
    "    print(f'#{test_case}')\n",
    "    for i in range(1, N+1):\n",
    "        if i == 1:\n",
    "            temp = lst[:]\n",
    "        else:\n",
    "            for j in range(1,i+1):\n",
    "                temp[j] = lst[j-1] + lst[j]\n",
    "            lst = temp[:]\n",
    "        for num in lst[1:i+1]:\n",
    "            print(num, end=' ')\n",
    "        print()"
   ]
  },
  {
   "cell_type": "markdown",
   "id": "aa14ad85",
   "metadata": {},
   "source": [
    "1 [1]\n",
    "2 [1, 1] 이전 리스트[현재 인덱스-1] + 이전 리스트[현재 인덱스]\n",
    "3 [1, 2, 1]\n",
    "4 [1, 3, 3, 1]"
   ]
  },
  {
   "cell_type": "code",
   "execution_count": 44,
   "id": "41774a5c",
   "metadata": {},
   "outputs": [
    {
     "name": "stdout",
     "output_type": "stream",
     "text": [
      "1\n",
      "4\n",
      "#1\n",
      "1 \n",
      "1 1 \n",
      "1 2 1 \n",
      "1 3 3 1 \n"
     ]
    }
   ],
   "source": [
    "T = int(input())\n",
    "\n",
    "for test_case in range(1, T+1):\n",
    "    N = int(input())\n",
    "    print(f'#{test_case}')\n",
    "    for i in range(1, N+1):\n",
    "        lst = [1]*i\n",
    "        if i>=3:\n",
    "            if i==3:\n",
    "                temp = lst[:]\n",
    "            for j in range(1,i-1):\n",
    "                lst[j] = temp[j-1] + temp[j]\n",
    "            temp = lst[:]\n",
    "        for num in lst:\n",
    "            print(num, end=' ')\n",
    "        print()"
   ]
  },
  {
   "cell_type": "code",
   "execution_count": 70,
   "id": "0123df52",
   "metadata": {},
   "outputs": [
    {
     "name": "stdout",
     "output_type": "stream",
     "text": [
      "1\n",
      "4\n",
      "#1\n",
      "1 \n",
      "1 1 \n",
      "1 2 1 \n",
      "1 3 3 1 \n"
     ]
    }
   ],
   "source": [
    "T = int(input())\n",
    "\n",
    "for test_case in range(1, T+1):\n",
    "    N = int(input())\n",
    "    print(f'#{test_case}')\n",
    "    for i in range(1, N+1):\n",
    "        base = [1]*i\n",
    "        if i == 1:\n",
    "            former = base[:]\n",
    "        else:\n",
    "            temp = [0] + former + [0]\n",
    "            for j in range(1, i):\n",
    "                base[j] = temp[j] + temp[j+1]\n",
    "            former = base[:]\n",
    "        for num in former:\n",
    "            print(num, end=' ')\n",
    "        print()"
   ]
  },
  {
   "cell_type": "code",
   "execution_count": null,
   "id": "9002e50b",
   "metadata": {},
   "outputs": [],
   "source": []
  }
 ],
 "metadata": {
  "kernelspec": {
   "display_name": "Python 3 (ipykernel)",
   "language": "python",
   "name": "python3"
  },
  "language_info": {
   "codemirror_mode": {
    "name": "ipython",
    "version": 3
   },
   "file_extension": ".py",
   "mimetype": "text/x-python",
   "name": "python",
   "nbconvert_exporter": "python",
   "pygments_lexer": "ipython3",
   "version": "3.9.7"
  }
 },
 "nbformat": 4,
 "nbformat_minor": 5
}
