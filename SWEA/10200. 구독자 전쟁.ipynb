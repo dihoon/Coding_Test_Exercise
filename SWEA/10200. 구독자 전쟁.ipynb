{
 "cells": [
  {
   "cell_type": "markdown",
   "id": "366f5cc0",
   "metadata": {},
   "source": [
    "구독자 전쟁 https://swexpertacademy.com/main/code/problem/problemDetail.do?problemLevel=3&contestProbId=AXMCXV_qVgkDFAWv&categoryId=AXMCXV_qVgkDFAWv&categoryType=CODE&problemTitle=&orderBy=PASS_RATE&selectCodeLang=PYTHON&select-1=3&pageSize=10&pageIndex=4"
   ]
  },
  {
   "cell_type": "code",
   "execution_count": 3,
   "id": "312732cf",
   "metadata": {},
   "outputs": [
    {
     "name": "stdout",
     "output_type": "stream",
     "text": [
      "3\n",
      "10 3 5\n",
      "#1 3 0\n",
      "10 7 5\n",
      "#2 5 2\n",
      "100 100 100\n",
      "#3 100 100\n"
     ]
    }
   ],
   "source": [
    "for tc in range(1, int(input())+1):\n",
    "    N, A, B = map(int, input().split())\n",
    "    mx = min(A, B)\n",
    "    if N >= A + B:\n",
    "        mn = 0\n",
    "    else:\n",
    "        mn = min(A,B)-(N - max(A,B))\n",
    "    print(f'#{tc} {mx} {mn}')"
   ]
  },
  {
   "cell_type": "code",
   "execution_count": null,
   "id": "18be9f9e",
   "metadata": {},
   "outputs": [],
   "source": []
  }
 ],
 "metadata": {
  "kernelspec": {
   "display_name": "Python 3 (ipykernel)",
   "language": "python",
   "name": "python3"
  },
  "language_info": {
   "codemirror_mode": {
    "name": "ipython",
    "version": 3
   },
   "file_extension": ".py",
   "mimetype": "text/x-python",
   "name": "python",
   "nbconvert_exporter": "python",
   "pygments_lexer": "ipython3",
   "version": "3.9.12"
  }
 },
 "nbformat": 4,
 "nbformat_minor": 5
}
