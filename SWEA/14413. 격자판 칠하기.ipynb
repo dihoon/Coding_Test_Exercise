{
 "cells": [
  {
   "cell_type": "markdown",
   "id": "3feec733",
   "metadata": {},
   "source": [
    "격자판 칠하기 https://swexpertacademy.com/main/code/problem/problemDetail.do?problemLevel=3&contestProbId=AYEXgKnKKg0DFARx&categoryId=AYEXgKnKKg0DFARx&categoryType=CODE&problemTitle=&orderBy=PASS_RATE&selectCodeLang=PYTHON&select-1=3&pageSize=10&pageIndex=10"
   ]
  },
  {
   "cell_type": "code",
   "execution_count": 10,
   "id": "08c8ad58",
   "metadata": {},
   "outputs": [
    {
     "name": "stdout",
     "output_type": "stream",
     "text": [
      "3\n",
      "3 6\n",
      "#.????\n",
      "?#????\n",
      "???.??\n",
      "1 6\n",
      "##????\n",
      "3 3\n",
      ".#.\n",
      "#?#\n",
      ".#.\n",
      "#1 possible\n",
      "#2 impossible\n",
      "#3 possible\n"
     ]
    }
   ],
   "source": [
    "answer = []\n",
    "for tc in range(1, int(input())+1):\n",
    "    N, M = map(int, input().split())\n",
    "    A = [input() for _ in range(N)]\n",
    "    odd = set([])\n",
    "    even = set([])\n",
    "    result = 'possible'\n",
    "    for i in range(N):\n",
    "        for j in range(M):\n",
    "            if (i+j)%2 == 0:\n",
    "                if A[i][j] not in even:\n",
    "                    even.add(A[i][j])\n",
    "            else:\n",
    "                if A[i][j] not in odd:\n",
    "                    odd.add(A[i][j])\n",
    "        common = even&odd\n",
    "        if '#' in common or '.' in common:\n",
    "            result = 'impossible'\n",
    "            break\n",
    "        if '#' in odd and '.' in odd:\n",
    "            result = 'impossible'\n",
    "            break\n",
    "        if '#' in even and '.' in even:\n",
    "            result = 'impossible'\n",
    "            break\n",
    "    answer.append('#{} {}'.format(tc, result))\n",
    "print('\\n'.join(answer))"
   ]
  },
  {
   "cell_type": "code",
   "execution_count": null,
   "id": "5fbca640",
   "metadata": {},
   "outputs": [],
   "source": []
  }
 ],
 "metadata": {
  "kernelspec": {
   "display_name": "Python 3 (ipykernel)",
   "language": "python",
   "name": "python3"
  },
  "language_info": {
   "codemirror_mode": {
    "name": "ipython",
    "version": 3
   },
   "file_extension": ".py",
   "mimetype": "text/x-python",
   "name": "python",
   "nbconvert_exporter": "python",
   "pygments_lexer": "ipython3",
   "version": "3.9.12"
  }
 },
 "nbformat": 4,
 "nbformat_minor": 5
}
