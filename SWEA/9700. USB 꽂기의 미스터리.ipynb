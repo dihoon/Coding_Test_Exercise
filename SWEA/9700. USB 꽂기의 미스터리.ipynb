{
 "cells": [
  {
   "cell_type": "markdown",
   "id": "5df3774b",
   "metadata": {},
   "source": [
    "USB 꽂기의 미스터리 https://swexpertacademy.com/main/code/problem/problemDetail.do?problemLevel=3&contestProbId=AXDNEA3aaU0DFAVX&categoryId=AXDNEA3aaU0DFAVX&categoryType=CODE&problemTitle=&orderBy=PASS_RATE&selectCodeLang=PYTHON&select-1=3&pageSize=10&pageIndex=3"
   ]
  },
  {
   "cell_type": "code",
   "execution_count": 2,
   "id": "39b38812",
   "metadata": {},
   "outputs": [
    {
     "name": "stdout",
     "output_type": "stream",
     "text": [
      "2\n",
      "0.8 0.5\n",
      "#1 YES\n",
      "0.6 0.5\n",
      "#2 NO\n"
     ]
    }
   ],
   "source": [
    "for tc in range(1, int(input())+1):\n",
    "    p, q = map(float, input().split()) \n",
    "    first = (1-p)*q # 처음에 뒤집은면 \n",
    "    second = p*(1-q)*1*q # 처음에 올바른면 \n",
    "    if first < second:\n",
    "        result = 'YES'\n",
    "    else:\n",
    "        result = 'NO'\n",
    "    print(f'#{tc}', result)"
   ]
  },
  {
   "cell_type": "code",
   "execution_count": null,
   "id": "eae7f209",
   "metadata": {},
   "outputs": [],
   "source": []
  }
 ],
 "metadata": {
  "kernelspec": {
   "display_name": "Python 3 (ipykernel)",
   "language": "python",
   "name": "python3"
  },
  "language_info": {
   "codemirror_mode": {
    "name": "ipython",
    "version": 3
   },
   "file_extension": ".py",
   "mimetype": "text/x-python",
   "name": "python",
   "nbconvert_exporter": "python",
   "pygments_lexer": "ipython3",
   "version": "3.9.12"
  }
 },
 "nbformat": 4,
 "nbformat_minor": 5
}
