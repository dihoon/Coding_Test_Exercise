{
 "cells": [
  {
   "cell_type": "markdown",
   "id": "840a7e25",
   "metadata": {},
   "source": [
    "백만 장자 프로젝트 https://swexpertacademy.com/main/solvingProblem/solvingProblem.do|"
   ]
  },
  {
   "cell_type": "code",
   "execution_count": 52,
   "id": "8bd64332",
   "metadata": {
    "scrolled": false
   },
   "outputs": [
    {
     "name": "stdout",
     "output_type": "stream",
     "text": [
      "1\n",
      "3\n",
      "10 9 7\n",
      "#1 0\n"
     ]
    }
   ],
   "source": [
    "T = int(input())\n",
    "\n",
    "for test_case in range(1, T+1): \n",
    "    profit = 0\n",
    "    N = int(input())\n",
    "    prices = [i for i in list(map(int, input().split()))]\n",
    "    for i in range(N):\n",
    "        max_value = max(prices[i:])\n",
    "        if max_value>prices[i]:\n",
    "            profit+=max_value-prices[i]\n",
    "        else:\n",
    "            pass\n",
    "    print(f'#{test_case}', profit)"
   ]
  },
  {
   "cell_type": "markdown",
   "id": "9a4f7ab8",
   "metadata": {},
   "source": [
    "위 방식은 시간 초과 문제가 발생한다. max -> O(N) 으로 테스트 for문을 제외하면 $O(N^2)$ 이기 때문에 시간도 오래 걸린다."
   ]
  },
  {
   "cell_type": "code",
   "execution_count": 36,
   "id": "d2a19237",
   "metadata": {
    "scrolled": true
   },
   "outputs": [
    {
     "name": "stdout",
     "output_type": "stream",
     "text": [
      "3\n",
      "3\n",
      "10 7 6\n",
      "#1 0\n",
      "3\n",
      "3 5 9\n",
      "#2 10\n",
      "5\n",
      "1 1 3 1 2\n",
      "#3 5\n"
     ]
    }
   ],
   "source": [
    "T = int(input())\n",
    "\n",
    "for test_case in range(1, T+1): \n",
    "    profit = 0\n",
    "    N = int(input())\n",
    "    prices = [i for i in list(map(int, input().split()))]\n",
    "    optimal = prices[-1]\n",
    "    for i in range(N-1, -1, -1):\n",
    "        if optimal > prices[i]:\n",
    "            profit += optimal - prices[i]\n",
    "        else:\n",
    "            optimal = prices[i]\n",
    "        \n",
    "    print(f'#{test_case}', profit)"
   ]
  },
  {
   "cell_type": "markdown",
   "id": "6a7496d4",
   "metadata": {},
   "source": [
    "for문을 한 번 수행하면서 판매 시점을 갱신하면서 수익을 계산하는 방식"
   ]
  },
  {
   "cell_type": "code",
   "execution_count": null,
   "id": "0ed17721",
   "metadata": {},
   "outputs": [],
   "source": []
  }
 ],
 "metadata": {
  "kernelspec": {
   "display_name": "Python 3 (ipykernel)",
   "language": "python",
   "name": "python3"
  },
  "language_info": {
   "codemirror_mode": {
    "name": "ipython",
    "version": 3
   },
   "file_extension": ".py",
   "mimetype": "text/x-python",
   "name": "python",
   "nbconvert_exporter": "python",
   "pygments_lexer": "ipython3",
   "version": "3.9.7"
  }
 },
 "nbformat": 4,
 "nbformat_minor": 5
}
