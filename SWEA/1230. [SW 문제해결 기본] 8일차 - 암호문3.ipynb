{
 "cells": [
  {
   "cell_type": "markdown",
   "id": "d7892540",
   "metadata": {},
   "source": [
    "[S/W 문제해결 기본] 8일차 - 암호문3 https://swexpertacademy.com/main/code/problem/problemDetail.do?problemLevel=3&contestProbId=AV14zIwqAHwCFAYD&categoryId=AV14zIwqAHwCFAYD&categoryType=CODE&problemTitle=&orderBy=RECOMMEND_COUNT&selectCodeLang=PYTHON&select-1=3&pageSize=10&pageIndex=3"
   ]
  },
  {
   "cell_type": "code",
   "execution_count": null,
   "id": "aaa17591",
   "metadata": {},
   "outputs": [],
   "source": [
    "for tc in range(1, 11):\n",
    "    N = int(input()) # 암호문 길이\n",
    "    code = input().split() # 암호문\n",
    "    number = int(input()) # 명령어 개수\n",
    "    commands = input().split() # 명령어\n",
    "\n",
    "    # 명령어 구분해서 읽기\n",
    "    idx = 0\n",
    "    for i in range(number):\n",
    "        command = []\n",
    "        if commands[idx] == 'I':\n",
    "            for j in range(idx, idx+3+int(commands[idx+2])):\n",
    "                command.append(commands[j])\n",
    "            for k in range(int(command[2])):\n",
    "                code.insert(int(command[1])+k, command[3+k])\n",
    "            idx += 3 + int(commands[idx+2])\n",
    "        elif commands[idx] == 'D':\n",
    "            for j in range(idx, idx+3):\n",
    "                command.append(commands[j])\n",
    "            del code[int(command[1]):int(command[1])+int(command[2])]\n",
    "            idx += 3\n",
    "        elif commands[idx] == 'A':\n",
    "            for j in range(idx, idx+2+int(commands[idx+1])):\n",
    "                command.append(commands[j])\n",
    "            for j in range(int(command[1])):\n",
    "                code.append(command[2+j])\n",
    "            idx += 2+int(commands[idx+1])\n",
    "    print(f'#{tc}', *code[:10])"
   ]
  },
  {
   "cell_type": "code",
   "execution_count": null,
   "id": "cf4d4b23",
   "metadata": {},
   "outputs": [],
   "source": []
  }
 ],
 "metadata": {
  "kernelspec": {
   "display_name": "Python 3 (ipykernel)",
   "language": "python",
   "name": "python3"
  },
  "language_info": {
   "codemirror_mode": {
    "name": "ipython",
    "version": 3
   },
   "file_extension": ".py",
   "mimetype": "text/x-python",
   "name": "python",
   "nbconvert_exporter": "python",
   "pygments_lexer": "ipython3",
   "version": "3.9.7"
  }
 },
 "nbformat": 4,
 "nbformat_minor": 5
}
