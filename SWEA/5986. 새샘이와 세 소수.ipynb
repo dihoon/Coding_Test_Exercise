{
 "cells": [
  {
   "cell_type": "markdown",
   "id": "6dd0bd43",
   "metadata": {},
   "source": [
    "새샘이와 세 소수 https://swexpertacademy.com/main/code/problem/problemDetail.do?problemLevel=3&contestProbId=AWaJ3q8qV-4DFAUQ&categoryId=AWaJ3q8qV-4DFAUQ&categoryType=CODE&problemTitle=&orderBy=PASS_RATE&selectCodeLang=PYTHON&select-1=3&pageSize=10&pageIndex=8"
   ]
  },
  {
   "cell_type": "code",
   "execution_count": 30,
   "id": "2be6310d",
   "metadata": {
    "scrolled": true
   },
   "outputs": [
    {
     "name": "stdout",
     "output_type": "stream",
     "text": [
      "3\n",
      "7\n",
      "#1 1\n",
      "11\n",
      "#2 2\n",
      "25\n",
      "#3 5\n"
     ]
    }
   ],
   "source": [
    "def prime(a):\n",
    "    lst = []\n",
    "    for i in range(2, a+1):\n",
    "        for j in range(2, i):\n",
    "            if i % j == 0:\n",
    "                break\n",
    "        else:\n",
    "            lst.append(i)\n",
    "    return lst\n",
    "\n",
    "lst = prime(999)\n",
    "\n",
    "for tc in range(1, int(input())+1):\n",
    "    N = int(input())\n",
    "    cnt = 0\n",
    "    \n",
    "    for i in range(len(lst)):\n",
    "        if lst[i] > N-4:\n",
    "            break\n",
    "        for j in range(i, len(lst)):\n",
    "            if lst[j] > N-lst[i]-2:\n",
    "                break\n",
    "            for k in range(j, len(lst)):\n",
    "                if lst[k] > N-lst[i]-lst[j]:\n",
    "                    break\n",
    "\n",
    "                if lst[i] + lst[j] + lst[k] == N:\n",
    "                    cnt+=1\n",
    "                    break\n",
    "    print(f'#{tc} {cnt}')"
   ]
  }
 ],
 "metadata": {
  "kernelspec": {
   "display_name": "Python 3 (ipykernel)",
   "language": "python",
   "name": "python3"
  },
  "language_info": {
   "codemirror_mode": {
    "name": "ipython",
    "version": 3
   },
   "file_extension": ".py",
   "mimetype": "text/x-python",
   "name": "python",
   "nbconvert_exporter": "python",
   "pygments_lexer": "ipython3",
   "version": "3.9.12"
  }
 },
 "nbformat": 4,
 "nbformat_minor": 5
}
