{
 "cells": [
  {
   "cell_type": "markdown",
   "id": "dfeb2b3e",
   "metadata": {},
   "source": [
    "1220. [S/W 문제해결 기본] 5일차 - Magnetic https://swexpertacademy.com/main/code/problem/problemDetail.do?problemLevel=3&contestProbId=AV14hwZqABsCFAYD&categoryId=AV14hwZqABsCFAYD&categoryType=CODE&problemTitle=&orderBy=RECOMMEND_COUNT&selectCodeLang=ALL&select-1=3&pageSize=10&pageIndex=2"
   ]
  },
  {
   "cell_type": "code",
   "execution_count": null,
   "id": "b8148fbc",
   "metadata": {
    "scrolled": true
   },
   "outputs": [],
   "source": [
    "for test_case in range(1, 11):\n",
    "    N = int(input())\n",
    "    graph = [input().split() for _ in range(N)]\n",
    "    cnt = 0\n",
    "    for j in range(N):\n",
    "        lst = []\n",
    "        for i in range(N):\n",
    "            if graph[i][j] != '0':\n",
    "                lst.append(graph[i][j])\n",
    "        lst = ''.join(lst).lstrip('2').rstrip('1')\n",
    "        for i in range(1, len(lst)):\n",
    "            if lst[i] == '2' and lst[i-1] == '1':\n",
    "                cnt+=1\n",
    "    print(f'#{test_case}',cnt)"
   ]
  }
 ],
 "metadata": {
  "kernelspec": {
   "display_name": "Python 3 (ipykernel)",
   "language": "python",
   "name": "python3"
  },
  "language_info": {
   "codemirror_mode": {
    "name": "ipython",
    "version": 3
   },
   "file_extension": ".py",
   "mimetype": "text/x-python",
   "name": "python",
   "nbconvert_exporter": "python",
   "pygments_lexer": "ipython3",
   "version": "3.9.7"
  }
 },
 "nbformat": 4,
 "nbformat_minor": 5
}
