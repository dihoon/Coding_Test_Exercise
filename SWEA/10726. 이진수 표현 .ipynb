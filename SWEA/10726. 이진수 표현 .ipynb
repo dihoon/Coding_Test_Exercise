{
 "cells": [
  {
   "cell_type": "markdown",
   "id": "1d29cc2b",
   "metadata": {},
   "source": [
    "이진수 표현 https://swexpertacademy.com/main/code/problem/problemDetail.do?problemLevel=3&contestProbId=AXRSXf_a9qsDFAXS&categoryId=AXRSXf_a9qsDFAXS&categoryType=CODE&problemTitle=&orderBy=PASS_RATE&selectCodeLang=PYTHON&select-1=3&pageSize=10&pageIndex=7&&&&&&&&&&"
   ]
  },
  {
   "cell_type": "code",
   "execution_count": 26,
   "id": "d24eeb57",
   "metadata": {},
   "outputs": [
    {
     "name": "stdout",
     "output_type": "stream",
     "text": [
      "5\n",
      "4 0\n",
      "#1 OFF\n",
      "4 30\n",
      "#2 OFF\n",
      "4 47\n",
      "#3 ON\n",
      "5 31\n",
      "#4 ON\n",
      "5 62\n",
      "#5 OFF\n"
     ]
    }
   ],
   "source": [
    "def toBinary(n):\n",
    "    lst = []\n",
    "    if n <= 1:\n",
    "        return [n]\n",
    "    \n",
    "    while (n != 1):\n",
    "        e = n % 2\n",
    "        n = n // 2\n",
    "        lst.append(e)\n",
    "    lst.append(n)\n",
    "    return list(reversed(lst))\n",
    "    \n",
    "for tc in range(1, int(input())+1):\n",
    "    N, M = map(int, input().split())\n",
    "    result = \"OFF\"\n",
    "    if toBinary(M)[-1:-N-1:-1].count(1) == N:\n",
    "        result = \"ON\"\n",
    "    print(f'#{tc} {result}')"
   ]
  },
  {
   "cell_type": "code",
   "execution_count": null,
   "id": "c1679cb7",
   "metadata": {},
   "outputs": [],
   "source": []
  }
 ],
 "metadata": {
  "kernelspec": {
   "display_name": "Python 3 (ipykernel)",
   "language": "python",
   "name": "python3"
  },
  "language_info": {
   "codemirror_mode": {
    "name": "ipython",
    "version": 3
   },
   "file_extension": ".py",
   "mimetype": "text/x-python",
   "name": "python",
   "nbconvert_exporter": "python",
   "pygments_lexer": "ipython3",
   "version": "3.9.12"
  }
 },
 "nbformat": 4,
 "nbformat_minor": 5
}
