{
 "cells": [
  {
   "cell_type": "markdown",
   "id": "6e65f319",
   "metadata": {},
   "source": [
    "반반 https://swexpertacademy.com/main/code/problem/problemDetail.do?problemLevel=3&contestProbId=AXjS1GXqZ8gDFATi&categoryId=AXjS1GXqZ8gDFATi&categoryType=CODE&problemTitle=&orderBy=PASS_RATE&selectCodeLang=PYTHON&select-1=3&pageSize=10&pageIndex=4"
   ]
  },
  {
   "cell_type": "code",
   "execution_count": 8,
   "id": "ce7e4524",
   "metadata": {},
   "outputs": [
    {
     "name": "stdout",
     "output_type": "stream",
     "text": [
      "5\n",
      "ABAB\n",
      "#1 Yes\n",
      "CCDD\n",
      "#2 Yes\n",
      "EFFE\n",
      "#3 Yes\n",
      "EEEE\n",
      "#4 No\n",
      "NONE\n",
      "#5 No\n"
     ]
    }
   ],
   "source": [
    "for tc in range(1, int(input())+1):\n",
    "    s = input()\n",
    "    result = 'No'\n",
    "    st = set(s)\n",
    "    if len(st) == 2:\n",
    "        a, b = st\n",
    "        if (s.count(a) == 2) and (s.count(b) == 2):\n",
    "            result = 'Yes'\n",
    "    print(f'#{tc}', result)"
   ]
  },
  {
   "cell_type": "code",
   "execution_count": null,
   "id": "efc98d02",
   "metadata": {},
   "outputs": [],
   "source": []
  }
 ],
 "metadata": {
  "kernelspec": {
   "display_name": "Python 3 (ipykernel)",
   "language": "python",
   "name": "python3"
  },
  "language_info": {
   "codemirror_mode": {
    "name": "ipython",
    "version": 3
   },
   "file_extension": ".py",
   "mimetype": "text/x-python",
   "name": "python",
   "nbconvert_exporter": "python",
   "pygments_lexer": "ipython3",
   "version": "3.9.12"
  }
 },
 "nbformat": 4,
 "nbformat_minor": 5
}
