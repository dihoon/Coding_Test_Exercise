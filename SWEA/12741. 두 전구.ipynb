{
 "cells": [
  {
   "cell_type": "markdown",
   "id": "a746a0bb",
   "metadata": {},
   "source": [
    "두 전구 https://swexpertacademy.com/main/code/problem/problemDetail.do?problemLevel=3&contestProbId=AXuUo_Tqs9kDFARa&categoryId=AXuUo_Tqs9kDFARa&categoryType=CODE&problemTitle=&orderBy=FIRST_REG_DATETIME&selectCodeLang=ALL&select-1=3&pageSize=10&pageIndex=1"
   ]
  },
  {
   "cell_type": "code",
   "execution_count": 2,
   "id": "1f7800c4",
   "metadata": {},
   "outputs": [
    {
     "name": "stdout",
     "output_type": "stream",
     "text": [
      "3\n",
      "1 3 5 7\n",
      "#1 0\n",
      "0 5 2 4\n",
      "#2 2\n",
      "0 5 1 6\n",
      "#3 4\n"
     ]
    }
   ],
   "source": [
    "for test_case in range(1, int(input())+1):\n",
    "    s1, e1, s2, e2 = map(int, input().split())\n",
    "    if e1 < s2 or e2 <s1: # 점등 안 겹치는 경우\n",
    "        result = 0\n",
    "    else:\n",
    "        if s1 <= s2: # 앞이 더 빨리 켜진 경우\n",
    "            result = (min([e1, e2]) - s2)\n",
    "        else: # 뒤가 더 빨리 켜진 경우\n",
    "           \tresult = (min([e1, e2]) - s1)\n",
    "    print(f'#{test_case}', result)"
   ]
  },
  {
   "cell_type": "markdown",
   "id": "ceecc4b3",
   "metadata": {},
   "source": [
    "위와 같이 입력과 출력이 반복되는 경우 실행 시간 초과 문제가 발생하였다. \n",
    "아래와 같이 입력을 한 번에 받고 출력을 한 번에 하는 것이 실행 시간이 적게 걸렸다."
   ]
  },
  {
   "cell_type": "code",
   "execution_count": 3,
   "id": "cee9be3b",
   "metadata": {},
   "outputs": [
    {
     "name": "stdout",
     "output_type": "stream",
     "text": [
      "3\n",
      "1 3 5 7\n",
      "0 5 2 4\n",
      "0 5 1 6\n",
      "#1 0\n",
      "#2 2\n",
      "#3 4\n"
     ]
    }
   ],
   "source": [
    "result = []\n",
    "for test_case in range(1, int(input())+1):\n",
    "    s1, e1, s2, e2 = map(int, input().split())\n",
    "    if e1 < s2 or e2 <s1:\n",
    "        result.append(0)\n",
    "    else:\n",
    "        if s1 <= s2:\n",
    "            result.append((min([e1, e2]) - s2))\n",
    "        else:\n",
    "           \tresult.append((min([e1, e2]) - s1))\n",
    "\n",
    "for i in range(len(result)):\n",
    "    print(f'#{i+1}', result[i])"
   ]
  },
  {
   "cell_type": "code",
   "execution_count": null,
   "id": "c6f8a40b",
   "metadata": {},
   "outputs": [],
   "source": []
  }
 ],
 "metadata": {
  "kernelspec": {
   "display_name": "Python 3 (ipykernel)",
   "language": "python",
   "name": "python3"
  },
  "language_info": {
   "codemirror_mode": {
    "name": "ipython",
    "version": 3
   },
   "file_extension": ".py",
   "mimetype": "text/x-python",
   "name": "python",
   "nbconvert_exporter": "python",
   "pygments_lexer": "ipython3",
   "version": "3.9.7"
  }
 },
 "nbformat": 4,
 "nbformat_minor": 5
}
